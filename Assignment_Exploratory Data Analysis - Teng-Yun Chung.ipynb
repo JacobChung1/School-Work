{
 "cells": [
  {
   "cell_type": "markdown",
   "metadata": {},
   "source": [
    "# Individual Assignment. Exploratory Data Analysis\n",
    "\n",
    "\n",
    "\n",
    "\n",
    "\n",
    "In part 1 of this assignment, we will focus on exploratory data analysis of stock prices. Keep in mind, this assignment is just meant to practice your visualization and pandas skills, it is not meant to be a robust financial analysis or be taken as financial advice.\n",
    "____\n",
    "** NOTE: This project is challenging and you have to look things up on your own to try to solve the tasks issued. **\n",
    "____\n",
    "We'll focus on bank stocks and see how they progressed throughout the [financial crisis](https://en.wikipedia.org/wiki/Financial_crisis_of_2007%E2%80%9308) all the way to early 2017."
   ]
  },
  {
   "cell_type": "markdown",
   "metadata": {},
   "source": [
    "## BANA 212 Section B\n",
    "## Teng-Yun Chung\n",
    "## Student ID: 92443989\n",
    "## Study Group - Yuan Liu, Takakao Suzuki, Kuang (Steven) Li"
   ]
  },
  {
   "cell_type": "markdown",
   "metadata": {},
   "source": [
    "# Part 1\n",
    "\n",
    "\n",
    "## Get the Data\n",
    "\n",
    "In this section we will learn how to use pandas to directly read data from Yahoo finance using pandas!\n",
    "\n",
    "First we need to start with the proper imports, which we've already laid out for you here.\n",
    "\n",
    "*Note: [You'll need to install pandas-datareader for this to work!](https://github.com/pydata/pandas-datareader) Pandas datareader allows you to [read stock information directly from the internet](http://pandas.pydata.org/pandas-docs/stable/remote_data.html) Use these links for install guidance (**pip install pandas-datareader**).*\n",
    "\n",
    "### The Imports\n"
   ]
  },
  {
   "cell_type": "code",
   "execution_count": 73,
   "metadata": {},
   "outputs": [],
   "source": [
    "# !pip install pandas-datareader\n",
    "# !pip install --upgrade pandas\n",
    "import pandas as pd\n",
    "import numpy as np\n",
    "pd.core.common.is_list_like = pd.api.types.is_list_like\n",
    "from pandas_datareader import data, wb\n",
    "\n",
    "import datetime\n",
    "%matplotlib inline"
   ]
  },
  {
   "cell_type": "markdown",
   "metadata": {},
   "source": [
    "## Data\n",
    "\n",
    "We need to get data using pandas datareader. We will get stock information for the following banks:\n",
    "*  Bank of America\n",
    "* CitiGroup\n",
    "* Goldman Sachs\n",
    "* JPMorgan Chase\n",
    "* Morgan Stanley\n",
    "* Wells Fargo\n",
    "\n",
    "** Figure out how to get the stock data from Jan 1st 2016 to Jan 1st 2017 for each of these banks. Set each bank to be a separate dataframe, with the variable name for that bank being its ticker symbol. This will involve a few steps:**\n",
    "1. Use datetime to set start and end datetime objects.\n",
    "2. Figure out the ticker symbol for each bank.\n",
    "2. Figure out how to use datareader to grab info on the stock.\n",
    "\n",
    "** Use [this documentation page](https://pandas-datareader.readthedocs.io/en/latest/) for hints and instructions (it should just be a matter of replacing certain values. Use google finance as a source, for example:**\n",
    "    \n",
    "    # Bank of America\n",
    "    BAC = data.DataReader(\"BAC\", 'google', start, end)\n"
   ]
  },
  {
   "cell_type": "code",
   "execution_count": 4,
   "metadata": {},
   "outputs": [],
   "source": [
    "start = datetime.datetime(2016, 1, 1)\n",
    "end = datetime.datetime(2017, 1, 1)"
   ]
  },
  {
   "cell_type": "code",
   "execution_count": 5,
   "metadata": {},
   "outputs": [],
   "source": [
    "# Bank of America\n",
    "BAC = data.DataReader(\"BAC\", 'yahoo', start, end)\n",
    "\n",
    "# CitiGroup\n",
    "C = data.DataReader(\"C\", 'yahoo', start, end)\n",
    "\n",
    "# Goldman Sachs\n",
    "GS = data.DataReader(\"GS\", 'yahoo', start, end)\n",
    "\n",
    "# JPMorgan Chase\n",
    "JPM = data.DataReader(\"JPM\", 'yahoo', start, end)\n",
    "\n",
    "# Morgan Stanley\n",
    "MS = data.DataReader(\"MS\", 'yahoo', start, end)\n",
    "\n",
    "# Wells Fargo\n",
    "WFC = data.DataReader(\"WFC\", 'yahoo', start, end)"
   ]
  },
  {
   "cell_type": "code",
   "execution_count": 6,
   "metadata": {},
   "outputs": [
    {
     "data": {
      "text/html": [
       "<div>\n",
       "<style scoped>\n",
       "    .dataframe tbody tr th:only-of-type {\n",
       "        vertical-align: middle;\n",
       "    }\n",
       "\n",
       "    .dataframe tbody tr th {\n",
       "        vertical-align: top;\n",
       "    }\n",
       "\n",
       "    .dataframe thead th {\n",
       "        text-align: right;\n",
       "    }\n",
       "</style>\n",
       "<table border=\"1\" class=\"dataframe\">\n",
       "  <thead>\n",
       "    <tr style=\"text-align: right;\">\n",
       "      <th></th>\n",
       "      <th>Close</th>\n",
       "    </tr>\n",
       "    <tr>\n",
       "      <th>Date</th>\n",
       "      <th></th>\n",
       "    </tr>\n",
       "  </thead>\n",
       "  <tbody>\n",
       "    <tr>\n",
       "      <th>2016-01-04</th>\n",
       "      <td>52.910000</td>\n",
       "    </tr>\n",
       "    <tr>\n",
       "      <th>2016-01-05</th>\n",
       "      <td>52.889999</td>\n",
       "    </tr>\n",
       "    <tr>\n",
       "      <th>2016-01-06</th>\n",
       "      <td>51.880001</td>\n",
       "    </tr>\n",
       "    <tr>\n",
       "      <th>2016-01-07</th>\n",
       "      <td>50.400002</td>\n",
       "    </tr>\n",
       "    <tr>\n",
       "      <th>2016-01-08</th>\n",
       "      <td>49.560001</td>\n",
       "    </tr>\n",
       "    <tr>\n",
       "      <th>...</th>\n",
       "      <td>...</td>\n",
       "    </tr>\n",
       "    <tr>\n",
       "      <th>2016-12-23</th>\n",
       "      <td>55.959999</td>\n",
       "    </tr>\n",
       "    <tr>\n",
       "      <th>2016-12-27</th>\n",
       "      <td>55.950001</td>\n",
       "    </tr>\n",
       "    <tr>\n",
       "      <th>2016-12-28</th>\n",
       "      <td>55.320000</td>\n",
       "    </tr>\n",
       "    <tr>\n",
       "      <th>2016-12-29</th>\n",
       "      <td>54.840000</td>\n",
       "    </tr>\n",
       "    <tr>\n",
       "      <th>2016-12-30</th>\n",
       "      <td>55.110001</td>\n",
       "    </tr>\n",
       "  </tbody>\n",
       "</table>\n",
       "<p>252 rows × 1 columns</p>\n",
       "</div>"
      ],
      "text/plain": [
       "                Close\n",
       "Date                 \n",
       "2016-01-04  52.910000\n",
       "2016-01-05  52.889999\n",
       "2016-01-06  51.880001\n",
       "2016-01-07  50.400002\n",
       "2016-01-08  49.560001\n",
       "...               ...\n",
       "2016-12-23  55.959999\n",
       "2016-12-27  55.950001\n",
       "2016-12-28  55.320000\n",
       "2016-12-29  54.840000\n",
       "2016-12-30  55.110001\n",
       "\n",
       "[252 rows x 1 columns]"
      ]
     },
     "execution_count": 6,
     "metadata": {},
     "output_type": "execute_result"
    }
   ],
   "source": [
    "WFC[['Close']]"
   ]
  },
  {
   "cell_type": "code",
   "execution_count": 107,
   "metadata": {},
   "outputs": [
    {
     "data": {
      "text/plain": [
       "2016-09-08    1\n",
       "2016-03-08    1\n",
       "2016-07-07    1\n",
       "2016-09-07    1\n",
       "2016-11-08    1\n",
       "             ..\n",
       "2016-06-08    1\n",
       "2016-08-09    1\n",
       "2016-09-09    1\n",
       "2016-10-10    1\n",
       "2016-08-08    1\n",
       "Name: Date, Length: 252, dtype: int64"
      ]
     },
     "execution_count": 107,
     "metadata": {},
     "output_type": "execute_result"
    }
   ],
   "source": [
    "# WFC.reset_index(inplace=True)\n",
    "# WFC[\"Date\"].value_counts()"
   ]
  },
  {
   "cell_type": "code",
   "execution_count": 7,
   "metadata": {},
   "outputs": [
    {
     "data": {
      "text/html": [
       "<div>\n",
       "<style scoped>\n",
       "    .dataframe tbody tr th:only-of-type {\n",
       "        vertical-align: middle;\n",
       "    }\n",
       "\n",
       "    .dataframe tbody tr th {\n",
       "        vertical-align: top;\n",
       "    }\n",
       "\n",
       "    .dataframe thead tr th {\n",
       "        text-align: left;\n",
       "    }\n",
       "\n",
       "    .dataframe thead tr:last-of-type th {\n",
       "        text-align: right;\n",
       "    }\n",
       "</style>\n",
       "<table border=\"1\" class=\"dataframe\">\n",
       "  <thead>\n",
       "    <tr>\n",
       "      <th>Attributes</th>\n",
       "      <th colspan=\"6\" halign=\"left\">Adj Close</th>\n",
       "      <th colspan=\"4\" halign=\"left\">Close</th>\n",
       "      <th>...</th>\n",
       "      <th colspan=\"4\" halign=\"left\">Open</th>\n",
       "      <th colspan=\"6\" halign=\"left\">Volume</th>\n",
       "    </tr>\n",
       "    <tr>\n",
       "      <th>Symbols</th>\n",
       "      <th>BAC</th>\n",
       "      <th>C</th>\n",
       "      <th>GS</th>\n",
       "      <th>JPM</th>\n",
       "      <th>MS</th>\n",
       "      <th>WFC</th>\n",
       "      <th>BAC</th>\n",
       "      <th>C</th>\n",
       "      <th>GS</th>\n",
       "      <th>JPM</th>\n",
       "      <th>...</th>\n",
       "      <th>GS</th>\n",
       "      <th>JPM</th>\n",
       "      <th>MS</th>\n",
       "      <th>WFC</th>\n",
       "      <th>BAC</th>\n",
       "      <th>C</th>\n",
       "      <th>GS</th>\n",
       "      <th>JPM</th>\n",
       "      <th>MS</th>\n",
       "      <th>WFC</th>\n",
       "    </tr>\n",
       "    <tr>\n",
       "      <th>Date</th>\n",
       "      <th></th>\n",
       "      <th></th>\n",
       "      <th></th>\n",
       "      <th></th>\n",
       "      <th></th>\n",
       "      <th></th>\n",
       "      <th></th>\n",
       "      <th></th>\n",
       "      <th></th>\n",
       "      <th></th>\n",
       "      <th></th>\n",
       "      <th></th>\n",
       "      <th></th>\n",
       "      <th></th>\n",
       "      <th></th>\n",
       "      <th></th>\n",
       "      <th></th>\n",
       "      <th></th>\n",
       "      <th></th>\n",
       "      <th></th>\n",
       "      <th></th>\n",
       "    </tr>\n",
       "  </thead>\n",
       "  <tbody>\n",
       "    <tr>\n",
       "      <th>2016-01-04</th>\n",
       "      <td>15.373302</td>\n",
       "      <td>47.502300</td>\n",
       "      <td>167.424698</td>\n",
       "      <td>57.331673</td>\n",
       "      <td>28.655018</td>\n",
       "      <td>46.564404</td>\n",
       "      <td>16.430000</td>\n",
       "      <td>51.130001</td>\n",
       "      <td>177.139999</td>\n",
       "      <td>63.619999</td>\n",
       "      <td>...</td>\n",
       "      <td>175.789993</td>\n",
       "      <td>63.950001</td>\n",
       "      <td>30.700001</td>\n",
       "      <td>53.090000</td>\n",
       "      <td>114888000.0</td>\n",
       "      <td>23440200.0</td>\n",
       "      <td>3745500.0</td>\n",
       "      <td>25393200.0</td>\n",
       "      <td>15749200.0</td>\n",
       "      <td>25985400.0</td>\n",
       "    </tr>\n",
       "    <tr>\n",
       "      <th>2016-01-05</th>\n",
       "      <td>15.373302</td>\n",
       "      <td>47.251461</td>\n",
       "      <td>164.541977</td>\n",
       "      <td>57.430794</td>\n",
       "      <td>28.472967</td>\n",
       "      <td>46.546799</td>\n",
       "      <td>16.430000</td>\n",
       "      <td>50.860001</td>\n",
       "      <td>174.089996</td>\n",
       "      <td>63.730000</td>\n",
       "      <td>...</td>\n",
       "      <td>176.710007</td>\n",
       "      <td>63.700001</td>\n",
       "      <td>31.480000</td>\n",
       "      <td>52.930000</td>\n",
       "      <td>66670000.0</td>\n",
       "      <td>17444900.0</td>\n",
       "      <td>4521600.0</td>\n",
       "      <td>16566700.0</td>\n",
       "      <td>9850500.0</td>\n",
       "      <td>14759600.0</td>\n",
       "    </tr>\n",
       "    <tr>\n",
       "      <th>2016-01-06</th>\n",
       "      <td>15.045812</td>\n",
       "      <td>46.563961</td>\n",
       "      <td>160.525070</td>\n",
       "      <td>56.601742</td>\n",
       "      <td>27.762959</td>\n",
       "      <td>45.657928</td>\n",
       "      <td>16.080000</td>\n",
       "      <td>50.119999</td>\n",
       "      <td>169.839996</td>\n",
       "      <td>62.810001</td>\n",
       "      <td>...</td>\n",
       "      <td>171.309998</td>\n",
       "      <td>62.720001</td>\n",
       "      <td>30.629999</td>\n",
       "      <td>52.119999</td>\n",
       "      <td>102760800.0</td>\n",
       "      <td>22501800.0</td>\n",
       "      <td>5539400.0</td>\n",
       "      <td>22961500.0</td>\n",
       "      <td>13057400.0</td>\n",
       "      <td>20026400.0</td>\n",
       "    </tr>\n",
       "    <tr>\n",
       "      <th>2016-01-07</th>\n",
       "      <td>14.503113</td>\n",
       "      <td>44.185600</td>\n",
       "      <td>155.591339</td>\n",
       "      <td>54.312798</td>\n",
       "      <td>26.379364</td>\n",
       "      <td>44.355438</td>\n",
       "      <td>15.500000</td>\n",
       "      <td>47.560001</td>\n",
       "      <td>164.619995</td>\n",
       "      <td>60.270000</td>\n",
       "      <td>...</td>\n",
       "      <td>166.669998</td>\n",
       "      <td>61.459999</td>\n",
       "      <td>29.879999</td>\n",
       "      <td>51.009998</td>\n",
       "      <td>116255900.0</td>\n",
       "      <td>37902900.0</td>\n",
       "      <td>5687900.0</td>\n",
       "      <td>27630900.0</td>\n",
       "      <td>18138200.0</td>\n",
       "      <td>30425600.0</td>\n",
       "    </tr>\n",
       "    <tr>\n",
       "      <th>2016-01-08</th>\n",
       "      <td>14.222406</td>\n",
       "      <td>42.857063</td>\n",
       "      <td>154.948654</td>\n",
       "      <td>53.096230</td>\n",
       "      <td>25.833206</td>\n",
       "      <td>43.616177</td>\n",
       "      <td>15.200000</td>\n",
       "      <td>46.130001</td>\n",
       "      <td>163.940002</td>\n",
       "      <td>58.919998</td>\n",
       "      <td>...</td>\n",
       "      <td>166.750000</td>\n",
       "      <td>61.130001</td>\n",
       "      <td>29.410000</td>\n",
       "      <td>50.799999</td>\n",
       "      <td>124782400.0</td>\n",
       "      <td>30643000.0</td>\n",
       "      <td>4929800.0</td>\n",
       "      <td>22373300.0</td>\n",
       "      <td>15295600.0</td>\n",
       "      <td>22981400.0</td>\n",
       "    </tr>\n",
       "    <tr>\n",
       "      <th>...</th>\n",
       "      <td>...</td>\n",
       "      <td>...</td>\n",
       "      <td>...</td>\n",
       "      <td>...</td>\n",
       "      <td>...</td>\n",
       "      <td>...</td>\n",
       "      <td>...</td>\n",
       "      <td>...</td>\n",
       "      <td>...</td>\n",
       "      <td>...</td>\n",
       "      <td>...</td>\n",
       "      <td>...</td>\n",
       "      <td>...</td>\n",
       "      <td>...</td>\n",
       "      <td>...</td>\n",
       "      <td>...</td>\n",
       "      <td>...</td>\n",
       "      <td>...</td>\n",
       "      <td>...</td>\n",
       "      <td>...</td>\n",
       "      <td>...</td>\n",
       "    </tr>\n",
       "    <tr>\n",
       "      <th>2016-12-23</th>\n",
       "      <td>21.477459</td>\n",
       "      <td>57.187084</td>\n",
       "      <td>231.294006</td>\n",
       "      <td>80.220718</td>\n",
       "      <td>40.155926</td>\n",
       "      <td>50.831436</td>\n",
       "      <td>22.600000</td>\n",
       "      <td>60.990002</td>\n",
       "      <td>240.970001</td>\n",
       "      <td>87.050003</td>\n",
       "      <td>...</td>\n",
       "      <td>239.539993</td>\n",
       "      <td>87.000000</td>\n",
       "      <td>42.860001</td>\n",
       "      <td>55.779999</td>\n",
       "      <td>38187800.0</td>\n",
       "      <td>9314000.0</td>\n",
       "      <td>2187500.0</td>\n",
       "      <td>10759400.0</td>\n",
       "      <td>6733000.0</td>\n",
       "      <td>8313000.0</td>\n",
       "    </tr>\n",
       "    <tr>\n",
       "      <th>2016-12-27</th>\n",
       "      <td>21.486963</td>\n",
       "      <td>57.280842</td>\n",
       "      <td>231.860291</td>\n",
       "      <td>80.294456</td>\n",
       "      <td>40.211868</td>\n",
       "      <td>50.822350</td>\n",
       "      <td>22.610001</td>\n",
       "      <td>61.090000</td>\n",
       "      <td>241.559998</td>\n",
       "      <td>87.129997</td>\n",
       "      <td>...</td>\n",
       "      <td>241.949997</td>\n",
       "      <td>87.050003</td>\n",
       "      <td>43.270000</td>\n",
       "      <td>55.900002</td>\n",
       "      <td>39988600.0</td>\n",
       "      <td>9544000.0</td>\n",
       "      <td>1998200.0</td>\n",
       "      <td>6946400.0</td>\n",
       "      <td>5927000.0</td>\n",
       "      <td>8893900.0</td>\n",
       "    </tr>\n",
       "    <tr>\n",
       "      <th>2016-12-28</th>\n",
       "      <td>21.220873</td>\n",
       "      <td>56.296318</td>\n",
       "      <td>230.986847</td>\n",
       "      <td>79.713867</td>\n",
       "      <td>39.745598</td>\n",
       "      <td>50.250080</td>\n",
       "      <td>22.330000</td>\n",
       "      <td>60.040001</td>\n",
       "      <td>240.649994</td>\n",
       "      <td>86.500000</td>\n",
       "      <td>...</td>\n",
       "      <td>243.690002</td>\n",
       "      <td>87.160004</td>\n",
       "      <td>43.250000</td>\n",
       "      <td>55.980000</td>\n",
       "      <td>52652900.0</td>\n",
       "      <td>17127400.0</td>\n",
       "      <td>3053000.0</td>\n",
       "      <td>9455600.0</td>\n",
       "      <td>4854500.0</td>\n",
       "      <td>10609100.0</td>\n",
       "    </tr>\n",
       "    <tr>\n",
       "      <th>2016-12-29</th>\n",
       "      <td>20.907263</td>\n",
       "      <td>55.677467</td>\n",
       "      <td>228.616043</td>\n",
       "      <td>79.151733</td>\n",
       "      <td>39.307293</td>\n",
       "      <td>49.814072</td>\n",
       "      <td>22.000000</td>\n",
       "      <td>59.380001</td>\n",
       "      <td>238.179993</td>\n",
       "      <td>85.889999</td>\n",
       "      <td>...</td>\n",
       "      <td>240.750000</td>\n",
       "      <td>86.580002</td>\n",
       "      <td>42.650002</td>\n",
       "      <td>55.189999</td>\n",
       "      <td>79188400.0</td>\n",
       "      <td>17121200.0</td>\n",
       "      <td>2619000.0</td>\n",
       "      <td>14689000.0</td>\n",
       "      <td>7180200.0</td>\n",
       "      <td>15933500.0</td>\n",
       "    </tr>\n",
       "    <tr>\n",
       "      <th>2016-12-30</th>\n",
       "      <td>21.002296</td>\n",
       "      <td>55.724358</td>\n",
       "      <td>229.835037</td>\n",
       "      <td>79.520355</td>\n",
       "      <td>39.400547</td>\n",
       "      <td>50.059334</td>\n",
       "      <td>22.100000</td>\n",
       "      <td>59.430000</td>\n",
       "      <td>239.449997</td>\n",
       "      <td>86.290001</td>\n",
       "      <td>...</td>\n",
       "      <td>238.509995</td>\n",
       "      <td>86.099998</td>\n",
       "      <td>42.169998</td>\n",
       "      <td>54.889999</td>\n",
       "      <td>72605900.0</td>\n",
       "      <td>16588500.0</td>\n",
       "      <td>2355500.0</td>\n",
       "      <td>13617800.0</td>\n",
       "      <td>6943500.0</td>\n",
       "      <td>15095500.0</td>\n",
       "    </tr>\n",
       "  </tbody>\n",
       "</table>\n",
       "<p>252 rows × 36 columns</p>\n",
       "</div>"
      ],
      "text/plain": [
       "Attributes  Adj Close                                                          \\\n",
       "Symbols           BAC          C          GS        JPM         MS        WFC   \n",
       "Date                                                                            \n",
       "2016-01-04  15.373302  47.502300  167.424698  57.331673  28.655018  46.564404   \n",
       "2016-01-05  15.373302  47.251461  164.541977  57.430794  28.472967  46.546799   \n",
       "2016-01-06  15.045812  46.563961  160.525070  56.601742  27.762959  45.657928   \n",
       "2016-01-07  14.503113  44.185600  155.591339  54.312798  26.379364  44.355438   \n",
       "2016-01-08  14.222406  42.857063  154.948654  53.096230  25.833206  43.616177   \n",
       "...               ...        ...         ...        ...        ...        ...   \n",
       "2016-12-23  21.477459  57.187084  231.294006  80.220718  40.155926  50.831436   \n",
       "2016-12-27  21.486963  57.280842  231.860291  80.294456  40.211868  50.822350   \n",
       "2016-12-28  21.220873  56.296318  230.986847  79.713867  39.745598  50.250080   \n",
       "2016-12-29  20.907263  55.677467  228.616043  79.151733  39.307293  49.814072   \n",
       "2016-12-30  21.002296  55.724358  229.835037  79.520355  39.400547  50.059334   \n",
       "\n",
       "Attributes      Close                                    ...        Open  \\\n",
       "Symbols           BAC          C          GS        JPM  ...          GS   \n",
       "Date                                                     ...               \n",
       "2016-01-04  16.430000  51.130001  177.139999  63.619999  ...  175.789993   \n",
       "2016-01-05  16.430000  50.860001  174.089996  63.730000  ...  176.710007   \n",
       "2016-01-06  16.080000  50.119999  169.839996  62.810001  ...  171.309998   \n",
       "2016-01-07  15.500000  47.560001  164.619995  60.270000  ...  166.669998   \n",
       "2016-01-08  15.200000  46.130001  163.940002  58.919998  ...  166.750000   \n",
       "...               ...        ...         ...        ...  ...         ...   \n",
       "2016-12-23  22.600000  60.990002  240.970001  87.050003  ...  239.539993   \n",
       "2016-12-27  22.610001  61.090000  241.559998  87.129997  ...  241.949997   \n",
       "2016-12-28  22.330000  60.040001  240.649994  86.500000  ...  243.690002   \n",
       "2016-12-29  22.000000  59.380001  238.179993  85.889999  ...  240.750000   \n",
       "2016-12-30  22.100000  59.430000  239.449997  86.290001  ...  238.509995   \n",
       "\n",
       "Attributes                                        Volume              \\\n",
       "Symbols           JPM         MS        WFC          BAC           C   \n",
       "Date                                                                   \n",
       "2016-01-04  63.950001  30.700001  53.090000  114888000.0  23440200.0   \n",
       "2016-01-05  63.700001  31.480000  52.930000   66670000.0  17444900.0   \n",
       "2016-01-06  62.720001  30.629999  52.119999  102760800.0  22501800.0   \n",
       "2016-01-07  61.459999  29.879999  51.009998  116255900.0  37902900.0   \n",
       "2016-01-08  61.130001  29.410000  50.799999  124782400.0  30643000.0   \n",
       "...               ...        ...        ...          ...         ...   \n",
       "2016-12-23  87.000000  42.860001  55.779999   38187800.0   9314000.0   \n",
       "2016-12-27  87.050003  43.270000  55.900002   39988600.0   9544000.0   \n",
       "2016-12-28  87.160004  43.250000  55.980000   52652900.0  17127400.0   \n",
       "2016-12-29  86.580002  42.650002  55.189999   79188400.0  17121200.0   \n",
       "2016-12-30  86.099998  42.169998  54.889999   72605900.0  16588500.0   \n",
       "\n",
       "Attributes                                                 \n",
       "Symbols            GS         JPM          MS         WFC  \n",
       "Date                                                       \n",
       "2016-01-04  3745500.0  25393200.0  15749200.0  25985400.0  \n",
       "2016-01-05  4521600.0  16566700.0   9850500.0  14759600.0  \n",
       "2016-01-06  5539400.0  22961500.0  13057400.0  20026400.0  \n",
       "2016-01-07  5687900.0  27630900.0  18138200.0  30425600.0  \n",
       "2016-01-08  4929800.0  22373300.0  15295600.0  22981400.0  \n",
       "...               ...         ...         ...         ...  \n",
       "2016-12-23  2187500.0  10759400.0   6733000.0   8313000.0  \n",
       "2016-12-27  1998200.0   6946400.0   5927000.0   8893900.0  \n",
       "2016-12-28  3053000.0   9455600.0   4854500.0  10609100.0  \n",
       "2016-12-29  2619000.0  14689000.0   7180200.0  15933500.0  \n",
       "2016-12-30  2355500.0  13617800.0   6943500.0  15095500.0  \n",
       "\n",
       "[252 rows x 36 columns]"
      ]
     },
     "execution_count": 7,
     "metadata": {},
     "output_type": "execute_result"
    }
   ],
   "source": [
    "# Could also do this for a Panel Object\n",
    "df = data.DataReader(['BAC', 'C', 'GS', 'JPM', 'MS', 'WFC'],'yahoo', start, end)\n",
    "df"
   ]
  },
  {
   "cell_type": "markdown",
   "metadata": {},
   "source": [
    "##### Add a Column_Company Name (this is filled out for you)"
   ]
  },
  {
   "cell_type": "code",
   "execution_count": 8,
   "metadata": {},
   "outputs": [],
   "source": [
    "BAC[\"Company\"]='BOA'\n",
    "C[\"Company\"]='Citi'\n",
    "GS[\"Company\"]='GoldmanSachs'\n",
    "JPM[\"Company\"]='JPMorgan'\n",
    "MS[\"Company\"]='MorganStanley'\n",
    "WFC[\"Company\"]='WellsFargo'"
   ]
  },
  {
   "cell_type": "code",
   "execution_count": 9,
   "metadata": {},
   "outputs": [
    {
     "data": {
      "text/html": [
       "<div>\n",
       "<style scoped>\n",
       "    .dataframe tbody tr th:only-of-type {\n",
       "        vertical-align: middle;\n",
       "    }\n",
       "\n",
       "    .dataframe tbody tr th {\n",
       "        vertical-align: top;\n",
       "    }\n",
       "\n",
       "    .dataframe thead tr th {\n",
       "        text-align: left;\n",
       "    }\n",
       "\n",
       "    .dataframe thead tr:last-of-type th {\n",
       "        text-align: right;\n",
       "    }\n",
       "</style>\n",
       "<table border=\"1\" class=\"dataframe\">\n",
       "  <thead>\n",
       "    <tr>\n",
       "      <th>Attributes</th>\n",
       "      <th colspan=\"6\" halign=\"left\">Adj Close</th>\n",
       "      <th colspan=\"4\" halign=\"left\">Close</th>\n",
       "      <th>...</th>\n",
       "      <th colspan=\"4\" halign=\"left\">Open</th>\n",
       "      <th colspan=\"6\" halign=\"left\">Volume</th>\n",
       "    </tr>\n",
       "    <tr>\n",
       "      <th>Symbols</th>\n",
       "      <th>BAC</th>\n",
       "      <th>C</th>\n",
       "      <th>GS</th>\n",
       "      <th>JPM</th>\n",
       "      <th>MS</th>\n",
       "      <th>WFC</th>\n",
       "      <th>BAC</th>\n",
       "      <th>C</th>\n",
       "      <th>GS</th>\n",
       "      <th>JPM</th>\n",
       "      <th>...</th>\n",
       "      <th>GS</th>\n",
       "      <th>JPM</th>\n",
       "      <th>MS</th>\n",
       "      <th>WFC</th>\n",
       "      <th>BAC</th>\n",
       "      <th>C</th>\n",
       "      <th>GS</th>\n",
       "      <th>JPM</th>\n",
       "      <th>MS</th>\n",
       "      <th>WFC</th>\n",
       "    </tr>\n",
       "    <tr>\n",
       "      <th>Date</th>\n",
       "      <th></th>\n",
       "      <th></th>\n",
       "      <th></th>\n",
       "      <th></th>\n",
       "      <th></th>\n",
       "      <th></th>\n",
       "      <th></th>\n",
       "      <th></th>\n",
       "      <th></th>\n",
       "      <th></th>\n",
       "      <th></th>\n",
       "      <th></th>\n",
       "      <th></th>\n",
       "      <th></th>\n",
       "      <th></th>\n",
       "      <th></th>\n",
       "      <th></th>\n",
       "      <th></th>\n",
       "      <th></th>\n",
       "      <th></th>\n",
       "      <th></th>\n",
       "    </tr>\n",
       "  </thead>\n",
       "  <tbody>\n",
       "    <tr>\n",
       "      <th>2016-01-04</th>\n",
       "      <td>15.373302</td>\n",
       "      <td>47.502300</td>\n",
       "      <td>167.424698</td>\n",
       "      <td>57.331673</td>\n",
       "      <td>28.655018</td>\n",
       "      <td>46.564404</td>\n",
       "      <td>16.43</td>\n",
       "      <td>51.130001</td>\n",
       "      <td>177.139999</td>\n",
       "      <td>63.619999</td>\n",
       "      <td>...</td>\n",
       "      <td>175.789993</td>\n",
       "      <td>63.950001</td>\n",
       "      <td>30.700001</td>\n",
       "      <td>53.090000</td>\n",
       "      <td>114888000.0</td>\n",
       "      <td>23440200.0</td>\n",
       "      <td>3745500.0</td>\n",
       "      <td>25393200.0</td>\n",
       "      <td>15749200.0</td>\n",
       "      <td>25985400.0</td>\n",
       "    </tr>\n",
       "    <tr>\n",
       "      <th>2016-01-05</th>\n",
       "      <td>15.373302</td>\n",
       "      <td>47.251461</td>\n",
       "      <td>164.541977</td>\n",
       "      <td>57.430794</td>\n",
       "      <td>28.472967</td>\n",
       "      <td>46.546799</td>\n",
       "      <td>16.43</td>\n",
       "      <td>50.860001</td>\n",
       "      <td>174.089996</td>\n",
       "      <td>63.730000</td>\n",
       "      <td>...</td>\n",
       "      <td>176.710007</td>\n",
       "      <td>63.700001</td>\n",
       "      <td>31.480000</td>\n",
       "      <td>52.930000</td>\n",
       "      <td>66670000.0</td>\n",
       "      <td>17444900.0</td>\n",
       "      <td>4521600.0</td>\n",
       "      <td>16566700.0</td>\n",
       "      <td>9850500.0</td>\n",
       "      <td>14759600.0</td>\n",
       "    </tr>\n",
       "    <tr>\n",
       "      <th>2016-01-06</th>\n",
       "      <td>15.045812</td>\n",
       "      <td>46.563961</td>\n",
       "      <td>160.525070</td>\n",
       "      <td>56.601742</td>\n",
       "      <td>27.762959</td>\n",
       "      <td>45.657928</td>\n",
       "      <td>16.08</td>\n",
       "      <td>50.119999</td>\n",
       "      <td>169.839996</td>\n",
       "      <td>62.810001</td>\n",
       "      <td>...</td>\n",
       "      <td>171.309998</td>\n",
       "      <td>62.720001</td>\n",
       "      <td>30.629999</td>\n",
       "      <td>52.119999</td>\n",
       "      <td>102760800.0</td>\n",
       "      <td>22501800.0</td>\n",
       "      <td>5539400.0</td>\n",
       "      <td>22961500.0</td>\n",
       "      <td>13057400.0</td>\n",
       "      <td>20026400.0</td>\n",
       "    </tr>\n",
       "    <tr>\n",
       "      <th>2016-01-07</th>\n",
       "      <td>14.503113</td>\n",
       "      <td>44.185600</td>\n",
       "      <td>155.591339</td>\n",
       "      <td>54.312798</td>\n",
       "      <td>26.379364</td>\n",
       "      <td>44.355438</td>\n",
       "      <td>15.50</td>\n",
       "      <td>47.560001</td>\n",
       "      <td>164.619995</td>\n",
       "      <td>60.270000</td>\n",
       "      <td>...</td>\n",
       "      <td>166.669998</td>\n",
       "      <td>61.459999</td>\n",
       "      <td>29.879999</td>\n",
       "      <td>51.009998</td>\n",
       "      <td>116255900.0</td>\n",
       "      <td>37902900.0</td>\n",
       "      <td>5687900.0</td>\n",
       "      <td>27630900.0</td>\n",
       "      <td>18138200.0</td>\n",
       "      <td>30425600.0</td>\n",
       "    </tr>\n",
       "    <tr>\n",
       "      <th>2016-01-08</th>\n",
       "      <td>14.222406</td>\n",
       "      <td>42.857063</td>\n",
       "      <td>154.948654</td>\n",
       "      <td>53.096230</td>\n",
       "      <td>25.833206</td>\n",
       "      <td>43.616177</td>\n",
       "      <td>15.20</td>\n",
       "      <td>46.130001</td>\n",
       "      <td>163.940002</td>\n",
       "      <td>58.919998</td>\n",
       "      <td>...</td>\n",
       "      <td>166.750000</td>\n",
       "      <td>61.130001</td>\n",
       "      <td>29.410000</td>\n",
       "      <td>50.799999</td>\n",
       "      <td>124782400.0</td>\n",
       "      <td>30643000.0</td>\n",
       "      <td>4929800.0</td>\n",
       "      <td>22373300.0</td>\n",
       "      <td>15295600.0</td>\n",
       "      <td>22981400.0</td>\n",
       "    </tr>\n",
       "  </tbody>\n",
       "</table>\n",
       "<p>5 rows × 36 columns</p>\n",
       "</div>"
      ],
      "text/plain": [
       "Attributes  Adj Close                                                          \\\n",
       "Symbols           BAC          C          GS        JPM         MS        WFC   \n",
       "Date                                                                            \n",
       "2016-01-04  15.373302  47.502300  167.424698  57.331673  28.655018  46.564404   \n",
       "2016-01-05  15.373302  47.251461  164.541977  57.430794  28.472967  46.546799   \n",
       "2016-01-06  15.045812  46.563961  160.525070  56.601742  27.762959  45.657928   \n",
       "2016-01-07  14.503113  44.185600  155.591339  54.312798  26.379364  44.355438   \n",
       "2016-01-08  14.222406  42.857063  154.948654  53.096230  25.833206  43.616177   \n",
       "\n",
       "Attributes  Close                                    ...        Open  \\\n",
       "Symbols       BAC          C          GS        JPM  ...          GS   \n",
       "Date                                                 ...               \n",
       "2016-01-04  16.43  51.130001  177.139999  63.619999  ...  175.789993   \n",
       "2016-01-05  16.43  50.860001  174.089996  63.730000  ...  176.710007   \n",
       "2016-01-06  16.08  50.119999  169.839996  62.810001  ...  171.309998   \n",
       "2016-01-07  15.50  47.560001  164.619995  60.270000  ...  166.669998   \n",
       "2016-01-08  15.20  46.130001  163.940002  58.919998  ...  166.750000   \n",
       "\n",
       "Attributes                                        Volume              \\\n",
       "Symbols           JPM         MS        WFC          BAC           C   \n",
       "Date                                                                   \n",
       "2016-01-04  63.950001  30.700001  53.090000  114888000.0  23440200.0   \n",
       "2016-01-05  63.700001  31.480000  52.930000   66670000.0  17444900.0   \n",
       "2016-01-06  62.720001  30.629999  52.119999  102760800.0  22501800.0   \n",
       "2016-01-07  61.459999  29.879999  51.009998  116255900.0  37902900.0   \n",
       "2016-01-08  61.130001  29.410000  50.799999  124782400.0  30643000.0   \n",
       "\n",
       "Attributes                                                 \n",
       "Symbols            GS         JPM          MS         WFC  \n",
       "Date                                                       \n",
       "2016-01-04  3745500.0  25393200.0  15749200.0  25985400.0  \n",
       "2016-01-05  4521600.0  16566700.0   9850500.0  14759600.0  \n",
       "2016-01-06  5539400.0  22961500.0  13057400.0  20026400.0  \n",
       "2016-01-07  5687900.0  27630900.0  18138200.0  30425600.0  \n",
       "2016-01-08  4929800.0  22373300.0  15295600.0  22981400.0  \n",
       "\n",
       "[5 rows x 36 columns]"
      ]
     },
     "execution_count": 9,
     "metadata": {},
     "output_type": "execute_result"
    }
   ],
   "source": [
    "df.head()"
   ]
  },
  {
   "cell_type": "markdown",
   "metadata": {},
   "source": [
    "##### Draw the closing prices of BAC"
   ]
  },
  {
   "cell_type": "code",
   "execution_count": 10,
   "metadata": {},
   "outputs": [
    {
     "name": "stderr",
     "output_type": "stream",
     "text": [
      "C:\\Users\\Cjaco\\Anaconda3\\lib\\site-packages\\pandas\\plotting\\_matplotlib\\converter.py:103: FutureWarning: Using an implicitly registered datetime converter for a matplotlib plotting method. The converter was registered by pandas on import. Future versions of pandas will require you to explicitly register matplotlib converters.\n",
      "\n",
      "To register the converters:\n",
      "\t>>> from pandas.plotting import register_matplotlib_converters\n",
      "\t>>> register_matplotlib_converters()\n",
      "  warnings.warn(msg, FutureWarning)\n"
     ]
    },
    {
     "data": {
      "text/plain": [
       "Text(0, 0.5, 'Close Price')"
      ]
     },
     "execution_count": 10,
     "metadata": {},
     "output_type": "execute_result"
    },
    {
     "data": {
      "image/png": "[encoded data removed]",
      "text/plain": [
       "<Figure size 432x288 with 1 Axes>"
      ]
     },
     "metadata": {},
     "output_type": "display_data"
    }
   ],
   "source": [
    "import matplotlib.pyplot as plt\n",
    "# your code here\n",
    "plt.style.use('ggplot')\n",
    "BAC[\"Close\"]\n",
    "plt.plot(BAC[\"Close\"],\"r\")\n",
    "plt.title(\"Bank of America\")\n",
    "plt.xlabel(\"Date\")\n",
    "plt.ylabel(\"Close Price\")"
   ]
  },
  {
   "cell_type": "markdown",
   "metadata": {},
   "source": [
    "##### Append all the data sets"
   ]
  },
  {
   "cell_type": "code",
   "execution_count": 11,
   "metadata": {},
   "outputs": [
    {
     "data": {
      "text/html": [
       "<div>\n",
       "<style scoped>\n",
       "    .dataframe tbody tr th:only-of-type {\n",
       "        vertical-align: middle;\n",
       "    }\n",
       "\n",
       "    .dataframe tbody tr th {\n",
       "        vertical-align: top;\n",
       "    }\n",
       "\n",
       "    .dataframe thead tr th {\n",
       "        text-align: left;\n",
       "    }\n",
       "\n",
       "    .dataframe thead tr:last-of-type th {\n",
       "        text-align: right;\n",
       "    }\n",
       "</style>\n",
       "<table border=\"1\" class=\"dataframe\">\n",
       "  <thead>\n",
       "    <tr>\n",
       "      <th>Tickers</th>\n",
       "      <th colspan=\"7\" halign=\"left\">BAC</th>\n",
       "      <th colspan=\"3\" halign=\"left\">C</th>\n",
       "      <th>...</th>\n",
       "      <th colspan=\"3\" halign=\"left\">MS</th>\n",
       "      <th colspan=\"7\" halign=\"left\">WFC</th>\n",
       "    </tr>\n",
       "    <tr>\n",
       "      <th>Stages</th>\n",
       "      <th>High</th>\n",
       "      <th>Low</th>\n",
       "      <th>Open</th>\n",
       "      <th>Close</th>\n",
       "      <th>Volume</th>\n",
       "      <th>Adj Close</th>\n",
       "      <th>Company</th>\n",
       "      <th>High</th>\n",
       "      <th>Low</th>\n",
       "      <th>Open</th>\n",
       "      <th>...</th>\n",
       "      <th>Volume</th>\n",
       "      <th>Adj Close</th>\n",
       "      <th>Company</th>\n",
       "      <th>High</th>\n",
       "      <th>Low</th>\n",
       "      <th>Open</th>\n",
       "      <th>Close</th>\n",
       "      <th>Volume</th>\n",
       "      <th>Adj Close</th>\n",
       "      <th>Company</th>\n",
       "    </tr>\n",
       "    <tr>\n",
       "      <th>Date</th>\n",
       "      <th></th>\n",
       "      <th></th>\n",
       "      <th></th>\n",
       "      <th></th>\n",
       "      <th></th>\n",
       "      <th></th>\n",
       "      <th></th>\n",
       "      <th></th>\n",
       "      <th></th>\n",
       "      <th></th>\n",
       "      <th></th>\n",
       "      <th></th>\n",
       "      <th></th>\n",
       "      <th></th>\n",
       "      <th></th>\n",
       "      <th></th>\n",
       "      <th></th>\n",
       "      <th></th>\n",
       "      <th></th>\n",
       "      <th></th>\n",
       "      <th></th>\n",
       "    </tr>\n",
       "  </thead>\n",
       "  <tbody>\n",
       "    <tr>\n",
       "      <th>2016-01-04</th>\n",
       "      <td>16.49</td>\n",
       "      <td>16.25</td>\n",
       "      <td>16.45</td>\n",
       "      <td>16.43</td>\n",
       "      <td>114888000.0</td>\n",
       "      <td>15.37</td>\n",
       "      <td>BOA</td>\n",
       "      <td>51.19</td>\n",
       "      <td>50.19</td>\n",
       "      <td>50.75</td>\n",
       "      <td>...</td>\n",
       "      <td>15749200.0</td>\n",
       "      <td>28.66</td>\n",
       "      <td>MorganStanley</td>\n",
       "      <td>53.27</td>\n",
       "      <td>52.30</td>\n",
       "      <td>53.09</td>\n",
       "      <td>52.91</td>\n",
       "      <td>25985400.0</td>\n",
       "      <td>46.56</td>\n",
       "      <td>WellsFargo</td>\n",
       "    </tr>\n",
       "    <tr>\n",
       "      <th>2016-01-05</th>\n",
       "      <td>16.59</td>\n",
       "      <td>16.23</td>\n",
       "      <td>16.52</td>\n",
       "      <td>16.43</td>\n",
       "      <td>66670000.0</td>\n",
       "      <td>15.37</td>\n",
       "      <td>BOA</td>\n",
       "      <td>51.61</td>\n",
       "      <td>50.41</td>\n",
       "      <td>51.54</td>\n",
       "      <td>...</td>\n",
       "      <td>9850500.0</td>\n",
       "      <td>28.47</td>\n",
       "      <td>MorganStanley</td>\n",
       "      <td>53.27</td>\n",
       "      <td>52.55</td>\n",
       "      <td>52.93</td>\n",
       "      <td>52.89</td>\n",
       "      <td>14759600.0</td>\n",
       "      <td>46.55</td>\n",
       "      <td>WellsFargo</td>\n",
       "    </tr>\n",
       "    <tr>\n",
       "      <th>2016-01-06</th>\n",
       "      <td>16.29</td>\n",
       "      <td>16.02</td>\n",
       "      <td>16.19</td>\n",
       "      <td>16.08</td>\n",
       "      <td>102760800.0</td>\n",
       "      <td>15.05</td>\n",
       "      <td>BOA</td>\n",
       "      <td>50.58</td>\n",
       "      <td>49.76</td>\n",
       "      <td>50.10</td>\n",
       "      <td>...</td>\n",
       "      <td>13057400.0</td>\n",
       "      <td>27.76</td>\n",
       "      <td>MorganStanley</td>\n",
       "      <td>52.62</td>\n",
       "      <td>51.83</td>\n",
       "      <td>52.12</td>\n",
       "      <td>51.88</td>\n",
       "      <td>20026400.0</td>\n",
       "      <td>45.66</td>\n",
       "      <td>WellsFargo</td>\n",
       "    </tr>\n",
       "    <tr>\n",
       "      <th>2016-01-07</th>\n",
       "      <td>15.90</td>\n",
       "      <td>15.44</td>\n",
       "      <td>15.73</td>\n",
       "      <td>15.50</td>\n",
       "      <td>116255900.0</td>\n",
       "      <td>14.50</td>\n",
       "      <td>BOA</td>\n",
       "      <td>49.38</td>\n",
       "      <td>47.50</td>\n",
       "      <td>49.07</td>\n",
       "      <td>...</td>\n",
       "      <td>18138200.0</td>\n",
       "      <td>26.38</td>\n",
       "      <td>MorganStanley</td>\n",
       "      <td>51.19</td>\n",
       "      <td>50.15</td>\n",
       "      <td>51.01</td>\n",
       "      <td>50.40</td>\n",
       "      <td>30425600.0</td>\n",
       "      <td>44.36</td>\n",
       "      <td>WellsFargo</td>\n",
       "    </tr>\n",
       "    <tr>\n",
       "      <th>2016-01-08</th>\n",
       "      <td>15.94</td>\n",
       "      <td>15.16</td>\n",
       "      <td>15.94</td>\n",
       "      <td>15.20</td>\n",
       "      <td>124782400.0</td>\n",
       "      <td>14.22</td>\n",
       "      <td>BOA</td>\n",
       "      <td>48.74</td>\n",
       "      <td>46.03</td>\n",
       "      <td>48.73</td>\n",
       "      <td>...</td>\n",
       "      <td>15295600.0</td>\n",
       "      <td>25.83</td>\n",
       "      <td>MorganStanley</td>\n",
       "      <td>50.86</td>\n",
       "      <td>49.46</td>\n",
       "      <td>50.80</td>\n",
       "      <td>49.56</td>\n",
       "      <td>22981400.0</td>\n",
       "      <td>43.62</td>\n",
       "      <td>WellsFargo</td>\n",
       "    </tr>\n",
       "    <tr>\n",
       "      <th>...</th>\n",
       "      <td>...</td>\n",
       "      <td>...</td>\n",
       "      <td>...</td>\n",
       "      <td>...</td>\n",
       "      <td>...</td>\n",
       "      <td>...</td>\n",
       "      <td>...</td>\n",
       "      <td>...</td>\n",
       "      <td>...</td>\n",
       "      <td>...</td>\n",
       "      <td>...</td>\n",
       "      <td>...</td>\n",
       "      <td>...</td>\n",
       "      <td>...</td>\n",
       "      <td>...</td>\n",
       "      <td>...</td>\n",
       "      <td>...</td>\n",
       "      <td>...</td>\n",
       "      <td>...</td>\n",
       "      <td>...</td>\n",
       "      <td>...</td>\n",
       "    </tr>\n",
       "    <tr>\n",
       "      <th>2016-12-23</th>\n",
       "      <td>22.65</td>\n",
       "      <td>22.43</td>\n",
       "      <td>22.51</td>\n",
       "      <td>22.60</td>\n",
       "      <td>38187800.0</td>\n",
       "      <td>21.48</td>\n",
       "      <td>BOA</td>\n",
       "      <td>61.00</td>\n",
       "      <td>60.38</td>\n",
       "      <td>60.53</td>\n",
       "      <td>...</td>\n",
       "      <td>6733000.0</td>\n",
       "      <td>40.16</td>\n",
       "      <td>MorganStanley</td>\n",
       "      <td>55.98</td>\n",
       "      <td>55.62</td>\n",
       "      <td>55.78</td>\n",
       "      <td>55.96</td>\n",
       "      <td>8313000.0</td>\n",
       "      <td>50.83</td>\n",
       "      <td>WellsFargo</td>\n",
       "    </tr>\n",
       "    <tr>\n",
       "      <th>2016-12-27</th>\n",
       "      <td>22.74</td>\n",
       "      <td>22.54</td>\n",
       "      <td>22.71</td>\n",
       "      <td>22.61</td>\n",
       "      <td>39988600.0</td>\n",
       "      <td>21.49</td>\n",
       "      <td>BOA</td>\n",
       "      <td>61.30</td>\n",
       "      <td>60.85</td>\n",
       "      <td>61.03</td>\n",
       "      <td>...</td>\n",
       "      <td>5927000.0</td>\n",
       "      <td>40.21</td>\n",
       "      <td>MorganStanley</td>\n",
       "      <td>56.10</td>\n",
       "      <td>55.84</td>\n",
       "      <td>55.90</td>\n",
       "      <td>55.95</td>\n",
       "      <td>8893900.0</td>\n",
       "      <td>50.82</td>\n",
       "      <td>WellsFargo</td>\n",
       "    </tr>\n",
       "    <tr>\n",
       "      <th>2016-12-28</th>\n",
       "      <td>22.67</td>\n",
       "      <td>22.26</td>\n",
       "      <td>22.62</td>\n",
       "      <td>22.33</td>\n",
       "      <td>52652900.0</td>\n",
       "      <td>21.22</td>\n",
       "      <td>BOA</td>\n",
       "      <td>61.20</td>\n",
       "      <td>59.98</td>\n",
       "      <td>61.00</td>\n",
       "      <td>...</td>\n",
       "      <td>4854500.0</td>\n",
       "      <td>39.75</td>\n",
       "      <td>MorganStanley</td>\n",
       "      <td>56.08</td>\n",
       "      <td>55.27</td>\n",
       "      <td>55.98</td>\n",
       "      <td>55.32</td>\n",
       "      <td>10609100.0</td>\n",
       "      <td>50.25</td>\n",
       "      <td>WellsFargo</td>\n",
       "    </tr>\n",
       "    <tr>\n",
       "      <th>2016-12-29</th>\n",
       "      <td>22.39</td>\n",
       "      <td>21.77</td>\n",
       "      <td>22.33</td>\n",
       "      <td>22.00</td>\n",
       "      <td>79188400.0</td>\n",
       "      <td>20.91</td>\n",
       "      <td>BOA</td>\n",
       "      <td>60.12</td>\n",
       "      <td>58.68</td>\n",
       "      <td>60.02</td>\n",
       "      <td>...</td>\n",
       "      <td>7180200.0</td>\n",
       "      <td>39.31</td>\n",
       "      <td>MorganStanley</td>\n",
       "      <td>55.46</td>\n",
       "      <td>54.48</td>\n",
       "      <td>55.19</td>\n",
       "      <td>54.84</td>\n",
       "      <td>15933500.0</td>\n",
       "      <td>49.81</td>\n",
       "      <td>WellsFargo</td>\n",
       "    </tr>\n",
       "    <tr>\n",
       "      <th>2016-12-30</th>\n",
       "      <td>22.26</td>\n",
       "      <td>21.95</td>\n",
       "      <td>22.02</td>\n",
       "      <td>22.10</td>\n",
       "      <td>72605900.0</td>\n",
       "      <td>21.00</td>\n",
       "      <td>BOA</td>\n",
       "      <td>59.80</td>\n",
       "      <td>59.19</td>\n",
       "      <td>59.50</td>\n",
       "      <td>...</td>\n",
       "      <td>6943500.0</td>\n",
       "      <td>39.40</td>\n",
       "      <td>MorganStanley</td>\n",
       "      <td>55.36</td>\n",
       "      <td>54.79</td>\n",
       "      <td>54.89</td>\n",
       "      <td>55.11</td>\n",
       "      <td>15095500.0</td>\n",
       "      <td>50.06</td>\n",
       "      <td>WellsFargo</td>\n",
       "    </tr>\n",
       "  </tbody>\n",
       "</table>\n",
       "<p>252 rows × 42 columns</p>\n",
       "</div>"
      ],
      "text/plain": [
       "Tickers       BAC                                                          C  \\\n",
       "Stages       High    Low   Open  Close       Volume Adj Close Company   High   \n",
       "Date                                                                           \n",
       "2016-01-04  16.49  16.25  16.45  16.43  114888000.0     15.37     BOA  51.19   \n",
       "2016-01-05  16.59  16.23  16.52  16.43   66670000.0     15.37     BOA  51.61   \n",
       "2016-01-06  16.29  16.02  16.19  16.08  102760800.0     15.05     BOA  50.58   \n",
       "2016-01-07  15.90  15.44  15.73  15.50  116255900.0     14.50     BOA  49.38   \n",
       "2016-01-08  15.94  15.16  15.94  15.20  124782400.0     14.22     BOA  48.74   \n",
       "...           ...    ...    ...    ...          ...       ...     ...    ...   \n",
       "2016-12-23  22.65  22.43  22.51  22.60   38187800.0     21.48     BOA  61.00   \n",
       "2016-12-27  22.74  22.54  22.71  22.61   39988600.0     21.49     BOA  61.30   \n",
       "2016-12-28  22.67  22.26  22.62  22.33   52652900.0     21.22     BOA  61.20   \n",
       "2016-12-29  22.39  21.77  22.33  22.00   79188400.0     20.91     BOA  60.12   \n",
       "2016-12-30  22.26  21.95  22.02  22.10   72605900.0     21.00     BOA  59.80   \n",
       "\n",
       "Tickers                   ...          MS                             WFC  \\\n",
       "Stages        Low   Open  ...      Volume Adj Close        Company   High   \n",
       "Date                      ...                                               \n",
       "2016-01-04  50.19  50.75  ...  15749200.0     28.66  MorganStanley  53.27   \n",
       "2016-01-05  50.41  51.54  ...   9850500.0     28.47  MorganStanley  53.27   \n",
       "2016-01-06  49.76  50.10  ...  13057400.0     27.76  MorganStanley  52.62   \n",
       "2016-01-07  47.50  49.07  ...  18138200.0     26.38  MorganStanley  51.19   \n",
       "2016-01-08  46.03  48.73  ...  15295600.0     25.83  MorganStanley  50.86   \n",
       "...           ...    ...  ...         ...       ...            ...    ...   \n",
       "2016-12-23  60.38  60.53  ...   6733000.0     40.16  MorganStanley  55.98   \n",
       "2016-12-27  60.85  61.03  ...   5927000.0     40.21  MorganStanley  56.10   \n",
       "2016-12-28  59.98  61.00  ...   4854500.0     39.75  MorganStanley  56.08   \n",
       "2016-12-29  58.68  60.02  ...   7180200.0     39.31  MorganStanley  55.46   \n",
       "2016-12-30  59.19  59.50  ...   6943500.0     39.40  MorganStanley  55.36   \n",
       "\n",
       "Tickers                                                            \n",
       "Stages        Low   Open  Close      Volume Adj Close     Company  \n",
       "Date                                                               \n",
       "2016-01-04  52.30  53.09  52.91  25985400.0     46.56  WellsFargo  \n",
       "2016-01-05  52.55  52.93  52.89  14759600.0     46.55  WellsFargo  \n",
       "2016-01-06  51.83  52.12  51.88  20026400.0     45.66  WellsFargo  \n",
       "2016-01-07  50.15  51.01  50.40  30425600.0     44.36  WellsFargo  \n",
       "2016-01-08  49.46  50.80  49.56  22981400.0     43.62  WellsFargo  \n",
       "...           ...    ...    ...         ...       ...         ...  \n",
       "2016-12-23  55.62  55.78  55.96   8313000.0     50.83  WellsFargo  \n",
       "2016-12-27  55.84  55.90  55.95   8893900.0     50.82  WellsFargo  \n",
       "2016-12-28  55.27  55.98  55.32  10609100.0     50.25  WellsFargo  \n",
       "2016-12-29  54.48  55.19  54.84  15933500.0     49.81  WellsFargo  \n",
       "2016-12-30  54.79  54.89  55.11  15095500.0     50.06  WellsFargo  \n",
       "\n",
       "[252 rows x 42 columns]"
      ]
     },
     "execution_count": 11,
     "metadata": {},
     "output_type": "execute_result"
    }
   ],
   "source": [
    "# your code here\n",
    "bank_list = ['BAC','C','GS','JPM','MS','WFC']\n",
    "bank_price = pd.concat([BAC,C,GS,JPM,MS,WFC], keys = bank_list, axis = 1)\n",
    "bank_price.columns.names = [\"Tickers\",\"Stages\"]\n",
    "bank_price.round(2)"
   ]
  },
  {
   "cell_type": "markdown",
   "metadata": {},
   "source": [
    "##### Derive the average closing price for each bank"
   ]
  },
  {
   "cell_type": "code",
   "execution_count": 12,
   "metadata": {},
   "outputs": [
    {
     "data": {
      "text/plain": [
       "Attributes  Symbols\n",
       "Close       BAC         15.43\n",
       "            C           46.39\n",
       "            GS         169.11\n",
       "            JPM         65.62\n",
       "            MS          29.85\n",
       "            WFC         48.96\n",
       "dtype: float64"
      ]
     },
     "execution_count": 12,
     "metadata": {},
     "output_type": "execute_result"
    }
   ],
   "source": [
    "# your code here\n",
    "average_closing = round(df[[\"Close\"]].mean(),2)\n",
    "average_closing"
   ]
  },
  {
   "cell_type": "code",
   "execution_count": 13,
   "metadata": {},
   "outputs": [
    {
     "data": {
      "text/plain": [
       "Tickers\n",
       "BAC     15.43\n",
       "C       46.39\n",
       "GS     169.11\n",
       "JPM     65.62\n",
       "MS      29.85\n",
       "WFC     48.96\n",
       "dtype: float64"
      ]
     },
     "execution_count": 13,
     "metadata": {},
     "output_type": "execute_result"
    }
   ],
   "source": [
    "average_closing = round(bank_price.xs(\"Close\",axis=1,level=1).mean(),2)\n",
    "average_closing"
   ]
  },
  {
   "cell_type": "markdown",
   "metadata": {},
   "source": [
    "##### Plot the average closing price for each bank using matplotlib or plotly and cufflinks\n"
   ]
  },
  {
   "cell_type": "code",
   "execution_count": 74,
   "metadata": {},
   "outputs": [
    {
     "data": {
      "text/html": [
       "        <script type=\"text/javascript\">\n",
       "        window.PlotlyConfig = {MathJaxConfig: 'local'};\n",
       "        if (window.MathJax) {MathJax.Hub.Config({SVG: {font: \"STIX-Web\"}});}\n",
       "        if (typeof require !== 'undefined') {\n",
       "        require.undef(\"plotly\");\n",
       "        requirejs.config({\n",
       "            paths: {\n",
       "                'plotly': ['https://cdn.plot.ly/plotly-latest.min']\n",
       "            }\n",
       "        });\n",
       "        require(['plotly'], function(Plotly) {\n",
       "            window._Plotly = Plotly;\n",
       "        });\n",
       "        }\n",
       "        </script>\n",
       "        "
      ]
     },
     "metadata": {},
     "output_type": "display_data"
    }
   ],
   "source": [
    "# your code here\n",
    "import plotly\n",
    "import cufflinks as cf\n",
    "from plotly import __version__\n",
    "from plotly.offline import download_plotlyjs, init_notebook_mode, plot, iplot\n",
    "cf.go_offline()"
   ]
  },
  {
   "cell_type": "code",
   "execution_count": 15,
   "metadata": {},
   "outputs": [
    {
     "data": {
      "text/plain": [
       "Text(0, 0.5, 'Average Close Price')"
      ]
     },
     "execution_count": 15,
     "metadata": {},
     "output_type": "execute_result"
    },
    {
     "data": {
      "image/png": "[encoded data removed]",
      "text/plain": [
       "<Figure size 432x288 with 1 Axes>"
      ]
     },
     "metadata": {},
     "output_type": "display_data"
    }
   ],
   "source": [
    "plt.style.use('ggplot')\n",
    "average_closing.plot(kind='bar')\n",
    "plt.title(\"Average Closing Price\")\n",
    "plt.xlabel(\"Date\")\n",
    "plt.ylabel(\"Average Close Price\")"
   ]
  },
  {
   "cell_type": "code",
   "execution_count": 16,
   "metadata": {},
   "outputs": [
    {
     "data": {
      "application/vnd.plotly.v1+json": {
       "config": {
        "linkText": "Export to plot.ly",
        "plotlyServerURL": "https://plot.ly",
        "showLink": true
       },
       "data": [
        {
         "marker": {
          "color": "rgba(255, 153, 51, 0.6)",
          "line": {
           "color": "rgba(255, 153, 51, 1.0)",
           "width": 1
          }
         },
         "name": "None",
         "orientation": "v",
         "text": "",
         "type": "bar",
         "x": [
          "BAC",
          "C",
          "GS",
          "JPM",
          "MS",
          "WFC"
         ],
         "y": [
          15.43,
          46.39,
          169.11,
          65.62,
          29.85,
          48.96
         ]
        }
       ],
       "layout": {
        "legend": {
         "bgcolor": "#F5F6F9",
         "font": {
          "color": "#4D5663"
         }
        },
        "paper_bgcolor": "#F5F6F9",
        "plot_bgcolor": "#F5F6F9",
        "template": {
         "data": {
          "bar": [
           {
            "error_x": {
             "color": "#2a3f5f"
            },
            "error_y": {
             "color": "#2a3f5f"
            },
            "marker": {
             "line": {
              "color": "#E5ECF6",
              "width": 0.5
             }
            },
            "type": "bar"
           }
          ],
          "barpolar": [
           {
            "marker": {
             "line": {
              "color": "#E5ECF6",
              "width": 0.5
             }
            },
            "type": "barpolar"
           }
          ],
          "carpet": [
           {
            "aaxis": {
             "endlinecolor": "#2a3f5f",
             "gridcolor": "white",
             "linecolor": "white",
             "minorgridcolor": "white",
             "startlinecolor": "#2a3f5f"
            },
            "baxis": {
             "endlinecolor": "#2a3f5f",
             "gridcolor": "white",
             "linecolor": "white",
             "minorgridcolor": "white",
             "startlinecolor": "#2a3f5f"
            },
            "type": "carpet"
           }
          ],
          "choropleth": [
           {
            "colorbar": {
             "outlinewidth": 0,
             "ticks": ""
            },
            "type": "choropleth"
           }
          ],
          "contour": [
           {
            "colorbar": {
             "outlinewidth": 0,
             "ticks": ""
            },
            "colorscale": [
             [
              0,
              "#0d0887"
             ],
             [
              0.1111111111111111,
              "#46039f"
             ],
             [
              0.2222222222222222,
              "#7201a8"
             ],
             [
              0.3333333333333333,
              "#9c179e"
             ],
             [
              0.4444444444444444,
              "#bd3786"
             ],
             [
              0.5555555555555556,
              "#d8576b"
             ],
             [
              0.6666666666666666,
              "#ed7953"
             ],
             [
              0.7777777777777778,
              "#fb9f3a"
             ],
             [
              0.8888888888888888,
              "#fdca26"
             ],
             [
              1,
              "#f0f921"
             ]
            ],
            "type": "contour"
           }
          ],
          "contourcarpet": [
           {
            "colorbar": {
             "outlinewidth": 0,
             "ticks": ""
            },
            "type": "contourcarpet"
           }
          ],
          "heatmap": [
           {
            "colorbar": {
             "outlinewidth": 0,
             "ticks": ""
            },
            "colorscale": [
             [
              0,
              "#0d0887"
             ],
             [
              0.1111111111111111,
              "#46039f"
             ],
             [
              0.2222222222222222,
              "#7201a8"
             ],
             [
              0.3333333333333333,
              "#9c179e"
             ],
             [
              0.4444444444444444,
              "#bd3786"
             ],
             [
              0.5555555555555556,
              "#d8576b"
             ],
             [
              0.6666666666666666,
              "#ed7953"
             ],
             [
              0.7777777777777778,
              "#fb9f3a"
             ],
             [
              0.8888888888888888,
              "#fdca26"
             ],
             [
              1,
              "#f0f921"
             ]
            ],
            "type": "heatmap"
           }
          ],
          "heatmapgl": [
           {
            "colorbar": {
             "outlinewidth": 0,
             "ticks": ""
            },
            "colorscale": [
             [
              0,
              "#0d0887"
             ],
             [
              0.1111111111111111,
              "#46039f"
             ],
             [
              0.2222222222222222,
              "#7201a8"
             ],
             [
              0.3333333333333333,
              "#9c179e"
             ],
             [
              0.4444444444444444,
              "#bd3786"
             ],
             [
              0.5555555555555556,
              "#d8576b"
             ],
             [
              0.6666666666666666,
              "#ed7953"
             ],
             [
              0.7777777777777778,
              "#fb9f3a"
             ],
             [
              0.8888888888888888,
              "#fdca26"
             ],
             [
              1,
              "#f0f921"
             ]
            ],
            "type": "heatmapgl"
           }
          ],
          "histogram": [
           {
            "marker": {
             "colorbar": {
              "outlinewidth": 0,
              "ticks": ""
             }
            },
            "type": "histogram"
           }
          ],
          "histogram2d": [
           {
            "colorbar": {
             "outlinewidth": 0,
             "ticks": ""
            },
            "colorscale": [
             [
              0,
              "#0d0887"
             ],
             [
              0.1111111111111111,
              "#46039f"
             ],
             [
              0.2222222222222222,
              "#7201a8"
             ],
             [
              0.3333333333333333,
              "#9c179e"
             ],
             [
              0.4444444444444444,
              "#bd3786"
             ],
             [
              0.5555555555555556,
              "#d8576b"
             ],
             [
              0.6666666666666666,
              "#ed7953"
             ],
             [
              0.7777777777777778,
              "#fb9f3a"
             ],
             [
              0.8888888888888888,
              "#fdca26"
             ],
             [
              1,
              "#f0f921"
             ]
            ],
            "type": "histogram2d"
           }
          ],
          "histogram2dcontour": [
           {
            "colorbar": {
             "outlinewidth": 0,
             "ticks": ""
            },
            "colorscale": [
             [
              0,
              "#0d0887"
             ],
             [
              0.1111111111111111,
              "#46039f"
             ],
             [
              0.2222222222222222,
              "#7201a8"
             ],
             [
              0.3333333333333333,
              "#9c179e"
             ],
             [
              0.4444444444444444,
              "#bd3786"
             ],
             [
              0.5555555555555556,
              "#d8576b"
             ],
             [
              0.6666666666666666,
              "#ed7953"
             ],
             [
              0.7777777777777778,
              "#fb9f3a"
             ],
             [
              0.8888888888888888,
              "#fdca26"
             ],
             [
              1,
              "#f0f921"
             ]
            ],
            "type": "histogram2dcontour"
           }
          ],
          "mesh3d": [
           {
            "colorbar": {
             "outlinewidth": 0,
             "ticks": ""
            },
            "type": "mesh3d"
           }
          ],
          "parcoords": [
           {
            "line": {
             "colorbar": {
              "outlinewidth": 0,
              "ticks": ""
             }
            },
            "type": "parcoords"
           }
          ],
          "scatter": [
           {
            "marker": {
             "colorbar": {
              "outlinewidth": 0,
              "ticks": ""
             }
            },
            "type": "scatter"
           }
          ],
          "scatter3d": [
           {
            "line": {
             "colorbar": {
              "outlinewidth": 0,
              "ticks": ""
             }
            },
            "marker": {
             "colorbar": {
              "outlinewidth": 0,
              "ticks": ""
             }
            },
            "type": "scatter3d"
           }
          ],
          "scattercarpet": [
           {
            "marker": {
             "colorbar": {
              "outlinewidth": 0,
              "ticks": ""
             }
            },
            "type": "scattercarpet"
           }
          ],
          "scattergeo": [
           {
            "marker": {
             "colorbar": {
              "outlinewidth": 0,
              "ticks": ""
             }
            },
            "type": "scattergeo"
           }
          ],
          "scattergl": [
           {
            "marker": {
             "colorbar": {
              "outlinewidth": 0,
              "ticks": ""
             }
            },
            "type": "scattergl"
           }
          ],
          "scattermapbox": [
           {
            "marker": {
             "colorbar": {
              "outlinewidth": 0,
              "ticks": ""
             }
            },
            "type": "scattermapbox"
           }
          ],
          "scatterpolar": [
           {
            "marker": {
             "colorbar": {
              "outlinewidth": 0,
              "ticks": ""
             }
            },
            "type": "scatterpolar"
           }
          ],
          "scatterpolargl": [
           {
            "marker": {
             "colorbar": {
              "outlinewidth": 0,
              "ticks": ""
             }
            },
            "type": "scatterpolargl"
           }
          ],
          "scatterternary": [
           {
            "marker": {
             "colorbar": {
              "outlinewidth": 0,
              "ticks": ""
             }
            },
            "type": "scatterternary"
           }
          ],
          "surface": [
           {
            "colorbar": {
             "outlinewidth": 0,
             "ticks": ""
            },
            "colorscale": [
             [
              0,
              "#0d0887"
             ],
             [
              0.1111111111111111,
              "#46039f"
             ],
             [
              0.2222222222222222,
              "#7201a8"
             ],
             [
              0.3333333333333333,
              "#9c179e"
             ],
             [
              0.4444444444444444,
              "#bd3786"
             ],
             [
              0.5555555555555556,
              "#d8576b"
             ],
             [
              0.6666666666666666,
              "#ed7953"
             ],
             [
              0.7777777777777778,
              "#fb9f3a"
             ],
             [
              0.8888888888888888,
              "#fdca26"
             ],
             [
              1,
              "#f0f921"
             ]
            ],
            "type": "surface"
           }
          ],
          "table": [
           {
            "cells": {
             "fill": {
              "color": "#EBF0F8"
             },
             "line": {
              "color": "white"
             }
            },
            "header": {
             "fill": {
              "color": "#C8D4E3"
             },
             "line": {
              "color": "white"
             }
            },
            "type": "table"
           }
          ]
         },
         "layout": {
          "annotationdefaults": {
           "arrowcolor": "#2a3f5f",
           "arrowhead": 0,
           "arrowwidth": 1
          },
          "colorscale": {
           "diverging": [
            [
             0,
             "#8e0152"
            ],
            [
             0.1,
             "#c51b7d"
            ],
            [
             0.2,
             "#de77ae"
            ],
            [
             0.3,
             "#f1b6da"
            ],
            [
             0.4,
             "#fde0ef"
            ],
            [
             0.5,
             "#f7f7f7"
            ],
            [
             0.6,
             "#e6f5d0"
            ],
            [
             0.7,
             "#b8e186"
            ],
            [
             0.8,
             "#7fbc41"
            ],
            [
             0.9,
             "#4d9221"
            ],
            [
             1,
             "#276419"
            ]
           ],
           "sequential": [
            [
             0,
             "#0d0887"
            ],
            [
             0.1111111111111111,
             "#46039f"
            ],
            [
             0.2222222222222222,
             "#7201a8"
            ],
            [
             0.3333333333333333,
             "#9c179e"
            ],
            [
             0.4444444444444444,
             "#bd3786"
            ],
            [
             0.5555555555555556,
             "#d8576b"
            ],
            [
             0.6666666666666666,
             "#ed7953"
            ],
            [
             0.7777777777777778,
             "#fb9f3a"
            ],
            [
             0.8888888888888888,
             "#fdca26"
            ],
            [
             1,
             "#f0f921"
            ]
           ],
           "sequentialminus": [
            [
             0,
             "#0d0887"
            ],
            [
             0.1111111111111111,
             "#46039f"
            ],
            [
             0.2222222222222222,
             "#7201a8"
            ],
            [
             0.3333333333333333,
             "#9c179e"
            ],
            [
             0.4444444444444444,
             "#bd3786"
            ],
            [
             0.5555555555555556,
             "#d8576b"
            ],
            [
             0.6666666666666666,
             "#ed7953"
            ],
            [
             0.7777777777777778,
             "#fb9f3a"
            ],
            [
             0.8888888888888888,
             "#fdca26"
            ],
            [
             1,
             "#f0f921"
            ]
           ]
          },
          "colorway": [
           "#636efa",
           "#EF553B",
           "#00cc96",
           "#ab63fa",
           "#FFA15A",
           "#19d3f3",
           "#FF6692",
           "#B6E880",
           "#FF97FF",
           "#FECB52"
          ],
          "font": {
           "color": "#2a3f5f"
          },
          "geo": {
           "bgcolor": "white",
           "lakecolor": "white",
           "landcolor": "#E5ECF6",
           "showlakes": true,
           "showland": true,
           "subunitcolor": "white"
          },
          "hoverlabel": {
           "align": "left"
          },
          "hovermode": "closest",
          "mapbox": {
           "style": "light"
          },
          "paper_bgcolor": "white",
          "plot_bgcolor": "#E5ECF6",
          "polar": {
           "angularaxis": {
            "gridcolor": "white",
            "linecolor": "white",
            "ticks": ""
           },
           "bgcolor": "#E5ECF6",
           "radialaxis": {
            "gridcolor": "white",
            "linecolor": "white",
            "ticks": ""
           }
          },
          "scene": {
           "xaxis": {
            "backgroundcolor": "#E5ECF6",
            "gridcolor": "white",
            "gridwidth": 2,
            "linecolor": "white",
            "showbackground": true,
            "ticks": "",
            "zerolinecolor": "white"
           },
           "yaxis": {
            "backgroundcolor": "#E5ECF6",
            "gridcolor": "white",
            "gridwidth": 2,
            "linecolor": "white",
            "showbackground": true,
            "ticks": "",
            "zerolinecolor": "white"
           },
           "zaxis": {
            "backgroundcolor": "#E5ECF6",
            "gridcolor": "white",
            "gridwidth": 2,
            "linecolor": "white",
            "showbackground": true,
            "ticks": "",
            "zerolinecolor": "white"
           }
          },
          "shapedefaults": {
           "line": {
            "color": "#2a3f5f"
           }
          },
          "ternary": {
           "aaxis": {
            "gridcolor": "white",
            "linecolor": "white",
            "ticks": ""
           },
           "baxis": {
            "gridcolor": "white",
            "linecolor": "white",
            "ticks": ""
           },
           "bgcolor": "#E5ECF6",
           "caxis": {
            "gridcolor": "white",
            "linecolor": "white",
            "ticks": ""
           }
          },
          "title": {
           "x": 0.05
          },
          "xaxis": {
           "automargin": true,
           "gridcolor": "white",
           "linecolor": "white",
           "ticks": "",
           "zerolinecolor": "white",
           "zerolinewidth": 2
          },
          "yaxis": {
           "automargin": true,
           "gridcolor": "white",
           "linecolor": "white",
           "ticks": "",
           "zerolinecolor": "white",
           "zerolinewidth": 2
          }
         }
        },
        "title": {
         "font": {
          "color": "#4D5663"
         },
         "text": "Bank of America"
        },
        "xaxis": {
         "gridcolor": "#E1E5ED",
         "showgrid": true,
         "tickfont": {
          "color": "#4D5663"
         },
         "ticktext": [
          "a",
          "b",
          "c",
          "d",
          "e",
          "f"
         ],
         "title": {
          "font": {
           "color": "#4D5663"
          },
          "text": ""
         },
         "zerolinecolor": "#E1E5ED"
        },
        "yaxis": {
         "gridcolor": "#E1E5ED",
         "showgrid": true,
         "tickfont": {
          "color": "#4D5663"
         },
         "ticktext": [
          "a",
          "b",
          "c",
          "d",
          "e",
          "f"
         ],
         "title": {
          "font": {
           "color": "#4D5663"
          },
          "text": "Close Price"
         },
         "zerolinecolor": "#E1E5ED"
        }
       }
      },
      "text/html": [
       "<div>\n",
       "        \n",
       "        \n",
       "            <div id=\"0179864b-18e5-4705-b51d-62f8c4237fb6\" class=\"plotly-graph-div\" style=\"height:525px; width:100%;\"></div>\n",
       "            <script type=\"text/javascript\">\n",
       "                require([\"plotly\"], function(Plotly) {\n",
       "                    window.PLOTLYENV=window.PLOTLYENV || {};\n",
       "                    window.PLOTLYENV.BASE_URL='https://plot.ly';\n",
       "                    \n",
       "                if (document.getElementById(\"0179864b-18e5-4705-b51d-62f8c4237fb6\")) {\n",
       "                    Plotly.newPlot(\n",
       "                        '0179864b-18e5-4705-b51d-62f8c4237fb6',\n",
       "                        [{\"marker\": {\"color\": \"rgba(255, 153, 51, 0.6)\", \"line\": {\"color\": \"rgba(255, 153, 51, 1.0)\", \"width\": 1}}, \"name\": \"None\", \"orientation\": \"v\", \"text\": \"\", \"type\": \"bar\", \"x\": [\"BAC\", \"C\", \"GS\", \"JPM\", \"MS\", \"WFC\"], \"y\": [15.43, 46.39, 169.11, 65.62, 29.85, 48.96]}],\n",
       "                        {\"legend\": {\"bgcolor\": \"#F5F6F9\", \"font\": {\"color\": \"#4D5663\"}}, \"paper_bgcolor\": \"#F5F6F9\", \"plot_bgcolor\": \"#F5F6F9\", \"template\": {\"data\": {\"bar\": [{\"error_x\": {\"color\": \"#2a3f5f\"}, \"error_y\": {\"color\": \"#2a3f5f\"}, \"marker\": {\"line\": {\"color\": \"#E5ECF6\", \"width\": 0.5}}, \"type\": \"bar\"}], \"barpolar\": [{\"marker\": {\"line\": {\"color\": \"#E5ECF6\", \"width\": 0.5}}, \"type\": \"barpolar\"}], \"carpet\": [{\"aaxis\": {\"endlinecolor\": \"#2a3f5f\", \"gridcolor\": \"white\", \"linecolor\": \"white\", \"minorgridcolor\": \"white\", \"startlinecolor\": \"#2a3f5f\"}, \"baxis\": {\"endlinecolor\": \"#2a3f5f\", \"gridcolor\": \"white\", \"linecolor\": \"white\", \"minorgridcolor\": \"white\", \"startlinecolor\": \"#2a3f5f\"}, \"type\": \"carpet\"}], \"choropleth\": [{\"colorbar\": {\"outlinewidth\": 0, \"ticks\": \"\"}, \"type\": \"choropleth\"}], \"contour\": [{\"colorbar\": {\"outlinewidth\": 0, \"ticks\": \"\"}, \"colorscale\": [[0.0, \"#0d0887\"], [0.1111111111111111, \"#46039f\"], [0.2222222222222222, \"#7201a8\"], [0.3333333333333333, \"#9c179e\"], [0.4444444444444444, \"#bd3786\"], [0.5555555555555556, \"#d8576b\"], [0.6666666666666666, \"#ed7953\"], [0.7777777777777778, \"#fb9f3a\"], [0.8888888888888888, \"#fdca26\"], [1.0, \"#f0f921\"]], \"type\": \"contour\"}], \"contourcarpet\": [{\"colorbar\": {\"outlinewidth\": 0, \"ticks\": \"\"}, \"type\": \"contourcarpet\"}], \"heatmap\": [{\"colorbar\": {\"outlinewidth\": 0, \"ticks\": \"\"}, \"colorscale\": [[0.0, \"#0d0887\"], [0.1111111111111111, \"#46039f\"], [0.2222222222222222, \"#7201a8\"], [0.3333333333333333, \"#9c179e\"], [0.4444444444444444, \"#bd3786\"], [0.5555555555555556, \"#d8576b\"], [0.6666666666666666, \"#ed7953\"], [0.7777777777777778, \"#fb9f3a\"], [0.8888888888888888, \"#fdca26\"], [1.0, \"#f0f921\"]], \"type\": \"heatmap\"}], \"heatmapgl\": [{\"colorbar\": {\"outlinewidth\": 0, \"ticks\": \"\"}, \"colorscale\": [[0.0, \"#0d0887\"], [0.1111111111111111, \"#46039f\"], [0.2222222222222222, \"#7201a8\"], [0.3333333333333333, \"#9c179e\"], [0.4444444444444444, \"#bd3786\"], [0.5555555555555556, \"#d8576b\"], [0.6666666666666666, \"#ed7953\"], [0.7777777777777778, \"#fb9f3a\"], [0.8888888888888888, \"#fdca26\"], [1.0, \"#f0f921\"]], \"type\": \"heatmapgl\"}], \"histogram\": [{\"marker\": {\"colorbar\": {\"outlinewidth\": 0, \"ticks\": \"\"}}, \"type\": \"histogram\"}], \"histogram2d\": [{\"colorbar\": {\"outlinewidth\": 0, \"ticks\": \"\"}, \"colorscale\": [[0.0, \"#0d0887\"], [0.1111111111111111, \"#46039f\"], [0.2222222222222222, \"#7201a8\"], [0.3333333333333333, \"#9c179e\"], [0.4444444444444444, \"#bd3786\"], [0.5555555555555556, \"#d8576b\"], [0.6666666666666666, \"#ed7953\"], [0.7777777777777778, \"#fb9f3a\"], [0.8888888888888888, \"#fdca26\"], [1.0, \"#f0f921\"]], \"type\": \"histogram2d\"}], \"histogram2dcontour\": [{\"colorbar\": {\"outlinewidth\": 0, \"ticks\": \"\"}, \"colorscale\": [[0.0, \"#0d0887\"], [0.1111111111111111, \"#46039f\"], [0.2222222222222222, \"#7201a8\"], [0.3333333333333333, \"#9c179e\"], [0.4444444444444444, \"#bd3786\"], [0.5555555555555556, \"#d8576b\"], [0.6666666666666666, \"#ed7953\"], [0.7777777777777778, \"#fb9f3a\"], [0.8888888888888888, \"#fdca26\"], [1.0, \"#f0f921\"]], \"type\": \"histogram2dcontour\"}], \"mesh3d\": [{\"colorbar\": {\"outlinewidth\": 0, \"ticks\": \"\"}, \"type\": \"mesh3d\"}], \"parcoords\": [{\"line\": {\"colorbar\": {\"outlinewidth\": 0, \"ticks\": \"\"}}, \"type\": \"parcoords\"}], \"scatter\": [{\"marker\": {\"colorbar\": {\"outlinewidth\": 0, \"ticks\": \"\"}}, \"type\": \"scatter\"}], \"scatter3d\": [{\"line\": {\"colorbar\": {\"outlinewidth\": 0, \"ticks\": \"\"}}, \"marker\": {\"colorbar\": {\"outlinewidth\": 0, \"ticks\": \"\"}}, \"type\": \"scatter3d\"}], \"scattercarpet\": [{\"marker\": {\"colorbar\": {\"outlinewidth\": 0, \"ticks\": \"\"}}, \"type\": \"scattercarpet\"}], \"scattergeo\": [{\"marker\": {\"colorbar\": {\"outlinewidth\": 0, \"ticks\": \"\"}}, \"type\": \"scattergeo\"}], \"scattergl\": [{\"marker\": {\"colorbar\": {\"outlinewidth\": 0, \"ticks\": \"\"}}, \"type\": \"scattergl\"}], \"scattermapbox\": [{\"marker\": {\"colorbar\": {\"outlinewidth\": 0, \"ticks\": \"\"}}, \"type\": \"scattermapbox\"}], \"scatterpolar\": [{\"marker\": {\"colorbar\": {\"outlinewidth\": 0, \"ticks\": \"\"}}, \"type\": \"scatterpolar\"}], \"scatterpolargl\": [{\"marker\": {\"colorbar\": {\"outlinewidth\": 0, \"ticks\": \"\"}}, \"type\": \"scatterpolargl\"}], \"scatterternary\": [{\"marker\": {\"colorbar\": {\"outlinewidth\": 0, \"ticks\": \"\"}}, \"type\": \"scatterternary\"}], \"surface\": [{\"colorbar\": {\"outlinewidth\": 0, \"ticks\": \"\"}, \"colorscale\": [[0.0, \"#0d0887\"], [0.1111111111111111, \"#46039f\"], [0.2222222222222222, \"#7201a8\"], [0.3333333333333333, \"#9c179e\"], [0.4444444444444444, \"#bd3786\"], [0.5555555555555556, \"#d8576b\"], [0.6666666666666666, \"#ed7953\"], [0.7777777777777778, \"#fb9f3a\"], [0.8888888888888888, \"#fdca26\"], [1.0, \"#f0f921\"]], \"type\": \"surface\"}], \"table\": [{\"cells\": {\"fill\": {\"color\": \"#EBF0F8\"}, \"line\": {\"color\": \"white\"}}, \"header\": {\"fill\": {\"color\": \"#C8D4E3\"}, \"line\": {\"color\": \"white\"}}, \"type\": \"table\"}]}, \"layout\": {\"annotationdefaults\": {\"arrowcolor\": \"#2a3f5f\", \"arrowhead\": 0, \"arrowwidth\": 1}, \"colorscale\": {\"diverging\": [[0, \"#8e0152\"], [0.1, \"#c51b7d\"], [0.2, \"#de77ae\"], [0.3, \"#f1b6da\"], [0.4, \"#fde0ef\"], [0.5, \"#f7f7f7\"], [0.6, \"#e6f5d0\"], [0.7, \"#b8e186\"], [0.8, \"#7fbc41\"], [0.9, \"#4d9221\"], [1, \"#276419\"]], \"sequential\": [[0.0, \"#0d0887\"], [0.1111111111111111, \"#46039f\"], [0.2222222222222222, \"#7201a8\"], [0.3333333333333333, \"#9c179e\"], [0.4444444444444444, \"#bd3786\"], [0.5555555555555556, \"#d8576b\"], [0.6666666666666666, \"#ed7953\"], [0.7777777777777778, \"#fb9f3a\"], [0.8888888888888888, \"#fdca26\"], [1.0, \"#f0f921\"]], \"sequentialminus\": [[0.0, \"#0d0887\"], [0.1111111111111111, \"#46039f\"], [0.2222222222222222, \"#7201a8\"], [0.3333333333333333, \"#9c179e\"], [0.4444444444444444, \"#bd3786\"], [0.5555555555555556, \"#d8576b\"], [0.6666666666666666, \"#ed7953\"], [0.7777777777777778, \"#fb9f3a\"], [0.8888888888888888, \"#fdca26\"], [1.0, \"#f0f921\"]]}, \"colorway\": [\"#636efa\", \"#EF553B\", \"#00cc96\", \"#ab63fa\", \"#FFA15A\", \"#19d3f3\", \"#FF6692\", \"#B6E880\", \"#FF97FF\", \"#FECB52\"], \"font\": {\"color\": \"#2a3f5f\"}, \"geo\": {\"bgcolor\": \"white\", \"lakecolor\": \"white\", \"landcolor\": \"#E5ECF6\", \"showlakes\": true, \"showland\": true, \"subunitcolor\": \"white\"}, \"hoverlabel\": {\"align\": \"left\"}, \"hovermode\": \"closest\", \"mapbox\": {\"style\": \"light\"}, \"paper_bgcolor\": \"white\", \"plot_bgcolor\": \"#E5ECF6\", \"polar\": {\"angularaxis\": {\"gridcolor\": \"white\", \"linecolor\": \"white\", \"ticks\": \"\"}, \"bgcolor\": \"#E5ECF6\", \"radialaxis\": {\"gridcolor\": \"white\", \"linecolor\": \"white\", \"ticks\": \"\"}}, \"scene\": {\"xaxis\": {\"backgroundcolor\": \"#E5ECF6\", \"gridcolor\": \"white\", \"gridwidth\": 2, \"linecolor\": \"white\", \"showbackground\": true, \"ticks\": \"\", \"zerolinecolor\": \"white\"}, \"yaxis\": {\"backgroundcolor\": \"#E5ECF6\", \"gridcolor\": \"white\", \"gridwidth\": 2, \"linecolor\": \"white\", \"showbackground\": true, \"ticks\": \"\", \"zerolinecolor\": \"white\"}, \"zaxis\": {\"backgroundcolor\": \"#E5ECF6\", \"gridcolor\": \"white\", \"gridwidth\": 2, \"linecolor\": \"white\", \"showbackground\": true, \"ticks\": \"\", \"zerolinecolor\": \"white\"}}, \"shapedefaults\": {\"line\": {\"color\": \"#2a3f5f\"}}, \"ternary\": {\"aaxis\": {\"gridcolor\": \"white\", \"linecolor\": \"white\", \"ticks\": \"\"}, \"baxis\": {\"gridcolor\": \"white\", \"linecolor\": \"white\", \"ticks\": \"\"}, \"bgcolor\": \"#E5ECF6\", \"caxis\": {\"gridcolor\": \"white\", \"linecolor\": \"white\", \"ticks\": \"\"}}, \"title\": {\"x\": 0.05}, \"xaxis\": {\"automargin\": true, \"gridcolor\": \"white\", \"linecolor\": \"white\", \"ticks\": \"\", \"zerolinecolor\": \"white\", \"zerolinewidth\": 2}, \"yaxis\": {\"automargin\": true, \"gridcolor\": \"white\", \"linecolor\": \"white\", \"ticks\": \"\", \"zerolinecolor\": \"white\", \"zerolinewidth\": 2}}}, \"title\": {\"font\": {\"color\": \"#4D5663\"}, \"text\": \"Bank of America\"}, \"xaxis\": {\"gridcolor\": \"#E1E5ED\", \"showgrid\": true, \"tickfont\": {\"color\": \"#4D5663\"}, \"ticktext\": [\"a\", \"b\", \"c\", \"d\", \"e\", \"f\"], \"title\": {\"font\": {\"color\": \"#4D5663\"}, \"text\": \"\"}, \"zerolinecolor\": \"#E1E5ED\"}, \"yaxis\": {\"gridcolor\": \"#E1E5ED\", \"showgrid\": true, \"tickfont\": {\"color\": \"#4D5663\"}, \"ticktext\": [\"a\", \"b\", \"c\", \"d\", \"e\", \"f\"], \"title\": {\"font\": {\"color\": \"#4D5663\"}, \"text\": \"Close Price\"}, \"zerolinecolor\": \"#E1E5ED\"}},\n",
       "                        {\"showLink\": true, \"linkText\": \"Export to plot.ly\", \"plotlyServerURL\": \"https://plot.ly\", \"responsive\": true}\n",
       "                    ).then(function(){\n",
       "                            \n",
       "var gd = document.getElementById('0179864b-18e5-4705-b51d-62f8c4237fb6');\n",
       "var x = new MutationObserver(function (mutations, observer) {{\n",
       "        var display = window.getComputedStyle(gd).display;\n",
       "        if (!display || display === 'none') {{\n",
       "            console.log([gd, 'removed!']);\n",
       "            Plotly.purge(gd);\n",
       "            observer.disconnect();\n",
       "        }}\n",
       "}});\n",
       "\n",
       "// Listen for the removal of the full notebook cells\n",
       "var notebookContainer = gd.closest('#notebook-container');\n",
       "if (notebookContainer) {{\n",
       "    x.observe(notebookContainer, {childList: true});\n",
       "}}\n",
       "\n",
       "// Listen for the clearing of the current output cell\n",
       "var outputEl = gd.closest('.output');\n",
       "if (outputEl) {{\n",
       "    x.observe(outputEl, {childList: true});\n",
       "}}\n",
       "\n",
       "                        })\n",
       "                };\n",
       "                });\n",
       "            </script>\n",
       "        </div>"
      ]
     },
     "metadata": {},
     "output_type": "display_data"
    }
   ],
   "source": [
    "average_closing.iplot(kind='bar', yTitle = 'Close Price', title = 'Bank of America', mode = 'markers', ticktext = ['a','b','c','d','e','f'])"
   ]
  },
  {
   "cell_type": "markdown",
   "metadata": {},
   "source": [
    "\n",
    "** What is the max Close price for each bank's stock throughout the time period?**"
   ]
  },
  {
   "cell_type": "code",
   "execution_count": 17,
   "metadata": {
    "scrolled": true
   },
   "outputs": [
    {
     "data": {
      "text/plain": [
       "Tickers\n",
       "BAC     23.16\n",
       "C       61.09\n",
       "GS     243.09\n",
       "JPM     87.13\n",
       "MS      43.73\n",
       "WFC     57.29\n",
       "dtype: float64"
      ]
     },
     "execution_count": 17,
     "metadata": {},
     "output_type": "execute_result"
    }
   ],
   "source": [
    "round(bank_price.xs('Close',axis=1,level=1).max(),2)"
   ]
  },
  {
   "cell_type": "code",
   "execution_count": 18,
   "metadata": {},
   "outputs": [],
   "source": [
    "MBAC = round(max(df.Close.BAC),2)\n",
    "MC = round(max(df.Close.C),2)\n",
    "MGS = round(max(df.Close.GS),2)\n",
    "MJPM = round(max(df.Close.JPM),2)\n",
    "MMS = round(max(df.Close.MS),2)\n",
    "MWFC = round(max(df.Close.WFC),2)\n",
    "bank_mlist = ['MBAC','MC','MGS','MJPM','MMS','MWFC']\n",
    "df2 = pd.DataFrame({'Banks':bank_mlist,'Max_Close':[MBAC,MC,MGS,MJPM,MMS,MWFC]})"
   ]
  },
  {
   "cell_type": "code",
   "execution_count": 19,
   "metadata": {},
   "outputs": [
    {
     "data": {
      "text/html": [
       "<div>\n",
       "<style scoped>\n",
       "    .dataframe tbody tr th:only-of-type {\n",
       "        vertical-align: middle;\n",
       "    }\n",
       "\n",
       "    .dataframe tbody tr th {\n",
       "        vertical-align: top;\n",
       "    }\n",
       "\n",
       "    .dataframe thead th {\n",
       "        text-align: right;\n",
       "    }\n",
       "</style>\n",
       "<table border=\"1\" class=\"dataframe\">\n",
       "  <thead>\n",
       "    <tr style=\"text-align: right;\">\n",
       "      <th></th>\n",
       "      <th>Banks</th>\n",
       "      <th>Max_Close</th>\n",
       "    </tr>\n",
       "  </thead>\n",
       "  <tbody>\n",
       "    <tr>\n",
       "      <th>0</th>\n",
       "      <td>MBAC</td>\n",
       "      <td>23.16</td>\n",
       "    </tr>\n",
       "    <tr>\n",
       "      <th>1</th>\n",
       "      <td>MC</td>\n",
       "      <td>61.09</td>\n",
       "    </tr>\n",
       "    <tr>\n",
       "      <th>2</th>\n",
       "      <td>MGS</td>\n",
       "      <td>243.09</td>\n",
       "    </tr>\n",
       "    <tr>\n",
       "      <th>3</th>\n",
       "      <td>MJPM</td>\n",
       "      <td>87.13</td>\n",
       "    </tr>\n",
       "    <tr>\n",
       "      <th>4</th>\n",
       "      <td>MMS</td>\n",
       "      <td>43.73</td>\n",
       "    </tr>\n",
       "    <tr>\n",
       "      <th>5</th>\n",
       "      <td>MWFC</td>\n",
       "      <td>57.29</td>\n",
       "    </tr>\n",
       "  </tbody>\n",
       "</table>\n",
       "</div>"
      ],
      "text/plain": [
       "  Banks  Max_Close\n",
       "0  MBAC      23.16\n",
       "1    MC      61.09\n",
       "2   MGS     243.09\n",
       "3  MJPM      87.13\n",
       "4   MMS      43.73\n",
       "5  MWFC      57.29"
      ]
     },
     "execution_count": 19,
     "metadata": {},
     "output_type": "execute_result"
    }
   ],
   "source": [
    "df2"
   ]
  },
  {
   "cell_type": "markdown",
   "metadata": {},
   "source": [
    "** Create a new dataframe called returns. This dataframe will contain the returns for each bank's stock. returns are typically defined by:**\n",
    "\n",
    "$$r_t = \\frac{p_t - p_{t-1}}{p_{t-1}} = \\frac{p_t}{p_{t-1}} - 1$$"
   ]
  },
  {
   "cell_type": "code",
   "execution_count": 20,
   "metadata": {},
   "outputs": [],
   "source": [
    "returns = pd.DataFrame()"
   ]
  },
  {
   "cell_type": "markdown",
   "metadata": {},
   "source": [
    "** We can use pandas pct_change() method on the Close column to create a new dataframe representing this return value. Use .groupby().**"
   ]
  },
  {
   "cell_type": "code",
   "execution_count": 21,
   "metadata": {},
   "outputs": [
    {
     "data": {
      "text/html": [
       "<div>\n",
       "<style scoped>\n",
       "    .dataframe tbody tr th:only-of-type {\n",
       "        vertical-align: middle;\n",
       "    }\n",
       "\n",
       "    .dataframe tbody tr th {\n",
       "        vertical-align: top;\n",
       "    }\n",
       "\n",
       "    .dataframe thead th {\n",
       "        text-align: right;\n",
       "    }\n",
       "</style>\n",
       "<table border=\"1\" class=\"dataframe\">\n",
       "  <thead>\n",
       "    <tr style=\"text-align: right;\">\n",
       "      <th></th>\n",
       "      <th>BAC</th>\n",
       "      <th>C</th>\n",
       "      <th>GS</th>\n",
       "      <th>JPM</th>\n",
       "      <th>MS</th>\n",
       "      <th>WFC</th>\n",
       "    </tr>\n",
       "    <tr>\n",
       "      <th>Date</th>\n",
       "      <th></th>\n",
       "      <th></th>\n",
       "      <th></th>\n",
       "      <th></th>\n",
       "      <th></th>\n",
       "      <th></th>\n",
       "    </tr>\n",
       "  </thead>\n",
       "  <tbody>\n",
       "    <tr>\n",
       "      <th>2016-01-04</th>\n",
       "      <td>NaN</td>\n",
       "      <td>NaN</td>\n",
       "      <td>NaN</td>\n",
       "      <td>NaN</td>\n",
       "      <td>NaN</td>\n",
       "      <td>NaN</td>\n",
       "    </tr>\n",
       "    <tr>\n",
       "      <th>2016-01-05</th>\n",
       "      <td>0.000000</td>\n",
       "      <td>-0.005281</td>\n",
       "      <td>-0.017218</td>\n",
       "      <td>0.001729</td>\n",
       "      <td>-0.006353</td>\n",
       "      <td>-0.000378</td>\n",
       "    </tr>\n",
       "    <tr>\n",
       "      <th>2016-01-06</th>\n",
       "      <td>-0.021303</td>\n",
       "      <td>-0.014550</td>\n",
       "      <td>-0.024413</td>\n",
       "      <td>-0.014436</td>\n",
       "      <td>-0.024936</td>\n",
       "      <td>-0.019096</td>\n",
       "    </tr>\n",
       "    <tr>\n",
       "      <th>2016-01-07</th>\n",
       "      <td>-0.036070</td>\n",
       "      <td>-0.051077</td>\n",
       "      <td>-0.030735</td>\n",
       "      <td>-0.040439</td>\n",
       "      <td>-0.049836</td>\n",
       "      <td>-0.028527</td>\n",
       "    </tr>\n",
       "    <tr>\n",
       "      <th>2016-01-08</th>\n",
       "      <td>-0.019355</td>\n",
       "      <td>-0.030067</td>\n",
       "      <td>-0.004131</td>\n",
       "      <td>-0.022399</td>\n",
       "      <td>-0.020704</td>\n",
       "      <td>-0.016667</td>\n",
       "    </tr>\n",
       "    <tr>\n",
       "      <th>...</th>\n",
       "      <td>...</td>\n",
       "      <td>...</td>\n",
       "      <td>...</td>\n",
       "      <td>...</td>\n",
       "      <td>...</td>\n",
       "      <td>...</td>\n",
       "    </tr>\n",
       "    <tr>\n",
       "      <th>2016-12-23</th>\n",
       "      <td>0.002662</td>\n",
       "      <td>0.008266</td>\n",
       "      <td>0.003540</td>\n",
       "      <td>0.001841</td>\n",
       "      <td>0.006310</td>\n",
       "      <td>0.003767</td>\n",
       "    </tr>\n",
       "    <tr>\n",
       "      <th>2016-12-27</th>\n",
       "      <td>0.000442</td>\n",
       "      <td>0.001640</td>\n",
       "      <td>0.002448</td>\n",
       "      <td>0.000919</td>\n",
       "      <td>0.001393</td>\n",
       "      <td>-0.000179</td>\n",
       "    </tr>\n",
       "    <tr>\n",
       "      <th>2016-12-28</th>\n",
       "      <td>-0.012384</td>\n",
       "      <td>-0.017188</td>\n",
       "      <td>-0.003767</td>\n",
       "      <td>-0.007231</td>\n",
       "      <td>-0.011596</td>\n",
       "      <td>-0.011260</td>\n",
       "    </tr>\n",
       "    <tr>\n",
       "      <th>2016-12-29</th>\n",
       "      <td>-0.014778</td>\n",
       "      <td>-0.010993</td>\n",
       "      <td>-0.010264</td>\n",
       "      <td>-0.007052</td>\n",
       "      <td>-0.011028</td>\n",
       "      <td>-0.008677</td>\n",
       "    </tr>\n",
       "    <tr>\n",
       "      <th>2016-12-30</th>\n",
       "      <td>0.004545</td>\n",
       "      <td>0.000842</td>\n",
       "      <td>0.005332</td>\n",
       "      <td>0.004657</td>\n",
       "      <td>0.002372</td>\n",
       "      <td>0.004923</td>\n",
       "    </tr>\n",
       "  </tbody>\n",
       "</table>\n",
       "<p>252 rows × 6 columns</p>\n",
       "</div>"
      ],
      "text/plain": [
       "                 BAC         C        GS       JPM        MS       WFC\n",
       "Date                                                                  \n",
       "2016-01-04       NaN       NaN       NaN       NaN       NaN       NaN\n",
       "2016-01-05  0.000000 -0.005281 -0.017218  0.001729 -0.006353 -0.000378\n",
       "2016-01-06 -0.021303 -0.014550 -0.024413 -0.014436 -0.024936 -0.019096\n",
       "2016-01-07 -0.036070 -0.051077 -0.030735 -0.040439 -0.049836 -0.028527\n",
       "2016-01-08 -0.019355 -0.030067 -0.004131 -0.022399 -0.020704 -0.016667\n",
       "...              ...       ...       ...       ...       ...       ...\n",
       "2016-12-23  0.002662  0.008266  0.003540  0.001841  0.006310  0.003767\n",
       "2016-12-27  0.000442  0.001640  0.002448  0.000919  0.001393 -0.000179\n",
       "2016-12-28 -0.012384 -0.017188 -0.003767 -0.007231 -0.011596 -0.011260\n",
       "2016-12-29 -0.014778 -0.010993 -0.010264 -0.007052 -0.011028 -0.008677\n",
       "2016-12-30  0.004545  0.000842  0.005332  0.004657  0.002372  0.004923\n",
       "\n",
       "[252 rows x 6 columns]"
      ]
     },
     "execution_count": 21,
     "metadata": {},
     "output_type": "execute_result"
    }
   ],
   "source": [
    "# your code here\n",
    "for c in bank_list:\n",
    "    returns[c]=bank_price[c][\"Close\"].pct_change()\n",
    "returns"
   ]
  },
  {
   "cell_type": "markdown",
   "metadata": {},
   "source": [
    "** Using this returns DataFrame, figure out on what dates each bank stock had the best and worst single day returns. Did anything significant happen that day?**"
   ]
  },
  {
   "cell_type": "code",
   "execution_count": 22,
   "metadata": {},
   "outputs": [
    {
     "name": "stdout",
     "output_type": "stream",
     "text": [
      "BAC   2016-06-24\n",
      "C     2016-06-24\n",
      "GS    2016-06-24\n",
      "JPM   2016-06-24\n",
      "MS    2016-06-24\n",
      "WFC   2016-06-24\n",
      "dtype: datetime64[ns]\n",
      "BAC   2016-02-12\n",
      "C     2016-02-12\n",
      "GS    2016-11-09\n",
      "JPM   2016-02-12\n",
      "MS    2016-11-09\n",
      "WFC   2016-11-10\n",
      "dtype: datetime64[ns]\n"
     ]
    }
   ],
   "source": [
    "# your code here\n",
    "print(returns.idxmin())\n",
    "print(returns.idxmax())"
   ]
  },
  {
   "cell_type": "code",
   "execution_count": 23,
   "metadata": {},
   "outputs": [
    {
     "data": {
      "text/html": [
       "<div>\n",
       "<style scoped>\n",
       "    .dataframe tbody tr th:only-of-type {\n",
       "        vertical-align: middle;\n",
       "    }\n",
       "\n",
       "    .dataframe tbody tr th {\n",
       "        vertical-align: top;\n",
       "    }\n",
       "\n",
       "    .dataframe thead tr th {\n",
       "        text-align: left;\n",
       "    }\n",
       "\n",
       "    .dataframe thead tr:last-of-type th {\n",
       "        text-align: right;\n",
       "    }\n",
       "</style>\n",
       "<table border=\"1\" class=\"dataframe\">\n",
       "  <thead>\n",
       "    <tr>\n",
       "      <th>Tickers</th>\n",
       "      <th colspan=\"7\" halign=\"left\">BAC</th>\n",
       "      <th colspan=\"3\" halign=\"left\">C</th>\n",
       "      <th>...</th>\n",
       "      <th colspan=\"3\" halign=\"left\">MS</th>\n",
       "      <th colspan=\"7\" halign=\"left\">WFC</th>\n",
       "    </tr>\n",
       "    <tr>\n",
       "      <th>Stages</th>\n",
       "      <th>High</th>\n",
       "      <th>Low</th>\n",
       "      <th>Open</th>\n",
       "      <th>Close</th>\n",
       "      <th>Volume</th>\n",
       "      <th>Adj Close</th>\n",
       "      <th>Company</th>\n",
       "      <th>High</th>\n",
       "      <th>Low</th>\n",
       "      <th>Open</th>\n",
       "      <th>...</th>\n",
       "      <th>Volume</th>\n",
       "      <th>Adj Close</th>\n",
       "      <th>Company</th>\n",
       "      <th>High</th>\n",
       "      <th>Low</th>\n",
       "      <th>Open</th>\n",
       "      <th>Close</th>\n",
       "      <th>Volume</th>\n",
       "      <th>Adj Close</th>\n",
       "      <th>Company</th>\n",
       "    </tr>\n",
       "    <tr>\n",
       "      <th>Date</th>\n",
       "      <th></th>\n",
       "      <th></th>\n",
       "      <th></th>\n",
       "      <th></th>\n",
       "      <th></th>\n",
       "      <th></th>\n",
       "      <th></th>\n",
       "      <th></th>\n",
       "      <th></th>\n",
       "      <th></th>\n",
       "      <th></th>\n",
       "      <th></th>\n",
       "      <th></th>\n",
       "      <th></th>\n",
       "      <th></th>\n",
       "      <th></th>\n",
       "      <th></th>\n",
       "      <th></th>\n",
       "      <th></th>\n",
       "      <th></th>\n",
       "      <th></th>\n",
       "    </tr>\n",
       "  </thead>\n",
       "  <tbody>\n",
       "    <tr>\n",
       "      <th>2016-06-23</th>\n",
       "      <td>14.050000</td>\n",
       "      <td>13.82</td>\n",
       "      <td>13.84</td>\n",
       "      <td>14.040000</td>\n",
       "      <td>82494600.0</td>\n",
       "      <td>13.231733</td>\n",
       "      <td>BOA</td>\n",
       "      <td>44.500000</td>\n",
       "      <td>43.470001</td>\n",
       "      <td>43.509998</td>\n",
       "      <td>...</td>\n",
       "      <td>18027200.0</td>\n",
       "      <td>25.124868</td>\n",
       "      <td>MorganStanley</td>\n",
       "      <td>47.910000</td>\n",
       "      <td>47.389999</td>\n",
       "      <td>47.639999</td>\n",
       "      <td>47.910000</td>\n",
       "      <td>16270000.0</td>\n",
       "      <td>42.815773</td>\n",
       "      <td>WellsFargo</td>\n",
       "    </tr>\n",
       "    <tr>\n",
       "      <th>2016-06-24</th>\n",
       "      <td>13.440000</td>\n",
       "      <td>12.97</td>\n",
       "      <td>13.05</td>\n",
       "      <td>13.000000</td>\n",
       "      <td>231499200.0</td>\n",
       "      <td>12.251606</td>\n",
       "      <td>BOA</td>\n",
       "      <td>41.389999</td>\n",
       "      <td>40.259998</td>\n",
       "      <td>40.630001</td>\n",
       "      <td>...</td>\n",
       "      <td>49311900.0</td>\n",
       "      <td>22.574631</td>\n",
       "      <td>MorganStanley</td>\n",
       "      <td>46.970001</td>\n",
       "      <td>45.279999</td>\n",
       "      <td>45.759998</td>\n",
       "      <td>45.709999</td>\n",
       "      <td>46744100.0</td>\n",
       "      <td>40.849701</td>\n",
       "      <td>WellsFargo</td>\n",
       "    </tr>\n",
       "    <tr>\n",
       "      <th>2016-02-12</th>\n",
       "      <td>12.030000</td>\n",
       "      <td>11.40</td>\n",
       "      <td>11.48</td>\n",
       "      <td>11.950000</td>\n",
       "      <td>245388400.0</td>\n",
       "      <td>11.181433</td>\n",
       "      <td>BOA</td>\n",
       "      <td>37.869999</td>\n",
       "      <td>35.980000</td>\n",
       "      <td>36.029999</td>\n",
       "      <td>...</td>\n",
       "      <td>22802200.0</td>\n",
       "      <td>21.142344</td>\n",
       "      <td>MorganStanley</td>\n",
       "      <td>47.389999</td>\n",
       "      <td>45.930000</td>\n",
       "      <td>45.959999</td>\n",
       "      <td>47.310001</td>\n",
       "      <td>28533900.0</td>\n",
       "      <td>41.958252</td>\n",
       "      <td>WellsFargo</td>\n",
       "    </tr>\n",
       "    <tr>\n",
       "      <th>2016-11-09</th>\n",
       "      <td>18.049999</td>\n",
       "      <td>17.40</td>\n",
       "      <td>17.66</td>\n",
       "      <td>17.969999</td>\n",
       "      <td>319516900.0</td>\n",
       "      <td>17.014307</td>\n",
       "      <td>BOA</td>\n",
       "      <td>51.939999</td>\n",
       "      <td>49.470001</td>\n",
       "      <td>50.070000</td>\n",
       "      <td>...</td>\n",
       "      <td>28311000.0</td>\n",
       "      <td>34.056992</td>\n",
       "      <td>MorganStanley</td>\n",
       "      <td>48.610001</td>\n",
       "      <td>46.000000</td>\n",
       "      <td>46.330002</td>\n",
       "      <td>47.990002</td>\n",
       "      <td>67615000.0</td>\n",
       "      <td>43.591862</td>\n",
       "      <td>WellsFargo</td>\n",
       "    </tr>\n",
       "  </tbody>\n",
       "</table>\n",
       "<p>4 rows × 42 columns</p>\n",
       "</div>"
      ],
      "text/plain": [
       "Tickers           BAC                                                   \\\n",
       "Stages           High    Low   Open      Close       Volume  Adj Close   \n",
       "Date                                                                     \n",
       "2016-06-23  14.050000  13.82  13.84  14.040000   82494600.0  13.231733   \n",
       "2016-06-24  13.440000  12.97  13.05  13.000000  231499200.0  12.251606   \n",
       "2016-02-12  12.030000  11.40  11.48  11.950000  245388400.0  11.181433   \n",
       "2016-11-09  18.049999  17.40  17.66  17.969999  319516900.0  17.014307   \n",
       "\n",
       "Tickers                     C                        ...          MS  \\\n",
       "Stages     Company       High        Low       Open  ...      Volume   \n",
       "Date                                                 ...               \n",
       "2016-06-23     BOA  44.500000  43.470001  43.509998  ...  18027200.0   \n",
       "2016-06-24     BOA  41.389999  40.259998  40.630001  ...  49311900.0   \n",
       "2016-02-12     BOA  37.869999  35.980000  36.029999  ...  22802200.0   \n",
       "2016-11-09     BOA  51.939999  49.470001  50.070000  ...  28311000.0   \n",
       "\n",
       "Tickers                                     WFC                        \\\n",
       "Stages      Adj Close        Company       High        Low       Open   \n",
       "Date                                                                    \n",
       "2016-06-23  25.124868  MorganStanley  47.910000  47.389999  47.639999   \n",
       "2016-06-24  22.574631  MorganStanley  46.970001  45.279999  45.759998   \n",
       "2016-02-12  21.142344  MorganStanley  47.389999  45.930000  45.959999   \n",
       "2016-11-09  34.056992  MorganStanley  48.610001  46.000000  46.330002   \n",
       "\n",
       "Tickers                                                   \n",
       "Stages          Close      Volume  Adj Close     Company  \n",
       "Date                                                      \n",
       "2016-06-23  47.910000  16270000.0  42.815773  WellsFargo  \n",
       "2016-06-24  45.709999  46744100.0  40.849701  WellsFargo  \n",
       "2016-02-12  47.310001  28533900.0  41.958252  WellsFargo  \n",
       "2016-11-09  47.990002  67615000.0  43.591862  WellsFargo  \n",
       "\n",
       "[4 rows x 42 columns]"
      ]
     },
     "execution_count": 23,
     "metadata": {},
     "output_type": "execute_result"
    }
   ],
   "source": [
    "worst1 = bank_price.loc[bank_price.index == '2016-06-23']\n",
    "worst2 = bank_price.loc[bank_price.index == '2016-06-24']\n",
    "best1 = bank_price.loc[bank_price.index == '2016-02-12']\n",
    "best2 = bank_price.loc[bank_price.index == '2016-11-09']\n",
    "events = pd.concat([worst1,worst2,best1,best2])\n",
    "events"
   ]
  },
  {
   "cell_type": "code",
   "execution_count": 24,
   "metadata": {},
   "outputs": [
    {
     "data": {
      "text/html": [
       "<div>\n",
       "<style scoped>\n",
       "    .dataframe tbody tr th:only-of-type {\n",
       "        vertical-align: middle;\n",
       "    }\n",
       "\n",
       "    .dataframe tbody tr th {\n",
       "        vertical-align: top;\n",
       "    }\n",
       "\n",
       "    .dataframe thead th {\n",
       "        text-align: right;\n",
       "    }\n",
       "</style>\n",
       "<table border=\"1\" class=\"dataframe\">\n",
       "  <thead>\n",
       "    <tr style=\"text-align: right;\">\n",
       "      <th></th>\n",
       "      <th>Company</th>\n",
       "      <th>BestReturnDate</th>\n",
       "      <th>BestReturn</th>\n",
       "      <th>WorstReturnDate</th>\n",
       "      <th>WorstReturn</th>\n",
       "    </tr>\n",
       "  </thead>\n",
       "  <tbody>\n",
       "    <tr>\n",
       "      <th>0</th>\n",
       "      <td>BAC</td>\n",
       "      <td>2016-02-12</td>\n",
       "      <td>0.070789</td>\n",
       "      <td>2016-06-24</td>\n",
       "      <td>-0.074074</td>\n",
       "    </tr>\n",
       "    <tr>\n",
       "      <th>1</th>\n",
       "      <td>C</td>\n",
       "      <td>2016-02-12</td>\n",
       "      <td>0.073185</td>\n",
       "      <td>2016-06-24</td>\n",
       "      <td>-0.093567</td>\n",
       "    </tr>\n",
       "    <tr>\n",
       "      <th>2</th>\n",
       "      <td>GS</td>\n",
       "      <td>2016-11-09</td>\n",
       "      <td>0.058872</td>\n",
       "      <td>2016-06-24</td>\n",
       "      <td>-0.070745</td>\n",
       "    </tr>\n",
       "    <tr>\n",
       "      <th>3</th>\n",
       "      <td>JPM</td>\n",
       "      <td>2016-02-12</td>\n",
       "      <td>0.083286</td>\n",
       "      <td>2016-06-24</td>\n",
       "      <td>-0.069477</td>\n",
       "    </tr>\n",
       "    <tr>\n",
       "      <th>4</th>\n",
       "      <td>MS</td>\n",
       "      <td>2016-11-09</td>\n",
       "      <td>0.070968</td>\n",
       "      <td>2016-06-24</td>\n",
       "      <td>-0.101502</td>\n",
       "    </tr>\n",
       "    <tr>\n",
       "      <th>5</th>\n",
       "      <td>WFC</td>\n",
       "      <td>2016-11-10</td>\n",
       "      <td>0.075849</td>\n",
       "      <td>2016-06-24</td>\n",
       "      <td>-0.045919</td>\n",
       "    </tr>\n",
       "  </tbody>\n",
       "</table>\n",
       "</div>"
      ],
      "text/plain": [
       "  Company BestReturnDate  BestReturn WorstReturnDate  WorstReturn\n",
       "0     BAC     2016-02-12    0.070789      2016-06-24    -0.074074\n",
       "1       C     2016-02-12    0.073185      2016-06-24    -0.093567\n",
       "2      GS     2016-11-09    0.058872      2016-06-24    -0.070745\n",
       "3     JPM     2016-02-12    0.083286      2016-06-24    -0.069477\n",
       "4      MS     2016-11-09    0.070968      2016-06-24    -0.101502\n",
       "5     WFC     2016-11-10    0.075849      2016-06-24    -0.045919"
      ]
     },
     "execution_count": 24,
     "metadata": {},
     "output_type": "execute_result"
    }
   ],
   "source": [
    "ls = []\n",
    "# bank_return_list = ['BACReturn','CReturn','GSReturn','JPMReturn','MSReturn','WFCReturn']\n",
    "for z in bank_list:\n",
    "    ls.append({'Company':z,'BestReturnDate':returns[z].idxmax(),'BestReturn':returns[z].max(),'WorstReturnDate':returns[z].idxmin(),'WorstReturn':returns[z].min()})\n",
    "ExtremeReturn = pd.DataFrame(ls)\n",
    "ExtremeReturn"
   ]
  },
  {
   "cell_type": "markdown",
   "metadata": {},
   "source": [
    "** Please state here what you have noticed. Did anything significant happen in that time frame? **"
   ]
  },
  {
   "cell_type": "markdown",
   "metadata": {},
   "source": [
    "I notice that, worst single day returns for all $6$ banks are on the same date, which is $2016-06-24$, I believe it is due to the Leave Vote Occur in UK at that time."
   ]
  },
  {
   "cell_type": "markdown",
   "metadata": {},
   "source": []
  },
  {
   "cell_type": "markdown",
   "metadata": {},
   "source": [
    "** Take a look at the standard deviation of the returns, which stock would you classify as the riskiest over the entire time period? **"
   ]
  },
  {
   "cell_type": "code",
   "execution_count": 25,
   "metadata": {},
   "outputs": [
    {
     "data": {
      "text/plain": [
       "BAC    0.020209\n",
       "C      0.020060\n",
       "GS     0.016886\n",
       "JPM    0.015472\n",
       "MS     0.020555\n",
       "WFC    0.015015\n",
       "dtype: float64"
      ]
     },
     "execution_count": 25,
     "metadata": {},
     "output_type": "execute_result"
    }
   ],
   "source": [
    "#  your code here\n",
    "returns.std()"
   ]
  },
  {
   "cell_type": "markdown",
   "metadata": {},
   "source": [
    "Since MS Morgan Stanley has the highest standard deviation of the returns among all six banks, I would classify MS as the riskiest bank over the entire time period"
   ]
  },
  {
   "cell_type": "markdown",
   "metadata": {},
   "source": [
    "** Which would you classify as the riskiest for the year 2016? **"
   ]
  },
  {
   "cell_type": "code",
   "execution_count": 26,
   "metadata": {},
   "outputs": [
    {
     "data": {
      "text/plain": [
       "BAC    0.020209\n",
       "C      0.020060\n",
       "GS     0.016886\n",
       "JPM    0.015472\n",
       "MS     0.020555\n",
       "WFC    0.015015\n",
       "dtype: float64"
      ]
     },
     "execution_count": 26,
     "metadata": {},
     "output_type": "execute_result"
    }
   ],
   "source": [
    "# your code here\n",
    "returns.loc[\"2016-01-01\":\"2016-12-31\"].std()"
   ]
  },
  {
   "cell_type": "markdown",
   "metadata": {},
   "source": [
    "** Create a density plot using any library you like to visualize the previous year's return for each bank **"
   ]
  },
  {
   "cell_type": "code",
   "execution_count": 27,
   "metadata": {},
   "outputs": [
    {
     "data": {
      "text/plain": [
       "Text(0.5, 1.0, 'Return for each bank')"
      ]
     },
     "execution_count": 27,
     "metadata": {},
     "output_type": "execute_result"
    },
    {
     "data": {
      "image/png": "[encoded data removed]",
      "text/plain": [
       "<Figure size 1728x864 with 1 Axes>"
      ]
     },
     "metadata": {},
     "output_type": "display_data"
    }
   ],
   "source": [
    "# your code here\n",
    "returns.dropna().plot(kind='kde', xlim=(-0.05,0.06),figsize = (24,12))\n",
    "plt.title('Return for each bank', fontsize = (12))"
   ]
  },
  {
   "cell_type": "markdown",
   "metadata": {},
   "source": [
    "### Moving Averages\n",
    "\n",
    "** Please derive the moving averages for these stocks in the year 2016. Use .rolling() in pandas to get the rolling average calculation. ** \n",
    "\n"
   ]
  },
  {
   "cell_type": "code",
   "execution_count": 28,
   "metadata": {},
   "outputs": [
    {
     "data": {
      "text/html": [
       "<div>\n",
       "<style scoped>\n",
       "    .dataframe tbody tr th:only-of-type {\n",
       "        vertical-align: middle;\n",
       "    }\n",
       "\n",
       "    .dataframe tbody tr th {\n",
       "        vertical-align: top;\n",
       "    }\n",
       "\n",
       "    .dataframe thead th {\n",
       "        text-align: right;\n",
       "    }\n",
       "</style>\n",
       "<table border=\"1\" class=\"dataframe\">\n",
       "  <thead>\n",
       "    <tr style=\"text-align: right;\">\n",
       "      <th>Tickers</th>\n",
       "      <th>BAC</th>\n",
       "      <th>C</th>\n",
       "      <th>GS</th>\n",
       "      <th>JPM</th>\n",
       "      <th>MS</th>\n",
       "      <th>WFC</th>\n",
       "    </tr>\n",
       "    <tr>\n",
       "      <th>Date</th>\n",
       "      <th></th>\n",
       "      <th></th>\n",
       "      <th></th>\n",
       "      <th></th>\n",
       "      <th></th>\n",
       "      <th></th>\n",
       "    </tr>\n",
       "  </thead>\n",
       "  <tbody>\n",
       "    <tr>\n",
       "      <th>2016-01-04</th>\n",
       "      <td>NaN</td>\n",
       "      <td>NaN</td>\n",
       "      <td>NaN</td>\n",
       "      <td>NaN</td>\n",
       "      <td>NaN</td>\n",
       "      <td>NaN</td>\n",
       "    </tr>\n",
       "    <tr>\n",
       "      <th>2016-01-05</th>\n",
       "      <td>NaN</td>\n",
       "      <td>NaN</td>\n",
       "      <td>NaN</td>\n",
       "      <td>NaN</td>\n",
       "      <td>NaN</td>\n",
       "      <td>NaN</td>\n",
       "    </tr>\n",
       "    <tr>\n",
       "      <th>2016-01-06</th>\n",
       "      <td>NaN</td>\n",
       "      <td>NaN</td>\n",
       "      <td>NaN</td>\n",
       "      <td>NaN</td>\n",
       "      <td>NaN</td>\n",
       "      <td>NaN</td>\n",
       "    </tr>\n",
       "    <tr>\n",
       "      <th>2016-01-07</th>\n",
       "      <td>NaN</td>\n",
       "      <td>NaN</td>\n",
       "      <td>NaN</td>\n",
       "      <td>NaN</td>\n",
       "      <td>NaN</td>\n",
       "      <td>NaN</td>\n",
       "    </tr>\n",
       "    <tr>\n",
       "      <th>2016-01-08</th>\n",
       "      <td>NaN</td>\n",
       "      <td>NaN</td>\n",
       "      <td>NaN</td>\n",
       "      <td>NaN</td>\n",
       "      <td>NaN</td>\n",
       "      <td>NaN</td>\n",
       "    </tr>\n",
       "    <tr>\n",
       "      <th>...</th>\n",
       "      <td>...</td>\n",
       "      <td>...</td>\n",
       "      <td>...</td>\n",
       "      <td>...</td>\n",
       "      <td>...</td>\n",
       "      <td>...</td>\n",
       "    </tr>\n",
       "    <tr>\n",
       "      <th>2016-12-23</th>\n",
       "      <td>19.6036</td>\n",
       "      <td>54.4322</td>\n",
       "      <td>206.5844</td>\n",
       "      <td>76.973800</td>\n",
       "      <td>38.4494</td>\n",
       "      <td>50.8468</td>\n",
       "    </tr>\n",
       "    <tr>\n",
       "      <th>2016-12-27</th>\n",
       "      <td>19.7358</td>\n",
       "      <td>54.6818</td>\n",
       "      <td>208.0052</td>\n",
       "      <td>77.366000</td>\n",
       "      <td>38.6704</td>\n",
       "      <td>51.0716</td>\n",
       "    </tr>\n",
       "    <tr>\n",
       "      <th>2016-12-28</th>\n",
       "      <td>19.8614</td>\n",
       "      <td>54.9106</td>\n",
       "      <td>209.4382</td>\n",
       "      <td>77.752600</td>\n",
       "      <td>38.8870</td>\n",
       "      <td>51.2880</td>\n",
       "    </tr>\n",
       "    <tr>\n",
       "      <th>2016-12-29</th>\n",
       "      <td>19.9762</td>\n",
       "      <td>55.1184</td>\n",
       "      <td>210.7492</td>\n",
       "      <td>78.116400</td>\n",
       "      <td>39.0836</td>\n",
       "      <td>51.4858</td>\n",
       "    </tr>\n",
       "    <tr>\n",
       "      <th>2016-12-30</th>\n",
       "      <td>20.0888</td>\n",
       "      <td>55.3174</td>\n",
       "      <td>212.0480</td>\n",
       "      <td>78.475201</td>\n",
       "      <td>39.2700</td>\n",
       "      <td>51.6828</td>\n",
       "    </tr>\n",
       "  </tbody>\n",
       "</table>\n",
       "<p>252 rows × 6 columns</p>\n",
       "</div>"
      ],
      "text/plain": [
       "Tickers         BAC        C        GS        JPM       MS      WFC\n",
       "Date                                                               \n",
       "2016-01-04      NaN      NaN       NaN        NaN      NaN      NaN\n",
       "2016-01-05      NaN      NaN       NaN        NaN      NaN      NaN\n",
       "2016-01-06      NaN      NaN       NaN        NaN      NaN      NaN\n",
       "2016-01-07      NaN      NaN       NaN        NaN      NaN      NaN\n",
       "2016-01-08      NaN      NaN       NaN        NaN      NaN      NaN\n",
       "...             ...      ...       ...        ...      ...      ...\n",
       "2016-12-23  19.6036  54.4322  206.5844  76.973800  38.4494  50.8468\n",
       "2016-12-27  19.7358  54.6818  208.0052  77.366000  38.6704  51.0716\n",
       "2016-12-28  19.8614  54.9106  209.4382  77.752600  38.8870  51.2880\n",
       "2016-12-29  19.9762  55.1184  210.7492  78.116400  39.0836  51.4858\n",
       "2016-12-30  20.0888  55.3174  212.0480  78.475201  39.2700  51.6828\n",
       "\n",
       "[252 rows x 6 columns]"
      ]
     },
     "execution_count": 28,
     "metadata": {},
     "output_type": "execute_result"
    }
   ],
   "source": [
    "# your code here\n",
    "bank_price.xs(\"Close\",axis=1,level=1).rolling(window=50).mean()"
   ]
  },
  {
   "cell_type": "markdown",
   "metadata": {},
   "source": [
    "** Plot the rolling 30 day average against the Close Price for Bank Of America's stock for the year 2016**"
   ]
  },
  {
   "cell_type": "code",
   "execution_count": 29,
   "metadata": {},
   "outputs": [
    {
     "data": {
      "application/vnd.plotly.v1+json": {
       "config": {
        "linkText": "Export to plot.ly",
        "plotlyServerURL": "https://plot.ly",
        "showLink": true
       },
       "data": [
        {
         "line": {
          "color": "rgba(255, 153, 51, 1.0)",
          "dash": "solid",
          "shape": "linear",
          "width": 1.3
         },
         "mode": "lines",
         "name": "Close",
         "text": "",
         "type": "scatter",
         "x": [
          "2016-01-04",
          "2016-01-05",
          "2016-01-06",
          "2016-01-07",
          "2016-01-08",
          "2016-01-11",
          "2016-01-12",
          "2016-01-13",
          "2016-01-14",
          "2016-01-15",
          "2016-01-19",
          "2016-01-20",
          "2016-01-21",
          "2016-01-22",
          "2016-01-25",
          "2016-01-26",
          "2016-01-27",
          "2016-01-28",
          "2016-01-29",
          "2016-02-01",
          "2016-02-02",
          "2016-02-03",
          "2016-02-04",
          "2016-02-05",
          "2016-02-08",
          "2016-02-09",
          "2016-02-10",
          "2016-02-11",
          "2016-02-12",
          "2016-02-16",
          "2016-02-17",
          "2016-02-18",
          "2016-02-19",
          "2016-02-22",
          "2016-02-23",
          "2016-02-24",
          "2016-02-25",
          "2016-02-26",
          "2016-02-29",
          "2016-03-01",
          "2016-03-02",
          "2016-03-03",
          "2016-03-04",
          "2016-03-07",
          "2016-03-08",
          "2016-03-09",
          "2016-03-10",
          "2016-03-11",
          "2016-03-14",
          "2016-03-15",
          "2016-03-16",
          "2016-03-17",
          "2016-03-18",
          "2016-03-21",
          "2016-03-22",
          "2016-03-23",
          "2016-03-24",
          "2016-03-28",
          "2016-03-29",
          "2016-03-30",
          "2016-03-31",
          "2016-04-01",
          "2016-04-04",
          "2016-04-05",
          "2016-04-06",
          "2016-04-07",
          "2016-04-08",
          "2016-04-11",
          "2016-04-12",
          "2016-04-13",
          "2016-04-14",
          "2016-04-15",
          "2016-04-18",
          "2016-04-19",
          "2016-04-20",
          "2016-04-21",
          "2016-04-22",
          "2016-04-25",
          "2016-04-26",
          "2016-04-27",
          "2016-04-28",
          "2016-04-29",
          "2016-05-02",
          "2016-05-03",
          "2016-05-04",
          "2016-05-05",
          "2016-05-06",
          "2016-05-09",
          "2016-05-10",
          "2016-05-11",
          "2016-05-12",
          "2016-05-13",
          "2016-05-16",
          "2016-05-17",
          "2016-05-18",
          "2016-05-19",
          "2016-05-20",
          "2016-05-23",
          "2016-05-24",
          "2016-05-25",
          "2016-05-26",
          "2016-05-27",
          "2016-05-31",
          "2016-06-01",
          "2016-06-02",
          "2016-06-03",
          "2016-06-06",
          "2016-06-07",
          "2016-06-08",
          "2016-06-09",
          "2016-06-10",
          "2016-06-13",
          "2016-06-14",
          "2016-06-15",
          "2016-06-16",
          "2016-06-17",
          "2016-06-20",
          "2016-06-21",
          "2016-06-22",
          "2016-06-23",
          "2016-06-24",
          "2016-06-27",
          "2016-06-28",
          "2016-06-29",
          "2016-06-30",
          "2016-07-01",
          "2016-07-05",
          "2016-07-06",
          "2016-07-07",
          "2016-07-08",
          "2016-07-11",
          "2016-07-12",
          "2016-07-13",
          "2016-07-14",
          "2016-07-15",
          "2016-07-18",
          "2016-07-19",
          "2016-07-20",
          "2016-07-21",
          "2016-07-22",
          "2016-07-25",
          "2016-07-26",
          "2016-07-27",
          "2016-07-28",
          "2016-07-29",
          "2016-08-01",
          "2016-08-02",
          "2016-08-03",
          "2016-08-04",
          "2016-08-05",
          "2016-08-08",
          "2016-08-09",
          "2016-08-10",
          "2016-08-11",
          "2016-08-12",
          "2016-08-15",
          "2016-08-16",
          "2016-08-17",
          "2016-08-18",
          "2016-08-19",
          "2016-08-22",
          "2016-08-23",
          "2016-08-24",
          "2016-08-25",
          "2016-08-26",
          "2016-08-29",
          "2016-08-30",
          "2016-08-31",
          "2016-09-01",
          "2016-09-02",
          "2016-09-06",
          "2016-09-07",
          "2016-09-08",
          "2016-09-09",
          "2016-09-12",
          "2016-09-13",
          "2016-09-14",
          "2016-09-15",
          "2016-09-16",
          "2016-09-19",
          "2016-09-20",
          "2016-09-21",
          "2016-09-22",
          "2016-09-23",
          "2016-09-26",
          "2016-09-27",
          "2016-09-28",
          "2016-09-29",
          "2016-09-30",
          "2016-10-03",
          "2016-10-04",
          "2016-10-05",
          "2016-10-06",
          "2016-10-07",
          "2016-10-10",
          "2016-10-11",
          "2016-10-12",
          "2016-10-13",
          "2016-10-14",
          "2016-10-17",
          "2016-10-18",
          "2016-10-19",
          "2016-10-20",
          "2016-10-21",
          "2016-10-24",
          "2016-10-25",
          "2016-10-26",
          "2016-10-27",
          "2016-10-28",
          "2016-10-31",
          "2016-11-01",
          "2016-11-02",
          "2016-11-03",
          "2016-11-04",
          "2016-11-07",
          "2016-11-08",
          "2016-11-09",
          "2016-11-10",
          "2016-11-11",
          "2016-11-14",
          "2016-11-15",
          "2016-11-16",
          "2016-11-17",
          "2016-11-18",
          "2016-11-21",
          "2016-11-22",
          "2016-11-23",
          "2016-11-25",
          "2016-11-28",
          "2016-11-29",
          "2016-11-30",
          "2016-12-01",
          "2016-12-02",
          "2016-12-05",
          "2016-12-06",
          "2016-12-07",
          "2016-12-08",
          "2016-12-09",
          "2016-12-12",
          "2016-12-13",
          "2016-12-14",
          "2016-12-15",
          "2016-12-16",
          "2016-12-19",
          "2016-12-20",
          "2016-12-21",
          "2016-12-22",
          "2016-12-23",
          "2016-12-27",
          "2016-12-28",
          "2016-12-29",
          "2016-12-30"
         ],
         "y": [
          16.43000030517578,
          16.43000030517578,
          16.079999923706055,
          15.5,
          15.199999809265137,
          15.3100004196167,
          15.3100004196167,
          14.899999618530273,
          14.989999771118164,
          14.460000038146973,
          14.239999771118164,
          13.6899995803833,
          13.359999656677246,
          13.5600004196167,
          12.960000038146973,
          13.3100004196167,
          13.359999656677246,
          13.529999732971191,
          14.140000343322754,
          13.960000038146973,
          13.229999542236328,
          13.029999732971191,
          13.25,
          12.949999809265137,
          12.270000457763672,
          12.199999809265137,
          11.979999542236328,
          11.15999984741211,
          11.949999809265137,
          12.25,
          12.5600004196167,
          12.239999771118164,
          12.130000114440918,
          12.539999961853027,
          12.15999984741211,
          12.130000114440918,
          12.319999694824219,
          12.699999809265137,
          12.520000457763672,
          13.1899995803833,
          13.40999984741211,
          13.5,
          13.539999961853027,
          13.529999732971191,
          13.0600004196167,
          13.140000343322754,
          13.270000457763672,
          13.789999961853027,
          13.640000343322754,
          13.569999694824219,
          13.3100004196167,
          13.399999618530273,
          13.789999961853027,
          13.84000015258789,
          13.760000228881836,
          13.619999885559082,
          13.680000305175781,
          13.619999885559082,
          13.420000076293945,
          13.479999542236328,
          13.520000457763672,
          13.5600004196167,
          13.510000228881836,
          13.1899995803833,
          13.270000457763672,
          12.850000381469727,
          12.880000114440918,
          12.970000267028809,
          13.270000457763672,
          13.789999961853027,
          14.140000343322754,
          14,
          14.170000076293945,
          14.449999809265137,
          14.930000305175781,
          14.899999618530273,
          15.109999656677246,
          14.960000038146973,
          15.09000015258789,
          15.020000457763672,
          14.789999961853027,
          14.5600004196167,
          14.770000457763672,
          14.359999656677246,
          14.130000114440918,
          14.050000190734863,
          14.109999656677246,
          13.989999771118164,
          14.300000190734863,
          14.199999809265137,
          14.140000343322754,
          13.880000114440918,
          13.930000305175781,
          14.010000228881836,
          14.6899995803833,
          14.529999732971191,
          14.520000457763672,
          14.470000267028809,
          14.680000305175781,
          14.920000076293945,
          14.699999809265137,
          14.880000114440918,
          14.789999961853027,
          14.859999656677246,
          14.9399995803833,
          14.420000076293945,
          14.520000457763672,
          14.350000381469727,
          14.430000305175781,
          14.1899995803833,
          13.829999923706055,
          13.600000381469727,
          13.260000228881836,
          13.34000015258789,
          13.3100004196167,
          13.399999618530273,
          13.539999961853027,
          13.619999885559082,
          13.609999656677246,
          14.039999961853027,
          13,
          12.180000305175781,
          12.699999809265137,
          13.1899995803833,
          13.270000457763672,
          13.100000381469727,
          12.739999771118164,
          12.859999656677246,
          13.010000228881836,
          13.170000076293945,
          13.210000038146973,
          13.539999961853027,
          13.4399995803833,
          13.649999618530273,
          13.65999984741211,
          14.109999656677246,
          14.260000228881836,
          14.399999618530273,
          14.270000457763672,
          14.380000114440918,
          14.369999885559082,
          14.529999732971191,
          14.630000114440918,
          14.680000305175781,
          14.489999771118164,
          14.329999923706055,
          14.130000114440918,
          14.479999542236328,
          14.479999542236328,
          15.050000190734863,
          15.130000114440918,
          15.1899995803833,
          14.8100004196167,
          14.880000114440918,
          14.90999984741211,
          15.020000457763672,
          15.170000076293945,
          15.149999618530273,
          15.15999984741211,
          15.220000267028809,
          15.180000305175781,
          15.350000381469727,
          15.399999618530273,
          15.529999732971191,
          15.789999961853027,
          15.84000015258789,
          16.190000534057617,
          16.139999389648438,
          15.979999542236328,
          16,
          15.779999732971191,
          15.699999809265137,
          15.859999656677246,
          15.739999771118164,
          15.899999618530273,
          15.720000267028809,
          15.630000114440918,
          15.670000076293945,
          15.489999771118164,
          15.59000015258789,
          15.600000381469727,
          15.649999618530273,
          15.600000381469727,
          15.520000457763672,
          15.09000015258789,
          15.289999961853027,
          15.380000114440918,
          15.15999984741211,
          15.649999618530273,
          15.630000114440918,
          15.800000190734863,
          16.110000610351562,
          16.219999313354492,
          16.1299991607666,
          16.299999237060547,
          16.110000610351562,
          16.030000686645508,
          15.829999923706055,
          16,
          16.049999237060547,
          16.260000228881836,
          16.469999313354492,
          16.559999465942383,
          16.670000076293945,
          16.770000457763672,
          16.719999313354492,
          16.8700008392334,
          16.90999984741211,
          16.68000030517578,
          16.5,
          16.610000610351562,
          16.479999542236328,
          16.479999542236328,
          16.549999237060547,
          17.010000228881836,
          17,
          17.969999313354492,
          18.760000228881836,
          19.020000457763672,
          20.079999923706055,
          20.15999984741211,
          19.75,
          20.079999923706055,
          20,
          20.329999923706055,
          20.299999237060547,
          20.559999465942383,
          20.860000610351562,
          20.299999237060547,
          20.290000915527344,
          21.1200008392334,
          21.5,
          21.229999542236328,
          21.84000015258789,
          22.15999984741211,
          22.56999969482422,
          22.950000762939453,
          23.09000015258789,
          22.610000610351562,
          22.610000610351562,
          22.670000076293945,
          23.15999984741211,
          22.65999984741211,
          22.479999542236328,
          22.709999084472656,
          22.6299991607666,
          22.540000915527344,
          22.600000381469727,
          22.610000610351562,
          22.329999923706055,
          22,
          22.100000381469727
         ]
        }
       ],
       "layout": {
        "legend": {
         "bgcolor": "#F5F6F9",
         "font": {
          "color": "#4D5663"
         }
        },
        "paper_bgcolor": "#F5F6F9",
        "plot_bgcolor": "#F5F6F9",
        "template": {
         "data": {
          "bar": [
           {
            "error_x": {
             "color": "#2a3f5f"
            },
            "error_y": {
             "color": "#2a3f5f"
            },
            "marker": {
             "line": {
              "color": "#E5ECF6",
              "width": 0.5
             }
            },
            "type": "bar"
           }
          ],
          "barpolar": [
           {
            "marker": {
             "line": {
              "color": "#E5ECF6",
              "width": 0.5
             }
            },
            "type": "barpolar"
           }
          ],
          "carpet": [
           {
            "aaxis": {
             "endlinecolor": "#2a3f5f",
             "gridcolor": "white",
             "linecolor": "white",
             "minorgridcolor": "white",
             "startlinecolor": "#2a3f5f"
            },
            "baxis": {
             "endlinecolor": "#2a3f5f",
             "gridcolor": "white",
             "linecolor": "white",
             "minorgridcolor": "white",
             "startlinecolor": "#2a3f5f"
            },
            "type": "carpet"
           }
          ],
          "choropleth": [
           {
            "colorbar": {
             "outlinewidth": 0,
             "ticks": ""
            },
            "type": "choropleth"
           }
          ],
          "contour": [
           {
            "colorbar": {
             "outlinewidth": 0,
             "ticks": ""
            },
            "colorscale": [
             [
              0,
              "#0d0887"
             ],
             [
              0.1111111111111111,
              "#46039f"
             ],
             [
              0.2222222222222222,
              "#7201a8"
             ],
             [
              0.3333333333333333,
              "#9c179e"
             ],
             [
              0.4444444444444444,
              "#bd3786"
             ],
             [
              0.5555555555555556,
              "#d8576b"
             ],
             [
              0.6666666666666666,
              "#ed7953"
             ],
             [
              0.7777777777777778,
              "#fb9f3a"
             ],
             [
              0.8888888888888888,
              "#fdca26"
             ],
             [
              1,
              "#f0f921"
             ]
            ],
            "type": "contour"
           }
          ],
          "contourcarpet": [
           {
            "colorbar": {
             "outlinewidth": 0,
             "ticks": ""
            },
            "type": "contourcarpet"
           }
          ],
          "heatmap": [
           {
            "colorbar": {
             "outlinewidth": 0,
             "ticks": ""
            },
            "colorscale": [
             [
              0,
              "#0d0887"
             ],
             [
              0.1111111111111111,
              "#46039f"
             ],
             [
              0.2222222222222222,
              "#7201a8"
             ],
             [
              0.3333333333333333,
              "#9c179e"
             ],
             [
              0.4444444444444444,
              "#bd3786"
             ],
             [
              0.5555555555555556,
              "#d8576b"
             ],
             [
              0.6666666666666666,
              "#ed7953"
             ],
             [
              0.7777777777777778,
              "#fb9f3a"
             ],
             [
              0.8888888888888888,
              "#fdca26"
             ],
             [
              1,
              "#f0f921"
             ]
            ],
            "type": "heatmap"
           }
          ],
          "heatmapgl": [
           {
            "colorbar": {
             "outlinewidth": 0,
             "ticks": ""
            },
            "colorscale": [
             [
              0,
              "#0d0887"
             ],
             [
              0.1111111111111111,
              "#46039f"
             ],
             [
              0.2222222222222222,
              "#7201a8"
             ],
             [
              0.3333333333333333,
              "#9c179e"
             ],
             [
              0.4444444444444444,
              "#bd3786"
             ],
             [
              0.5555555555555556,
              "#d8576b"
             ],
             [
              0.6666666666666666,
              "#ed7953"
             ],
             [
              0.7777777777777778,
              "#fb9f3a"
             ],
             [
              0.8888888888888888,
              "#fdca26"
             ],
             [
              1,
              "#f0f921"
             ]
            ],
            "type": "heatmapgl"
           }
          ],
          "histogram": [
           {
            "marker": {
             "colorbar": {
              "outlinewidth": 0,
              "ticks": ""
             }
            },
            "type": "histogram"
           }
          ],
          "histogram2d": [
           {
            "colorbar": {
             "outlinewidth": 0,
             "ticks": ""
            },
            "colorscale": [
             [
              0,
              "#0d0887"
             ],
             [
              0.1111111111111111,
              "#46039f"
             ],
             [
              0.2222222222222222,
              "#7201a8"
             ],
             [
              0.3333333333333333,
              "#9c179e"
             ],
             [
              0.4444444444444444,
              "#bd3786"
             ],
             [
              0.5555555555555556,
              "#d8576b"
             ],
             [
              0.6666666666666666,
              "#ed7953"
             ],
             [
              0.7777777777777778,
              "#fb9f3a"
             ],
             [
              0.8888888888888888,
              "#fdca26"
             ],
             [
              1,
              "#f0f921"
             ]
            ],
            "type": "histogram2d"
           }
          ],
          "histogram2dcontour": [
           {
            "colorbar": {
             "outlinewidth": 0,
             "ticks": ""
            },
            "colorscale": [
             [
              0,
              "#0d0887"
             ],
             [
              0.1111111111111111,
              "#46039f"
             ],
             [
              0.2222222222222222,
              "#7201a8"
             ],
             [
              0.3333333333333333,
              "#9c179e"
             ],
             [
              0.4444444444444444,
              "#bd3786"
             ],
             [
              0.5555555555555556,
              "#d8576b"
             ],
             [
              0.6666666666666666,
              "#ed7953"
             ],
             [
              0.7777777777777778,
              "#fb9f3a"
             ],
             [
              0.8888888888888888,
              "#fdca26"
             ],
             [
              1,
              "#f0f921"
             ]
            ],
            "type": "histogram2dcontour"
           }
          ],
          "mesh3d": [
           {
            "colorbar": {
             "outlinewidth": 0,
             "ticks": ""
            },
            "type": "mesh3d"
           }
          ],
          "parcoords": [
           {
            "line": {
             "colorbar": {
              "outlinewidth": 0,
              "ticks": ""
             }
            },
            "type": "parcoords"
           }
          ],
          "scatter": [
           {
            "marker": {
             "colorbar": {
              "outlinewidth": 0,
              "ticks": ""
             }
            },
            "type": "scatter"
           }
          ],
          "scatter3d": [
           {
            "line": {
             "colorbar": {
              "outlinewidth": 0,
              "ticks": ""
             }
            },
            "marker": {
             "colorbar": {
              "outlinewidth": 0,
              "ticks": ""
             }
            },
            "type": "scatter3d"
           }
          ],
          "scattercarpet": [
           {
            "marker": {
             "colorbar": {
              "outlinewidth": 0,
              "ticks": ""
             }
            },
            "type": "scattercarpet"
           }
          ],
          "scattergeo": [
           {
            "marker": {
             "colorbar": {
              "outlinewidth": 0,
              "ticks": ""
             }
            },
            "type": "scattergeo"
           }
          ],
          "scattergl": [
           {
            "marker": {
             "colorbar": {
              "outlinewidth": 0,
              "ticks": ""
             }
            },
            "type": "scattergl"
           }
          ],
          "scattermapbox": [
           {
            "marker": {
             "colorbar": {
              "outlinewidth": 0,
              "ticks": ""
             }
            },
            "type": "scattermapbox"
           }
          ],
          "scatterpolar": [
           {
            "marker": {
             "colorbar": {
              "outlinewidth": 0,
              "ticks": ""
             }
            },
            "type": "scatterpolar"
           }
          ],
          "scatterpolargl": [
           {
            "marker": {
             "colorbar": {
              "outlinewidth": 0,
              "ticks": ""
             }
            },
            "type": "scatterpolargl"
           }
          ],
          "scatterternary": [
           {
            "marker": {
             "colorbar": {
              "outlinewidth": 0,
              "ticks": ""
             }
            },
            "type": "scatterternary"
           }
          ],
          "surface": [
           {
            "colorbar": {
             "outlinewidth": 0,
             "ticks": ""
            },
            "colorscale": [
             [
              0,
              "#0d0887"
             ],
             [
              0.1111111111111111,
              "#46039f"
             ],
             [
              0.2222222222222222,
              "#7201a8"
             ],
             [
              0.3333333333333333,
              "#9c179e"
             ],
             [
              0.4444444444444444,
              "#bd3786"
             ],
             [
              0.5555555555555556,
              "#d8576b"
             ],
             [
              0.6666666666666666,
              "#ed7953"
             ],
             [
              0.7777777777777778,
              "#fb9f3a"
             ],
             [
              0.8888888888888888,
              "#fdca26"
             ],
             [
              1,
              "#f0f921"
             ]
            ],
            "type": "surface"
           }
          ],
          "table": [
           {
            "cells": {
             "fill": {
              "color": "#EBF0F8"
             },
             "line": {
              "color": "white"
             }
            },
            "header": {
             "fill": {
              "color": "#C8D4E3"
             },
             "line": {
              "color": "white"
             }
            },
            "type": "table"
           }
          ]
         },
         "layout": {
          "annotationdefaults": {
           "arrowcolor": "#2a3f5f",
           "arrowhead": 0,
           "arrowwidth": 1
          },
          "colorscale": {
           "diverging": [
            [
             0,
             "#8e0152"
            ],
            [
             0.1,
             "#c51b7d"
            ],
            [
             0.2,
             "#de77ae"
            ],
            [
             0.3,
             "#f1b6da"
            ],
            [
             0.4,
             "#fde0ef"
            ],
            [
             0.5,
             "#f7f7f7"
            ],
            [
             0.6,
             "#e6f5d0"
            ],
            [
             0.7,
             "#b8e186"
            ],
            [
             0.8,
             "#7fbc41"
            ],
            [
             0.9,
             "#4d9221"
            ],
            [
             1,
             "#276419"
            ]
           ],
           "sequential": [
            [
             0,
             "#0d0887"
            ],
            [
             0.1111111111111111,
             "#46039f"
            ],
            [
             0.2222222222222222,
             "#7201a8"
            ],
            [
             0.3333333333333333,
             "#9c179e"
            ],
            [
             0.4444444444444444,
             "#bd3786"
            ],
            [
             0.5555555555555556,
             "#d8576b"
            ],
            [
             0.6666666666666666,
             "#ed7953"
            ],
            [
             0.7777777777777778,
             "#fb9f3a"
            ],
            [
             0.8888888888888888,
             "#fdca26"
            ],
            [
             1,
             "#f0f921"
            ]
           ],
           "sequentialminus": [
            [
             0,
             "#0d0887"
            ],
            [
             0.1111111111111111,
             "#46039f"
            ],
            [
             0.2222222222222222,
             "#7201a8"
            ],
            [
             0.3333333333333333,
             "#9c179e"
            ],
            [
             0.4444444444444444,
             "#bd3786"
            ],
            [
             0.5555555555555556,
             "#d8576b"
            ],
            [
             0.6666666666666666,
             "#ed7953"
            ],
            [
             0.7777777777777778,
             "#fb9f3a"
            ],
            [
             0.8888888888888888,
             "#fdca26"
            ],
            [
             1,
             "#f0f921"
            ]
           ]
          },
          "colorway": [
           "#636efa",
           "#EF553B",
           "#00cc96",
           "#ab63fa",
           "#FFA15A",
           "#19d3f3",
           "#FF6692",
           "#B6E880",
           "#FF97FF",
           "#FECB52"
          ],
          "font": {
           "color": "#2a3f5f"
          },
          "geo": {
           "bgcolor": "white",
           "lakecolor": "white",
           "landcolor": "#E5ECF6",
           "showlakes": true,
           "showland": true,
           "subunitcolor": "white"
          },
          "hoverlabel": {
           "align": "left"
          },
          "hovermode": "closest",
          "mapbox": {
           "style": "light"
          },
          "paper_bgcolor": "white",
          "plot_bgcolor": "#E5ECF6",
          "polar": {
           "angularaxis": {
            "gridcolor": "white",
            "linecolor": "white",
            "ticks": ""
           },
           "bgcolor": "#E5ECF6",
           "radialaxis": {
            "gridcolor": "white",
            "linecolor": "white",
            "ticks": ""
           }
          },
          "scene": {
           "xaxis": {
            "backgroundcolor": "#E5ECF6",
            "gridcolor": "white",
            "gridwidth": 2,
            "linecolor": "white",
            "showbackground": true,
            "ticks": "",
            "zerolinecolor": "white"
           },
           "yaxis": {
            "backgroundcolor": "#E5ECF6",
            "gridcolor": "white",
            "gridwidth": 2,
            "linecolor": "white",
            "showbackground": true,
            "ticks": "",
            "zerolinecolor": "white"
           },
           "zaxis": {
            "backgroundcolor": "#E5ECF6",
            "gridcolor": "white",
            "gridwidth": 2,
            "linecolor": "white",
            "showbackground": true,
            "ticks": "",
            "zerolinecolor": "white"
           }
          },
          "shapedefaults": {
           "line": {
            "color": "#2a3f5f"
           }
          },
          "ternary": {
           "aaxis": {
            "gridcolor": "white",
            "linecolor": "white",
            "ticks": ""
           },
           "baxis": {
            "gridcolor": "white",
            "linecolor": "white",
            "ticks": ""
           },
           "bgcolor": "#E5ECF6",
           "caxis": {
            "gridcolor": "white",
            "linecolor": "white",
            "ticks": ""
           }
          },
          "title": {
           "x": 0.05
          },
          "xaxis": {
           "automargin": true,
           "gridcolor": "white",
           "linecolor": "white",
           "ticks": "",
           "zerolinecolor": "white",
           "zerolinewidth": 2
          },
          "yaxis": {
           "automargin": true,
           "gridcolor": "white",
           "linecolor": "white",
           "ticks": "",
           "zerolinecolor": "white",
           "zerolinewidth": 2
          }
         }
        },
        "title": {
         "font": {
          "color": "#4D5663"
         }
        },
        "xaxis": {
         "gridcolor": "#E1E5ED",
         "showgrid": true,
         "tickfont": {
          "color": "#4D5663"
         },
         "title": {
          "font": {
           "color": "#4D5663"
          },
          "text": ""
         },
         "zerolinecolor": "#E1E5ED"
        },
        "yaxis": {
         "gridcolor": "#E1E5ED",
         "showgrid": true,
         "tickfont": {
          "color": "#4D5663"
         },
         "title": {
          "font": {
           "color": "#4D5663"
          },
          "text": ""
         },
         "zerolinecolor": "#E1E5ED"
        }
       }
      },
      "text/html": [
       "<div>\n",
       "        \n",
       "        \n",
       "            <div id=\"1c76c288-9de5-45dc-844e-89cc9278fb54\" class=\"plotly-graph-div\" style=\"height:525px; width:100%;\"></div>\n",
       "            <script type=\"text/javascript\">\n",
       "                require([\"plotly\"], function(Plotly) {\n",
       "                    window.PLOTLYENV=window.PLOTLYENV || {};\n",
       "                    window.PLOTLYENV.BASE_URL='https://plot.ly';\n",
       "                    \n",
       "                if (document.getElementById(\"1c76c288-9de5-45dc-844e-89cc9278fb54\")) {\n",
       "                    Plotly.newPlot(\n",
       "                        '1c76c288-9de5-45dc-844e-89cc9278fb54',\n",
       "                        [{\"line\": {\"color\": \"rgba(255, 153, 51, 1.0)\", \"dash\": \"solid\", \"shape\": \"linear\", \"width\": 1.3}, \"mode\": \"lines\", \"name\": \"Close\", \"text\": \"\", \"type\": \"scatter\", \"x\": [\"2016-01-04\", \"2016-01-05\", \"2016-01-06\", \"2016-01-07\", \"2016-01-08\", \"2016-01-11\", \"2016-01-12\", \"2016-01-13\", \"2016-01-14\", \"2016-01-15\", \"2016-01-19\", \"2016-01-20\", \"2016-01-21\", \"2016-01-22\", \"2016-01-25\", \"2016-01-26\", \"2016-01-27\", \"2016-01-28\", \"2016-01-29\", \"2016-02-01\", \"2016-02-02\", \"2016-02-03\", \"2016-02-04\", \"2016-02-05\", \"2016-02-08\", \"2016-02-09\", \"2016-02-10\", \"2016-02-11\", \"2016-02-12\", \"2016-02-16\", \"2016-02-17\", \"2016-02-18\", \"2016-02-19\", \"2016-02-22\", \"2016-02-23\", \"2016-02-24\", \"2016-02-25\", \"2016-02-26\", \"2016-02-29\", \"2016-03-01\", \"2016-03-02\", \"2016-03-03\", \"2016-03-04\", \"2016-03-07\", \"2016-03-08\", \"2016-03-09\", \"2016-03-10\", \"2016-03-11\", \"2016-03-14\", \"2016-03-15\", \"2016-03-16\", \"2016-03-17\", \"2016-03-18\", \"2016-03-21\", \"2016-03-22\", \"2016-03-23\", \"2016-03-24\", \"2016-03-28\", \"2016-03-29\", \"2016-03-30\", \"2016-03-31\", \"2016-04-01\", \"2016-04-04\", \"2016-04-05\", \"2016-04-06\", \"2016-04-07\", \"2016-04-08\", \"2016-04-11\", \"2016-04-12\", \"2016-04-13\", \"2016-04-14\", \"2016-04-15\", \"2016-04-18\", \"2016-04-19\", \"2016-04-20\", \"2016-04-21\", \"2016-04-22\", \"2016-04-25\", \"2016-04-26\", \"2016-04-27\", \"2016-04-28\", \"2016-04-29\", \"2016-05-02\", \"2016-05-03\", \"2016-05-04\", \"2016-05-05\", \"2016-05-06\", \"2016-05-09\", \"2016-05-10\", \"2016-05-11\", \"2016-05-12\", \"2016-05-13\", \"2016-05-16\", \"2016-05-17\", \"2016-05-18\", \"2016-05-19\", \"2016-05-20\", \"2016-05-23\", \"2016-05-24\", \"2016-05-25\", \"2016-05-26\", \"2016-05-27\", \"2016-05-31\", \"2016-06-01\", \"2016-06-02\", \"2016-06-03\", \"2016-06-06\", \"2016-06-07\", \"2016-06-08\", \"2016-06-09\", \"2016-06-10\", \"2016-06-13\", \"2016-06-14\", \"2016-06-15\", \"2016-06-16\", \"2016-06-17\", \"2016-06-20\", \"2016-06-21\", \"2016-06-22\", \"2016-06-23\", \"2016-06-24\", \"2016-06-27\", \"2016-06-28\", \"2016-06-29\", \"2016-06-30\", \"2016-07-01\", \"2016-07-05\", \"2016-07-06\", \"2016-07-07\", \"2016-07-08\", \"2016-07-11\", \"2016-07-12\", \"2016-07-13\", \"2016-07-14\", \"2016-07-15\", \"2016-07-18\", \"2016-07-19\", \"2016-07-20\", \"2016-07-21\", \"2016-07-22\", \"2016-07-25\", \"2016-07-26\", \"2016-07-27\", \"2016-07-28\", \"2016-07-29\", \"2016-08-01\", \"2016-08-02\", \"2016-08-03\", \"2016-08-04\", \"2016-08-05\", \"2016-08-08\", \"2016-08-09\", \"2016-08-10\", \"2016-08-11\", \"2016-08-12\", \"2016-08-15\", \"2016-08-16\", \"2016-08-17\", \"2016-08-18\", \"2016-08-19\", \"2016-08-22\", \"2016-08-23\", \"2016-08-24\", \"2016-08-25\", \"2016-08-26\", \"2016-08-29\", \"2016-08-30\", \"2016-08-31\", \"2016-09-01\", \"2016-09-02\", \"2016-09-06\", \"2016-09-07\", \"2016-09-08\", \"2016-09-09\", \"2016-09-12\", \"2016-09-13\", \"2016-09-14\", \"2016-09-15\", \"2016-09-16\", \"2016-09-19\", \"2016-09-20\", \"2016-09-21\", \"2016-09-22\", \"2016-09-23\", \"2016-09-26\", \"2016-09-27\", \"2016-09-28\", \"2016-09-29\", \"2016-09-30\", \"2016-10-03\", \"2016-10-04\", \"2016-10-05\", \"2016-10-06\", \"2016-10-07\", \"2016-10-10\", \"2016-10-11\", \"2016-10-12\", \"2016-10-13\", \"2016-10-14\", \"2016-10-17\", \"2016-10-18\", \"2016-10-19\", \"2016-10-20\", \"2016-10-21\", \"2016-10-24\", \"2016-10-25\", \"2016-10-26\", \"2016-10-27\", \"2016-10-28\", \"2016-10-31\", \"2016-11-01\", \"2016-11-02\", \"2016-11-03\", \"2016-11-04\", \"2016-11-07\", \"2016-11-08\", \"2016-11-09\", \"2016-11-10\", \"2016-11-11\", \"2016-11-14\", \"2016-11-15\", \"2016-11-16\", \"2016-11-17\", \"2016-11-18\", \"2016-11-21\", \"2016-11-22\", \"2016-11-23\", \"2016-11-25\", \"2016-11-28\", \"2016-11-29\", \"2016-11-30\", \"2016-12-01\", \"2016-12-02\", \"2016-12-05\", \"2016-12-06\", \"2016-12-07\", \"2016-12-08\", \"2016-12-09\", \"2016-12-12\", \"2016-12-13\", \"2016-12-14\", \"2016-12-15\", \"2016-12-16\", \"2016-12-19\", \"2016-12-20\", \"2016-12-21\", \"2016-12-22\", \"2016-12-23\", \"2016-12-27\", \"2016-12-28\", \"2016-12-29\", \"2016-12-30\"], \"y\": [16.43000030517578, 16.43000030517578, 16.079999923706055, 15.5, 15.199999809265137, 15.3100004196167, 15.3100004196167, 14.899999618530273, 14.989999771118164, 14.460000038146973, 14.239999771118164, 13.6899995803833, 13.359999656677246, 13.5600004196167, 12.960000038146973, 13.3100004196167, 13.359999656677246, 13.529999732971191, 14.140000343322754, 13.960000038146973, 13.229999542236328, 13.029999732971191, 13.25, 12.949999809265137, 12.270000457763672, 12.199999809265137, 11.979999542236328, 11.15999984741211, 11.949999809265137, 12.25, 12.5600004196167, 12.239999771118164, 12.130000114440918, 12.539999961853027, 12.15999984741211, 12.130000114440918, 12.319999694824219, 12.699999809265137, 12.520000457763672, 13.1899995803833, 13.40999984741211, 13.5, 13.539999961853027, 13.529999732971191, 13.0600004196167, 13.140000343322754, 13.270000457763672, 13.789999961853027, 13.640000343322754, 13.569999694824219, 13.3100004196167, 13.399999618530273, 13.789999961853027, 13.84000015258789, 13.760000228881836, 13.619999885559082, 13.680000305175781, 13.619999885559082, 13.420000076293945, 13.479999542236328, 13.520000457763672, 13.5600004196167, 13.510000228881836, 13.1899995803833, 13.270000457763672, 12.850000381469727, 12.880000114440918, 12.970000267028809, 13.270000457763672, 13.789999961853027, 14.140000343322754, 14.0, 14.170000076293945, 14.449999809265137, 14.930000305175781, 14.899999618530273, 15.109999656677246, 14.960000038146973, 15.09000015258789, 15.020000457763672, 14.789999961853027, 14.5600004196167, 14.770000457763672, 14.359999656677246, 14.130000114440918, 14.050000190734863, 14.109999656677246, 13.989999771118164, 14.300000190734863, 14.199999809265137, 14.140000343322754, 13.880000114440918, 13.930000305175781, 14.010000228881836, 14.6899995803833, 14.529999732971191, 14.520000457763672, 14.470000267028809, 14.680000305175781, 14.920000076293945, 14.699999809265137, 14.880000114440918, 14.789999961853027, 14.859999656677246, 14.9399995803833, 14.420000076293945, 14.520000457763672, 14.350000381469727, 14.430000305175781, 14.1899995803833, 13.829999923706055, 13.600000381469727, 13.260000228881836, 13.34000015258789, 13.3100004196167, 13.399999618530273, 13.539999961853027, 13.619999885559082, 13.609999656677246, 14.039999961853027, 13.0, 12.180000305175781, 12.699999809265137, 13.1899995803833, 13.270000457763672, 13.100000381469727, 12.739999771118164, 12.859999656677246, 13.010000228881836, 13.170000076293945, 13.210000038146973, 13.539999961853027, 13.4399995803833, 13.649999618530273, 13.65999984741211, 14.109999656677246, 14.260000228881836, 14.399999618530273, 14.270000457763672, 14.380000114440918, 14.369999885559082, 14.529999732971191, 14.630000114440918, 14.680000305175781, 14.489999771118164, 14.329999923706055, 14.130000114440918, 14.479999542236328, 14.479999542236328, 15.050000190734863, 15.130000114440918, 15.1899995803833, 14.8100004196167, 14.880000114440918, 14.90999984741211, 15.020000457763672, 15.170000076293945, 15.149999618530273, 15.15999984741211, 15.220000267028809, 15.180000305175781, 15.350000381469727, 15.399999618530273, 15.529999732971191, 15.789999961853027, 15.84000015258789, 16.190000534057617, 16.139999389648438, 15.979999542236328, 16.0, 15.779999732971191, 15.699999809265137, 15.859999656677246, 15.739999771118164, 15.899999618530273, 15.720000267028809, 15.630000114440918, 15.670000076293945, 15.489999771118164, 15.59000015258789, 15.600000381469727, 15.649999618530273, 15.600000381469727, 15.520000457763672, 15.09000015258789, 15.289999961853027, 15.380000114440918, 15.15999984741211, 15.649999618530273, 15.630000114440918, 15.800000190734863, 16.110000610351562, 16.219999313354492, 16.1299991607666, 16.299999237060547, 16.110000610351562, 16.030000686645508, 15.829999923706055, 16.0, 16.049999237060547, 16.260000228881836, 16.469999313354492, 16.559999465942383, 16.670000076293945, 16.770000457763672, 16.719999313354492, 16.8700008392334, 16.90999984741211, 16.68000030517578, 16.5, 16.610000610351562, 16.479999542236328, 16.479999542236328, 16.549999237060547, 17.010000228881836, 17.0, 17.969999313354492, 18.760000228881836, 19.020000457763672, 20.079999923706055, 20.15999984741211, 19.75, 20.079999923706055, 20.0, 20.329999923706055, 20.299999237060547, 20.559999465942383, 20.860000610351562, 20.299999237060547, 20.290000915527344, 21.1200008392334, 21.5, 21.229999542236328, 21.84000015258789, 22.15999984741211, 22.56999969482422, 22.950000762939453, 23.09000015258789, 22.610000610351562, 22.610000610351562, 22.670000076293945, 23.15999984741211, 22.65999984741211, 22.479999542236328, 22.709999084472656, 22.6299991607666, 22.540000915527344, 22.600000381469727, 22.610000610351562, 22.329999923706055, 22.0, 22.100000381469727]}],\n",
       "                        {\"legend\": {\"bgcolor\": \"#F5F6F9\", \"font\": {\"color\": \"#4D5663\"}}, \"paper_bgcolor\": \"#F5F6F9\", \"plot_bgcolor\": \"#F5F6F9\", \"template\": {\"data\": {\"bar\": [{\"error_x\": {\"color\": \"#2a3f5f\"}, \"error_y\": {\"color\": \"#2a3f5f\"}, \"marker\": {\"line\": {\"color\": \"#E5ECF6\", \"width\": 0.5}}, \"type\": \"bar\"}], \"barpolar\": [{\"marker\": {\"line\": {\"color\": \"#E5ECF6\", \"width\": 0.5}}, \"type\": \"barpolar\"}], \"carpet\": [{\"aaxis\": {\"endlinecolor\": \"#2a3f5f\", \"gridcolor\": \"white\", \"linecolor\": \"white\", \"minorgridcolor\": \"white\", \"startlinecolor\": \"#2a3f5f\"}, \"baxis\": {\"endlinecolor\": \"#2a3f5f\", \"gridcolor\": \"white\", \"linecolor\": \"white\", \"minorgridcolor\": \"white\", \"startlinecolor\": \"#2a3f5f\"}, \"type\": \"carpet\"}], \"choropleth\": [{\"colorbar\": {\"outlinewidth\": 0, \"ticks\": \"\"}, \"type\": \"choropleth\"}], \"contour\": [{\"colorbar\": {\"outlinewidth\": 0, \"ticks\": \"\"}, \"colorscale\": [[0.0, \"#0d0887\"], [0.1111111111111111, \"#46039f\"], [0.2222222222222222, \"#7201a8\"], [0.3333333333333333, \"#9c179e\"], [0.4444444444444444, \"#bd3786\"], [0.5555555555555556, \"#d8576b\"], [0.6666666666666666, \"#ed7953\"], [0.7777777777777778, \"#fb9f3a\"], [0.8888888888888888, \"#fdca26\"], [1.0, \"#f0f921\"]], \"type\": \"contour\"}], \"contourcarpet\": [{\"colorbar\": {\"outlinewidth\": 0, \"ticks\": \"\"}, \"type\": \"contourcarpet\"}], \"heatmap\": [{\"colorbar\": {\"outlinewidth\": 0, \"ticks\": \"\"}, \"colorscale\": [[0.0, \"#0d0887\"], [0.1111111111111111, \"#46039f\"], [0.2222222222222222, \"#7201a8\"], [0.3333333333333333, \"#9c179e\"], [0.4444444444444444, \"#bd3786\"], [0.5555555555555556, \"#d8576b\"], [0.6666666666666666, \"#ed7953\"], [0.7777777777777778, \"#fb9f3a\"], [0.8888888888888888, \"#fdca26\"], [1.0, \"#f0f921\"]], \"type\": \"heatmap\"}], \"heatmapgl\": [{\"colorbar\": {\"outlinewidth\": 0, \"ticks\": \"\"}, \"colorscale\": [[0.0, \"#0d0887\"], [0.1111111111111111, \"#46039f\"], [0.2222222222222222, \"#7201a8\"], [0.3333333333333333, \"#9c179e\"], [0.4444444444444444, \"#bd3786\"], [0.5555555555555556, \"#d8576b\"], [0.6666666666666666, \"#ed7953\"], [0.7777777777777778, \"#fb9f3a\"], [0.8888888888888888, \"#fdca26\"], [1.0, \"#f0f921\"]], \"type\": \"heatmapgl\"}], \"histogram\": [{\"marker\": {\"colorbar\": {\"outlinewidth\": 0, \"ticks\": \"\"}}, \"type\": \"histogram\"}], \"histogram2d\": [{\"colorbar\": {\"outlinewidth\": 0, \"ticks\": \"\"}, \"colorscale\": [[0.0, \"#0d0887\"], [0.1111111111111111, \"#46039f\"], [0.2222222222222222, \"#7201a8\"], [0.3333333333333333, \"#9c179e\"], [0.4444444444444444, \"#bd3786\"], [0.5555555555555556, \"#d8576b\"], [0.6666666666666666, \"#ed7953\"], [0.7777777777777778, \"#fb9f3a\"], [0.8888888888888888, \"#fdca26\"], [1.0, \"#f0f921\"]], \"type\": \"histogram2d\"}], \"histogram2dcontour\": [{\"colorbar\": {\"outlinewidth\": 0, \"ticks\": \"\"}, \"colorscale\": [[0.0, \"#0d0887\"], [0.1111111111111111, \"#46039f\"], [0.2222222222222222, \"#7201a8\"], [0.3333333333333333, \"#9c179e\"], [0.4444444444444444, \"#bd3786\"], [0.5555555555555556, \"#d8576b\"], [0.6666666666666666, \"#ed7953\"], [0.7777777777777778, \"#fb9f3a\"], [0.8888888888888888, \"#fdca26\"], [1.0, \"#f0f921\"]], \"type\": \"histogram2dcontour\"}], \"mesh3d\": [{\"colorbar\": {\"outlinewidth\": 0, \"ticks\": \"\"}, \"type\": \"mesh3d\"}], \"parcoords\": [{\"line\": {\"colorbar\": {\"outlinewidth\": 0, \"ticks\": \"\"}}, \"type\": \"parcoords\"}], \"scatter\": [{\"marker\": {\"colorbar\": {\"outlinewidth\": 0, \"ticks\": \"\"}}, \"type\": \"scatter\"}], \"scatter3d\": [{\"line\": {\"colorbar\": {\"outlinewidth\": 0, \"ticks\": \"\"}}, \"marker\": {\"colorbar\": {\"outlinewidth\": 0, \"ticks\": \"\"}}, \"type\": \"scatter3d\"}], \"scattercarpet\": [{\"marker\": {\"colorbar\": {\"outlinewidth\": 0, \"ticks\": \"\"}}, \"type\": \"scattercarpet\"}], \"scattergeo\": [{\"marker\": {\"colorbar\": {\"outlinewidth\": 0, \"ticks\": \"\"}}, \"type\": \"scattergeo\"}], \"scattergl\": [{\"marker\": {\"colorbar\": {\"outlinewidth\": 0, \"ticks\": \"\"}}, \"type\": \"scattergl\"}], \"scattermapbox\": [{\"marker\": {\"colorbar\": {\"outlinewidth\": 0, \"ticks\": \"\"}}, \"type\": \"scattermapbox\"}], \"scatterpolar\": [{\"marker\": {\"colorbar\": {\"outlinewidth\": 0, \"ticks\": \"\"}}, \"type\": \"scatterpolar\"}], \"scatterpolargl\": [{\"marker\": {\"colorbar\": {\"outlinewidth\": 0, \"ticks\": \"\"}}, \"type\": \"scatterpolargl\"}], \"scatterternary\": [{\"marker\": {\"colorbar\": {\"outlinewidth\": 0, \"ticks\": \"\"}}, \"type\": \"scatterternary\"}], \"surface\": [{\"colorbar\": {\"outlinewidth\": 0, \"ticks\": \"\"}, \"colorscale\": [[0.0, \"#0d0887\"], [0.1111111111111111, \"#46039f\"], [0.2222222222222222, \"#7201a8\"], [0.3333333333333333, \"#9c179e\"], [0.4444444444444444, \"#bd3786\"], [0.5555555555555556, \"#d8576b\"], [0.6666666666666666, \"#ed7953\"], [0.7777777777777778, \"#fb9f3a\"], [0.8888888888888888, \"#fdca26\"], [1.0, \"#f0f921\"]], \"type\": \"surface\"}], \"table\": [{\"cells\": {\"fill\": {\"color\": \"#EBF0F8\"}, \"line\": {\"color\": \"white\"}}, \"header\": {\"fill\": {\"color\": \"#C8D4E3\"}, \"line\": {\"color\": \"white\"}}, \"type\": \"table\"}]}, \"layout\": {\"annotationdefaults\": {\"arrowcolor\": \"#2a3f5f\", \"arrowhead\": 0, \"arrowwidth\": 1}, \"colorscale\": {\"diverging\": [[0, \"#8e0152\"], [0.1, \"#c51b7d\"], [0.2, \"#de77ae\"], [0.3, \"#f1b6da\"], [0.4, \"#fde0ef\"], [0.5, \"#f7f7f7\"], [0.6, \"#e6f5d0\"], [0.7, \"#b8e186\"], [0.8, \"#7fbc41\"], [0.9, \"#4d9221\"], [1, \"#276419\"]], \"sequential\": [[0.0, \"#0d0887\"], [0.1111111111111111, \"#46039f\"], [0.2222222222222222, \"#7201a8\"], [0.3333333333333333, \"#9c179e\"], [0.4444444444444444, \"#bd3786\"], [0.5555555555555556, \"#d8576b\"], [0.6666666666666666, \"#ed7953\"], [0.7777777777777778, \"#fb9f3a\"], [0.8888888888888888, \"#fdca26\"], [1.0, \"#f0f921\"]], \"sequentialminus\": [[0.0, \"#0d0887\"], [0.1111111111111111, \"#46039f\"], [0.2222222222222222, \"#7201a8\"], [0.3333333333333333, \"#9c179e\"], [0.4444444444444444, \"#bd3786\"], [0.5555555555555556, \"#d8576b\"], [0.6666666666666666, \"#ed7953\"], [0.7777777777777778, \"#fb9f3a\"], [0.8888888888888888, \"#fdca26\"], [1.0, \"#f0f921\"]]}, \"colorway\": [\"#636efa\", \"#EF553B\", \"#00cc96\", \"#ab63fa\", \"#FFA15A\", \"#19d3f3\", \"#FF6692\", \"#B6E880\", \"#FF97FF\", \"#FECB52\"], \"font\": {\"color\": \"#2a3f5f\"}, \"geo\": {\"bgcolor\": \"white\", \"lakecolor\": \"white\", \"landcolor\": \"#E5ECF6\", \"showlakes\": true, \"showland\": true, \"subunitcolor\": \"white\"}, \"hoverlabel\": {\"align\": \"left\"}, \"hovermode\": \"closest\", \"mapbox\": {\"style\": \"light\"}, \"paper_bgcolor\": \"white\", \"plot_bgcolor\": \"#E5ECF6\", \"polar\": {\"angularaxis\": {\"gridcolor\": \"white\", \"linecolor\": \"white\", \"ticks\": \"\"}, \"bgcolor\": \"#E5ECF6\", \"radialaxis\": {\"gridcolor\": \"white\", \"linecolor\": \"white\", \"ticks\": \"\"}}, \"scene\": {\"xaxis\": {\"backgroundcolor\": \"#E5ECF6\", \"gridcolor\": \"white\", \"gridwidth\": 2, \"linecolor\": \"white\", \"showbackground\": true, \"ticks\": \"\", \"zerolinecolor\": \"white\"}, \"yaxis\": {\"backgroundcolor\": \"#E5ECF6\", \"gridcolor\": \"white\", \"gridwidth\": 2, \"linecolor\": \"white\", \"showbackground\": true, \"ticks\": \"\", \"zerolinecolor\": \"white\"}, \"zaxis\": {\"backgroundcolor\": \"#E5ECF6\", \"gridcolor\": \"white\", \"gridwidth\": 2, \"linecolor\": \"white\", \"showbackground\": true, \"ticks\": \"\", \"zerolinecolor\": \"white\"}}, \"shapedefaults\": {\"line\": {\"color\": \"#2a3f5f\"}}, \"ternary\": {\"aaxis\": {\"gridcolor\": \"white\", \"linecolor\": \"white\", \"ticks\": \"\"}, \"baxis\": {\"gridcolor\": \"white\", \"linecolor\": \"white\", \"ticks\": \"\"}, \"bgcolor\": \"#E5ECF6\", \"caxis\": {\"gridcolor\": \"white\", \"linecolor\": \"white\", \"ticks\": \"\"}}, \"title\": {\"x\": 0.05}, \"xaxis\": {\"automargin\": true, \"gridcolor\": \"white\", \"linecolor\": \"white\", \"ticks\": \"\", \"zerolinecolor\": \"white\", \"zerolinewidth\": 2}, \"yaxis\": {\"automargin\": true, \"gridcolor\": \"white\", \"linecolor\": \"white\", \"ticks\": \"\", \"zerolinecolor\": \"white\", \"zerolinewidth\": 2}}}, \"title\": {\"font\": {\"color\": \"#4D5663\"}}, \"xaxis\": {\"gridcolor\": \"#E1E5ED\", \"showgrid\": true, \"tickfont\": {\"color\": \"#4D5663\"}, \"title\": {\"font\": {\"color\": \"#4D5663\"}, \"text\": \"\"}, \"zerolinecolor\": \"#E1E5ED\"}, \"yaxis\": {\"gridcolor\": \"#E1E5ED\", \"showgrid\": true, \"tickfont\": {\"color\": \"#4D5663\"}, \"title\": {\"font\": {\"color\": \"#4D5663\"}, \"text\": \"\"}, \"zerolinecolor\": \"#E1E5ED\"}},\n",
       "                        {\"showLink\": true, \"linkText\": \"Export to plot.ly\", \"plotlyServerURL\": \"https://plot.ly\", \"responsive\": true}\n",
       "                    ).then(function(){\n",
       "                            \n",
       "var gd = document.getElementById('1c76c288-9de5-45dc-844e-89cc9278fb54');\n",
       "var x = new MutationObserver(function (mutations, observer) {{\n",
       "        var display = window.getComputedStyle(gd).display;\n",
       "        if (!display || display === 'none') {{\n",
       "            console.log([gd, 'removed!']);\n",
       "            Plotly.purge(gd);\n",
       "            observer.disconnect();\n",
       "        }}\n",
       "}});\n",
       "\n",
       "// Listen for the removal of the full notebook cells\n",
       "var notebookContainer = gd.closest('#notebook-container');\n",
       "if (notebookContainer) {{\n",
       "    x.observe(notebookContainer, {childList: true});\n",
       "}}\n",
       "\n",
       "// Listen for the clearing of the current output cell\n",
       "var outputEl = gd.closest('.output');\n",
       "if (outputEl) {{\n",
       "    x.observe(outputEl, {childList: true});\n",
       "}}\n",
       "\n",
       "                        })\n",
       "                };\n",
       "                });\n",
       "            </script>\n",
       "        </div>"
      ]
     },
     "metadata": {},
     "output_type": "display_data"
    },
    {
     "data": {
      "application/vnd.plotly.v1+json": {
       "config": {
        "linkText": "Export to plot.ly",
        "plotlyServerURL": "https://plot.ly",
        "showLink": true
       },
       "data": [
        {
         "line": {
          "color": "rgba(255, 153, 51, 1.0)",
          "dash": "solid",
          "shape": "linear",
          "width": 1.3
         },
         "mode": "lines",
         "name": "Close",
         "text": "",
         "type": "scatter",
         "x": [
          "2016-01-04",
          "2016-01-05",
          "2016-01-06",
          "2016-01-07",
          "2016-01-08",
          "2016-01-11",
          "2016-01-12",
          "2016-01-13",
          "2016-01-14",
          "2016-01-15",
          "2016-01-19",
          "2016-01-20",
          "2016-01-21",
          "2016-01-22",
          "2016-01-25",
          "2016-01-26",
          "2016-01-27",
          "2016-01-28",
          "2016-01-29",
          "2016-02-01",
          "2016-02-02",
          "2016-02-03",
          "2016-02-04",
          "2016-02-05",
          "2016-02-08",
          "2016-02-09",
          "2016-02-10",
          "2016-02-11",
          "2016-02-12",
          "2016-02-16",
          "2016-02-17",
          "2016-02-18",
          "2016-02-19",
          "2016-02-22",
          "2016-02-23",
          "2016-02-24",
          "2016-02-25",
          "2016-02-26",
          "2016-02-29",
          "2016-03-01",
          "2016-03-02",
          "2016-03-03",
          "2016-03-04",
          "2016-03-07",
          "2016-03-08",
          "2016-03-09",
          "2016-03-10",
          "2016-03-11",
          "2016-03-14",
          "2016-03-15",
          "2016-03-16",
          "2016-03-17",
          "2016-03-18",
          "2016-03-21",
          "2016-03-22",
          "2016-03-23",
          "2016-03-24",
          "2016-03-28",
          "2016-03-29",
          "2016-03-30",
          "2016-03-31",
          "2016-04-01",
          "2016-04-04",
          "2016-04-05",
          "2016-04-06",
          "2016-04-07",
          "2016-04-08",
          "2016-04-11",
          "2016-04-12",
          "2016-04-13",
          "2016-04-14",
          "2016-04-15",
          "2016-04-18",
          "2016-04-19",
          "2016-04-20",
          "2016-04-21",
          "2016-04-22",
          "2016-04-25",
          "2016-04-26",
          "2016-04-27",
          "2016-04-28",
          "2016-04-29",
          "2016-05-02",
          "2016-05-03",
          "2016-05-04",
          "2016-05-05",
          "2016-05-06",
          "2016-05-09",
          "2016-05-10",
          "2016-05-11",
          "2016-05-12",
          "2016-05-13",
          "2016-05-16",
          "2016-05-17",
          "2016-05-18",
          "2016-05-19",
          "2016-05-20",
          "2016-05-23",
          "2016-05-24",
          "2016-05-25",
          "2016-05-26",
          "2016-05-27",
          "2016-05-31",
          "2016-06-01",
          "2016-06-02",
          "2016-06-03",
          "2016-06-06",
          "2016-06-07",
          "2016-06-08",
          "2016-06-09",
          "2016-06-10",
          "2016-06-13",
          "2016-06-14",
          "2016-06-15",
          "2016-06-16",
          "2016-06-17",
          "2016-06-20",
          "2016-06-21",
          "2016-06-22",
          "2016-06-23",
          "2016-06-24",
          "2016-06-27",
          "2016-06-28",
          "2016-06-29",
          "2016-06-30",
          "2016-07-01",
          "2016-07-05",
          "2016-07-06",
          "2016-07-07",
          "2016-07-08",
          "2016-07-11",
          "2016-07-12",
          "2016-07-13",
          "2016-07-14",
          "2016-07-15",
          "2016-07-18",
          "2016-07-19",
          "2016-07-20",
          "2016-07-21",
          "2016-07-22",
          "2016-07-25",
          "2016-07-26",
          "2016-07-27",
          "2016-07-28",
          "2016-07-29",
          "2016-08-01",
          "2016-08-02",
          "2016-08-03",
          "2016-08-04",
          "2016-08-05",
          "2016-08-08",
          "2016-08-09",
          "2016-08-10",
          "2016-08-11",
          "2016-08-12",
          "2016-08-15",
          "2016-08-16",
          "2016-08-17",
          "2016-08-18",
          "2016-08-19",
          "2016-08-22",
          "2016-08-23",
          "2016-08-24",
          "2016-08-25",
          "2016-08-26",
          "2016-08-29",
          "2016-08-30",
          "2016-08-31",
          "2016-09-01",
          "2016-09-02",
          "2016-09-06",
          "2016-09-07",
          "2016-09-08",
          "2016-09-09",
          "2016-09-12",
          "2016-09-13",
          "2016-09-14",
          "2016-09-15",
          "2016-09-16",
          "2016-09-19",
          "2016-09-20",
          "2016-09-21",
          "2016-09-22",
          "2016-09-23",
          "2016-09-26",
          "2016-09-27",
          "2016-09-28",
          "2016-09-29",
          "2016-09-30",
          "2016-10-03",
          "2016-10-04",
          "2016-10-05",
          "2016-10-06",
          "2016-10-07",
          "2016-10-10",
          "2016-10-11",
          "2016-10-12",
          "2016-10-13",
          "2016-10-14",
          "2016-10-17",
          "2016-10-18",
          "2016-10-19",
          "2016-10-20",
          "2016-10-21",
          "2016-10-24",
          "2016-10-25",
          "2016-10-26",
          "2016-10-27",
          "2016-10-28",
          "2016-10-31",
          "2016-11-01",
          "2016-11-02",
          "2016-11-03",
          "2016-11-04",
          "2016-11-07",
          "2016-11-08",
          "2016-11-09",
          "2016-11-10",
          "2016-11-11",
          "2016-11-14",
          "2016-11-15",
          "2016-11-16",
          "2016-11-17",
          "2016-11-18",
          "2016-11-21",
          "2016-11-22",
          "2016-11-23",
          "2016-11-25",
          "2016-11-28",
          "2016-11-29",
          "2016-11-30",
          "2016-12-01",
          "2016-12-02",
          "2016-12-05",
          "2016-12-06",
          "2016-12-07",
          "2016-12-08",
          "2016-12-09",
          "2016-12-12",
          "2016-12-13",
          "2016-12-14",
          "2016-12-15",
          "2016-12-16",
          "2016-12-19",
          "2016-12-20",
          "2016-12-21",
          "2016-12-22",
          "2016-12-23",
          "2016-12-27",
          "2016-12-28",
          "2016-12-29",
          "2016-12-30"
         ],
         "y": [
          "",
          "",
          "",
          "",
          "",
          "",
          "",
          "",
          "",
          "",
          "",
          "",
          "",
          "",
          "",
          "",
          "",
          "",
          "",
          "",
          "",
          "",
          "",
          "",
          "",
          "",
          "",
          "",
          "",
          13.832999960581462,
          13.703999964396159,
          13.564333279927572,
          13.432666619618734,
          13.333999951680502,
          13.232666619618733,
          13.126666609446207,
          13.026999918619792,
          12.953666591644287,
          12.871333281199137,
          12.828999932607015,
          12.80133326848348,
          12.79499994913737,
          12.800999959309896,
          12.799999936421711,
          12.803333282470703,
          12.797666613260905,
          12.794666639963786,
          12.803333314259847,
          12.786666647593181,
          12.77366663614909,
          12.776333332061768,
          12.788666661580404,
          12.806666660308839,
          12.836333338419596,
          12.885999997456869,
          12.933333333333334,
          12.990000025431316,
          13.07200002670288,
          13.12100003560384,
          13.162000020345053,
          13.194000021616619,
          13.238000043233235,
          13.284000047047932,
          13.305666700998943,
          13.342666721343994,
          13.366666730244955,
          13.385333410898845,
          13.394333426157633,
          13.419333426157634,
          13.439333438873291,
          13.46366678873698,
          13.480333455403645,
          13.501333459218342,
          13.532000128428141,
          13.594333457946778,
          13.653000100453694,
          13.714333407084148,
          13.75333340962728,
          13.801666736602783,
          13.850000095367431,
          13.899333413441976,
          13.938000106811524,
          13.970666790008545,
          13.988000106811523,
          14.000333436330159,
          14.014666779836018,
          14.029000091552735,
          14.04133342107137,
          14.070666758219401,
          14.094666767120362,
          14.115333429972331,
          14.12600008646647,
          14.140000089009602,
          14.167333443959555,
          14.214666748046875,
          14.270666726430257,
          14.325333404541016,
          14.375333404541015,
          14.422333399454752,
          14.460000069936116,
          14.478666718800863,
          14.508000055948893,
          14.528666718800862,
          14.542333380381267,
          14.542666689554851,
          14.526666704813639,
          14.507000064849853,
          14.486666742960612,
          14.464666748046875,
          14.437000052134197,
          14.40500005086263,
          14.373000049591065,
          14.322666708628336,
          14.288666725158691,
          14.261333401997884,
          14.239666716257732,
          14.220666726430258,
          14.208333396911621,
          14.1853333791097,
          14.18000005086263,
          14.142000039418539,
          14.0853333791097,
          14.044333362579346,
          14.017000007629395,
          13.969666703542073,
          13.922000058492024,
          13.862666702270507,
          13.809000015258789,
          13.753333346048992,
          13.695000012715658,
          13.645333353678385,
          13.600666681925455,
          13.555666669209797,
          13.515333334604898,
          13.472666676839193,
          13.462333329518636,
          13.453666655222575,
          13.455333296457926,
          13.449999968210856,
          13.45633331934611,
          13.474333318074544,
          13.505333296457927,
          13.550999959309896,
          13.595666631062825,
          13.63499994277954,
          13.665999952952067,
          13.685666624704997,
          13.71433327992757,
          13.743333276112875,
          13.776999950408936,
          13.847999954223633,
          13.948333263397217,
          14.018666617075603,
          14.074999968210856,
          14.129666614532471,
          14.193666617075602,
          14.274666627248129,
          14.350999959309895,
          14.422666613260905,
          14.490999952952068,
          14.556666628519695,
          14.616999975840251,
          14.68233331044515,
          14.744999980926513,
          14.815999984741211,
          14.873666667938233,
          14.938000011444093,
          14.996000003814697,
          15.05299997329712,
          15.106999969482422,
          15.153999964396158,
          15.19299996693929,
          15.2339999516805,
          15.269333267211914,
          15.316333262125651,
          15.362666606903076,
          15.412666606903077,
          15.452333291371664,
          15.485999965667725,
          15.50399996439616,
          15.519666639963786,
          15.534999974568684,
          15.561333306630452,
          15.582666651407878,
          15.588666661580403,
          15.59766664505005,
          15.604666646321615,
          15.604999987284343,
          15.62133331298828,
          15.634999974568684,
          15.655666637420655,
          15.680999978383381,
          15.70833330154419,
          15.728333282470704,
          15.745333258310954,
          15.754333273569744,
          15.748999945322673,
          15.73866662979126,
          15.739333311716715,
          15.740999952952068,
          15.756999969482422,
          15.782666619618734,
          15.805999946594238,
          15.836999956766764,
          15.865999984741212,
          15.899333286285401,
          15.940666643778483,
          15.981999969482422,
          16.02166665395101,
          16.05199998219808,
          16.08566665649414,
          16.113333320617677,
          16.142666625976563,
          16.176999918619792,
          16.240999921162924,
          16.29799992243449,
          16.384333229064943,
          16.5043332417806,
          16.61666660308838,
          16.764999930063883,
          16.910333251953126,
          17.031666564941407,
          17.160333251953126,
          17.289333279927572,
          17.42366663614909,
          17.56333325703939,
          17.714333216349285,
          17.881999905904134,
          18.025333213806153,
          18.16666660308838,
          18.32866662343343,
          18.49633331298828,
          18.65199998219808,
          18.824333318074544,
          19.003999964396158,
          19.198999977111818,
          19.40166664123535,
          19.60766665140788,
          19.80533332824707,
          20.00900001525879,
          20.21099999745687,
          20.43366667429606,
          20.639666684468587,
          20.83733336130778,
          21.027333323160807,
          21.214999961853028,
          21.367333348592123,
          21.495333353678387,
          21.615000025431314,
          21.690000025431313,
          21.75133336385091,
          21.829666709899904
         ]
        }
       ],
       "layout": {
        "legend": {
         "bgcolor": "#F5F6F9",
         "font": {
          "color": "#4D5663"
         }
        },
        "paper_bgcolor": "#F5F6F9",
        "plot_bgcolor": "#F5F6F9",
        "template": {
         "data": {
          "bar": [
           {
            "error_x": {
             "color": "#2a3f5f"
            },
            "error_y": {
             "color": "#2a3f5f"
            },
            "marker": {
             "line": {
              "color": "#E5ECF6",
              "width": 0.5
             }
            },
            "type": "bar"
           }
          ],
          "barpolar": [
           {
            "marker": {
             "line": {
              "color": "#E5ECF6",
              "width": 0.5
             }
            },
            "type": "barpolar"
           }
          ],
          "carpet": [
           {
            "aaxis": {
             "endlinecolor": "#2a3f5f",
             "gridcolor": "white",
             "linecolor": "white",
             "minorgridcolor": "white",
             "startlinecolor": "#2a3f5f"
            },
            "baxis": {
             "endlinecolor": "#2a3f5f",
             "gridcolor": "white",
             "linecolor": "white",
             "minorgridcolor": "white",
             "startlinecolor": "#2a3f5f"
            },
            "type": "carpet"
           }
          ],
          "choropleth": [
           {
            "colorbar": {
             "outlinewidth": 0,
             "ticks": ""
            },
            "type": "choropleth"
           }
          ],
          "contour": [
           {
            "colorbar": {
             "outlinewidth": 0,
             "ticks": ""
            },
            "colorscale": [
             [
              0,
              "#0d0887"
             ],
             [
              0.1111111111111111,
              "#46039f"
             ],
             [
              0.2222222222222222,
              "#7201a8"
             ],
             [
              0.3333333333333333,
              "#9c179e"
             ],
             [
              0.4444444444444444,
              "#bd3786"
             ],
             [
              0.5555555555555556,
              "#d8576b"
             ],
             [
              0.6666666666666666,
              "#ed7953"
             ],
             [
              0.7777777777777778,
              "#fb9f3a"
             ],
             [
              0.8888888888888888,
              "#fdca26"
             ],
             [
              1,
              "#f0f921"
             ]
            ],
            "type": "contour"
           }
          ],
          "contourcarpet": [
           {
            "colorbar": {
             "outlinewidth": 0,
             "ticks": ""
            },
            "type": "contourcarpet"
           }
          ],
          "heatmap": [
           {
            "colorbar": {
             "outlinewidth": 0,
             "ticks": ""
            },
            "colorscale": [
             [
              0,
              "#0d0887"
             ],
             [
              0.1111111111111111,
              "#46039f"
             ],
             [
              0.2222222222222222,
              "#7201a8"
             ],
             [
              0.3333333333333333,
              "#9c179e"
             ],
             [
              0.4444444444444444,
              "#bd3786"
             ],
             [
              0.5555555555555556,
              "#d8576b"
             ],
             [
              0.6666666666666666,
              "#ed7953"
             ],
             [
              0.7777777777777778,
              "#fb9f3a"
             ],
             [
              0.8888888888888888,
              "#fdca26"
             ],
             [
              1,
              "#f0f921"
             ]
            ],
            "type": "heatmap"
           }
          ],
          "heatmapgl": [
           {
            "colorbar": {
             "outlinewidth": 0,
             "ticks": ""
            },
            "colorscale": [
             [
              0,
              "#0d0887"
             ],
             [
              0.1111111111111111,
              "#46039f"
             ],
             [
              0.2222222222222222,
              "#7201a8"
             ],
             [
              0.3333333333333333,
              "#9c179e"
             ],
             [
              0.4444444444444444,
              "#bd3786"
             ],
             [
              0.5555555555555556,
              "#d8576b"
             ],
             [
              0.6666666666666666,
              "#ed7953"
             ],
             [
              0.7777777777777778,
              "#fb9f3a"
             ],
             [
              0.8888888888888888,
              "#fdca26"
             ],
             [
              1,
              "#f0f921"
             ]
            ],
            "type": "heatmapgl"
           }
          ],
          "histogram": [
           {
            "marker": {
             "colorbar": {
              "outlinewidth": 0,
              "ticks": ""
             }
            },
            "type": "histogram"
           }
          ],
          "histogram2d": [
           {
            "colorbar": {
             "outlinewidth": 0,
             "ticks": ""
            },
            "colorscale": [
             [
              0,
              "#0d0887"
             ],
             [
              0.1111111111111111,
              "#46039f"
             ],
             [
              0.2222222222222222,
              "#7201a8"
             ],
             [
              0.3333333333333333,
              "#9c179e"
             ],
             [
              0.4444444444444444,
              "#bd3786"
             ],
             [
              0.5555555555555556,
              "#d8576b"
             ],
             [
              0.6666666666666666,
              "#ed7953"
             ],
             [
              0.7777777777777778,
              "#fb9f3a"
             ],
             [
              0.8888888888888888,
              "#fdca26"
             ],
             [
              1,
              "#f0f921"
             ]
            ],
            "type": "histogram2d"
           }
          ],
          "histogram2dcontour": [
           {
            "colorbar": {
             "outlinewidth": 0,
             "ticks": ""
            },
            "colorscale": [
             [
              0,
              "#0d0887"
             ],
             [
              0.1111111111111111,
              "#46039f"
             ],
             [
              0.2222222222222222,
              "#7201a8"
             ],
             [
              0.3333333333333333,
              "#9c179e"
             ],
             [
              0.4444444444444444,
              "#bd3786"
             ],
             [
              0.5555555555555556,
              "#d8576b"
             ],
             [
              0.6666666666666666,
              "#ed7953"
             ],
             [
              0.7777777777777778,
              "#fb9f3a"
             ],
             [
              0.8888888888888888,
              "#fdca26"
             ],
             [
              1,
              "#f0f921"
             ]
            ],
            "type": "histogram2dcontour"
           }
          ],
          "mesh3d": [
           {
            "colorbar": {
             "outlinewidth": 0,
             "ticks": ""
            },
            "type": "mesh3d"
           }
          ],
          "parcoords": [
           {
            "line": {
             "colorbar": {
              "outlinewidth": 0,
              "ticks": ""
             }
            },
            "type": "parcoords"
           }
          ],
          "scatter": [
           {
            "marker": {
             "colorbar": {
              "outlinewidth": 0,
              "ticks": ""
             }
            },
            "type": "scatter"
           }
          ],
          "scatter3d": [
           {
            "line": {
             "colorbar": {
              "outlinewidth": 0,
              "ticks": ""
             }
            },
            "marker": {
             "colorbar": {
              "outlinewidth": 0,
              "ticks": ""
             }
            },
            "type": "scatter3d"
           }
          ],
          "scattercarpet": [
           {
            "marker": {
             "colorbar": {
              "outlinewidth": 0,
              "ticks": ""
             }
            },
            "type": "scattercarpet"
           }
          ],
          "scattergeo": [
           {
            "marker": {
             "colorbar": {
              "outlinewidth": 0,
              "ticks": ""
             }
            },
            "type": "scattergeo"
           }
          ],
          "scattergl": [
           {
            "marker": {
             "colorbar": {
              "outlinewidth": 0,
              "ticks": ""
             }
            },
            "type": "scattergl"
           }
          ],
          "scattermapbox": [
           {
            "marker": {
             "colorbar": {
              "outlinewidth": 0,
              "ticks": ""
             }
            },
            "type": "scattermapbox"
           }
          ],
          "scatterpolar": [
           {
            "marker": {
             "colorbar": {
              "outlinewidth": 0,
              "ticks": ""
             }
            },
            "type": "scatterpolar"
           }
          ],
          "scatterpolargl": [
           {
            "marker": {
             "colorbar": {
              "outlinewidth": 0,
              "ticks": ""
             }
            },
            "type": "scatterpolargl"
           }
          ],
          "scatterternary": [
           {
            "marker": {
             "colorbar": {
              "outlinewidth": 0,
              "ticks": ""
             }
            },
            "type": "scatterternary"
           }
          ],
          "surface": [
           {
            "colorbar": {
             "outlinewidth": 0,
             "ticks": ""
            },
            "colorscale": [
             [
              0,
              "#0d0887"
             ],
             [
              0.1111111111111111,
              "#46039f"
             ],
             [
              0.2222222222222222,
              "#7201a8"
             ],
             [
              0.3333333333333333,
              "#9c179e"
             ],
             [
              0.4444444444444444,
              "#bd3786"
             ],
             [
              0.5555555555555556,
              "#d8576b"
             ],
             [
              0.6666666666666666,
              "#ed7953"
             ],
             [
              0.7777777777777778,
              "#fb9f3a"
             ],
             [
              0.8888888888888888,
              "#fdca26"
             ],
             [
              1,
              "#f0f921"
             ]
            ],
            "type": "surface"
           }
          ],
          "table": [
           {
            "cells": {
             "fill": {
              "color": "#EBF0F8"
             },
             "line": {
              "color": "white"
             }
            },
            "header": {
             "fill": {
              "color": "#C8D4E3"
             },
             "line": {
              "color": "white"
             }
            },
            "type": "table"
           }
          ]
         },
         "layout": {
          "annotationdefaults": {
           "arrowcolor": "#2a3f5f",
           "arrowhead": 0,
           "arrowwidth": 1
          },
          "colorscale": {
           "diverging": [
            [
             0,
             "#8e0152"
            ],
            [
             0.1,
             "#c51b7d"
            ],
            [
             0.2,
             "#de77ae"
            ],
            [
             0.3,
             "#f1b6da"
            ],
            [
             0.4,
             "#fde0ef"
            ],
            [
             0.5,
             "#f7f7f7"
            ],
            [
             0.6,
             "#e6f5d0"
            ],
            [
             0.7,
             "#b8e186"
            ],
            [
             0.8,
             "#7fbc41"
            ],
            [
             0.9,
             "#4d9221"
            ],
            [
             1,
             "#276419"
            ]
           ],
           "sequential": [
            [
             0,
             "#0d0887"
            ],
            [
             0.1111111111111111,
             "#46039f"
            ],
            [
             0.2222222222222222,
             "#7201a8"
            ],
            [
             0.3333333333333333,
             "#9c179e"
            ],
            [
             0.4444444444444444,
             "#bd3786"
            ],
            [
             0.5555555555555556,
             "#d8576b"
            ],
            [
             0.6666666666666666,
             "#ed7953"
            ],
            [
             0.7777777777777778,
             "#fb9f3a"
            ],
            [
             0.8888888888888888,
             "#fdca26"
            ],
            [
             1,
             "#f0f921"
            ]
           ],
           "sequentialminus": [
            [
             0,
             "#0d0887"
            ],
            [
             0.1111111111111111,
             "#46039f"
            ],
            [
             0.2222222222222222,
             "#7201a8"
            ],
            [
             0.3333333333333333,
             "#9c179e"
            ],
            [
             0.4444444444444444,
             "#bd3786"
            ],
            [
             0.5555555555555556,
             "#d8576b"
            ],
            [
             0.6666666666666666,
             "#ed7953"
            ],
            [
             0.7777777777777778,
             "#fb9f3a"
            ],
            [
             0.8888888888888888,
             "#fdca26"
            ],
            [
             1,
             "#f0f921"
            ]
           ]
          },
          "colorway": [
           "#636efa",
           "#EF553B",
           "#00cc96",
           "#ab63fa",
           "#FFA15A",
           "#19d3f3",
           "#FF6692",
           "#B6E880",
           "#FF97FF",
           "#FECB52"
          ],
          "font": {
           "color": "#2a3f5f"
          },
          "geo": {
           "bgcolor": "white",
           "lakecolor": "white",
           "landcolor": "#E5ECF6",
           "showlakes": true,
           "showland": true,
           "subunitcolor": "white"
          },
          "hoverlabel": {
           "align": "left"
          },
          "hovermode": "closest",
          "mapbox": {
           "style": "light"
          },
          "paper_bgcolor": "white",
          "plot_bgcolor": "#E5ECF6",
          "polar": {
           "angularaxis": {
            "gridcolor": "white",
            "linecolor": "white",
            "ticks": ""
           },
           "bgcolor": "#E5ECF6",
           "radialaxis": {
            "gridcolor": "white",
            "linecolor": "white",
            "ticks": ""
           }
          },
          "scene": {
           "xaxis": {
            "backgroundcolor": "#E5ECF6",
            "gridcolor": "white",
            "gridwidth": 2,
            "linecolor": "white",
            "showbackground": true,
            "ticks": "",
            "zerolinecolor": "white"
           },
           "yaxis": {
            "backgroundcolor": "#E5ECF6",
            "gridcolor": "white",
            "gridwidth": 2,
            "linecolor": "white",
            "showbackground": true,
            "ticks": "",
            "zerolinecolor": "white"
           },
           "zaxis": {
            "backgroundcolor": "#E5ECF6",
            "gridcolor": "white",
            "gridwidth": 2,
            "linecolor": "white",
            "showbackground": true,
            "ticks": "",
            "zerolinecolor": "white"
           }
          },
          "shapedefaults": {
           "line": {
            "color": "#2a3f5f"
           }
          },
          "ternary": {
           "aaxis": {
            "gridcolor": "white",
            "linecolor": "white",
            "ticks": ""
           },
           "baxis": {
            "gridcolor": "white",
            "linecolor": "white",
            "ticks": ""
           },
           "bgcolor": "#E5ECF6",
           "caxis": {
            "gridcolor": "white",
            "linecolor": "white",
            "ticks": ""
           }
          },
          "title": {
           "x": 0.05
          },
          "xaxis": {
           "automargin": true,
           "gridcolor": "white",
           "linecolor": "white",
           "ticks": "",
           "zerolinecolor": "white",
           "zerolinewidth": 2
          },
          "yaxis": {
           "automargin": true,
           "gridcolor": "white",
           "linecolor": "white",
           "ticks": "",
           "zerolinecolor": "white",
           "zerolinewidth": 2
          }
         }
        },
        "title": {
         "font": {
          "color": "#4D5663"
         }
        },
        "xaxis": {
         "gridcolor": "#E1E5ED",
         "showgrid": true,
         "tickfont": {
          "color": "#4D5663"
         },
         "title": {
          "font": {
           "color": "#4D5663"
          },
          "text": ""
         },
         "zerolinecolor": "#E1E5ED"
        },
        "yaxis": {
         "gridcolor": "#E1E5ED",
         "showgrid": true,
         "tickfont": {
          "color": "#4D5663"
         },
         "title": {
          "font": {
           "color": "#4D5663"
          },
          "text": ""
         },
         "zerolinecolor": "#E1E5ED"
        }
       }
      },
      "text/html": [
       "<div>\n",
       "        \n",
       "        \n",
       "            <div id=\"75919932-a796-4386-bcc4-d6367cb0fcf7\" class=\"plotly-graph-div\" style=\"height:525px; width:100%;\"></div>\n",
       "            <script type=\"text/javascript\">\n",
       "                require([\"plotly\"], function(Plotly) {\n",
       "                    window.PLOTLYENV=window.PLOTLYENV || {};\n",
       "                    window.PLOTLYENV.BASE_URL='https://plot.ly';\n",
       "                    \n",
       "                if (document.getElementById(\"75919932-a796-4386-bcc4-d6367cb0fcf7\")) {\n",
       "                    Plotly.newPlot(\n",
       "                        '75919932-a796-4386-bcc4-d6367cb0fcf7',\n",
       "                        [{\"line\": {\"color\": \"rgba(255, 153, 51, 1.0)\", \"dash\": \"solid\", \"shape\": \"linear\", \"width\": 1.3}, \"mode\": \"lines\", \"name\": \"Close\", \"text\": \"\", \"type\": \"scatter\", \"x\": [\"2016-01-04\", \"2016-01-05\", \"2016-01-06\", \"2016-01-07\", \"2016-01-08\", \"2016-01-11\", \"2016-01-12\", \"2016-01-13\", \"2016-01-14\", \"2016-01-15\", \"2016-01-19\", \"2016-01-20\", \"2016-01-21\", \"2016-01-22\", \"2016-01-25\", \"2016-01-26\", \"2016-01-27\", \"2016-01-28\", \"2016-01-29\", \"2016-02-01\", \"2016-02-02\", \"2016-02-03\", \"2016-02-04\", \"2016-02-05\", \"2016-02-08\", \"2016-02-09\", \"2016-02-10\", \"2016-02-11\", \"2016-02-12\", \"2016-02-16\", \"2016-02-17\", \"2016-02-18\", \"2016-02-19\", \"2016-02-22\", \"2016-02-23\", \"2016-02-24\", \"2016-02-25\", \"2016-02-26\", \"2016-02-29\", \"2016-03-01\", \"2016-03-02\", \"2016-03-03\", \"2016-03-04\", \"2016-03-07\", \"2016-03-08\", \"2016-03-09\", \"2016-03-10\", \"2016-03-11\", \"2016-03-14\", \"2016-03-15\", \"2016-03-16\", \"2016-03-17\", \"2016-03-18\", \"2016-03-21\", \"2016-03-22\", \"2016-03-23\", \"2016-03-24\", \"2016-03-28\", \"2016-03-29\", \"2016-03-30\", \"2016-03-31\", \"2016-04-01\", \"2016-04-04\", \"2016-04-05\", \"2016-04-06\", \"2016-04-07\", \"2016-04-08\", \"2016-04-11\", \"2016-04-12\", \"2016-04-13\", \"2016-04-14\", \"2016-04-15\", \"2016-04-18\", \"2016-04-19\", \"2016-04-20\", \"2016-04-21\", \"2016-04-22\", \"2016-04-25\", \"2016-04-26\", \"2016-04-27\", \"2016-04-28\", \"2016-04-29\", \"2016-05-02\", \"2016-05-03\", \"2016-05-04\", \"2016-05-05\", \"2016-05-06\", \"2016-05-09\", \"2016-05-10\", \"2016-05-11\", \"2016-05-12\", \"2016-05-13\", \"2016-05-16\", \"2016-05-17\", \"2016-05-18\", \"2016-05-19\", \"2016-05-20\", \"2016-05-23\", \"2016-05-24\", \"2016-05-25\", \"2016-05-26\", \"2016-05-27\", \"2016-05-31\", \"2016-06-01\", \"2016-06-02\", \"2016-06-03\", \"2016-06-06\", \"2016-06-07\", \"2016-06-08\", \"2016-06-09\", \"2016-06-10\", \"2016-06-13\", \"2016-06-14\", \"2016-06-15\", \"2016-06-16\", \"2016-06-17\", \"2016-06-20\", \"2016-06-21\", \"2016-06-22\", \"2016-06-23\", \"2016-06-24\", \"2016-06-27\", \"2016-06-28\", \"2016-06-29\", \"2016-06-30\", \"2016-07-01\", \"2016-07-05\", \"2016-07-06\", \"2016-07-07\", \"2016-07-08\", \"2016-07-11\", \"2016-07-12\", \"2016-07-13\", \"2016-07-14\", \"2016-07-15\", \"2016-07-18\", \"2016-07-19\", \"2016-07-20\", \"2016-07-21\", \"2016-07-22\", \"2016-07-25\", \"2016-07-26\", \"2016-07-27\", \"2016-07-28\", \"2016-07-29\", \"2016-08-01\", \"2016-08-02\", \"2016-08-03\", \"2016-08-04\", \"2016-08-05\", \"2016-08-08\", \"2016-08-09\", \"2016-08-10\", \"2016-08-11\", \"2016-08-12\", \"2016-08-15\", \"2016-08-16\", \"2016-08-17\", \"2016-08-18\", \"2016-08-19\", \"2016-08-22\", \"2016-08-23\", \"2016-08-24\", \"2016-08-25\", \"2016-08-26\", \"2016-08-29\", \"2016-08-30\", \"2016-08-31\", \"2016-09-01\", \"2016-09-02\", \"2016-09-06\", \"2016-09-07\", \"2016-09-08\", \"2016-09-09\", \"2016-09-12\", \"2016-09-13\", \"2016-09-14\", \"2016-09-15\", \"2016-09-16\", \"2016-09-19\", \"2016-09-20\", \"2016-09-21\", \"2016-09-22\", \"2016-09-23\", \"2016-09-26\", \"2016-09-27\", \"2016-09-28\", \"2016-09-29\", \"2016-09-30\", \"2016-10-03\", \"2016-10-04\", \"2016-10-05\", \"2016-10-06\", \"2016-10-07\", \"2016-10-10\", \"2016-10-11\", \"2016-10-12\", \"2016-10-13\", \"2016-10-14\", \"2016-10-17\", \"2016-10-18\", \"2016-10-19\", \"2016-10-20\", \"2016-10-21\", \"2016-10-24\", \"2016-10-25\", \"2016-10-26\", \"2016-10-27\", \"2016-10-28\", \"2016-10-31\", \"2016-11-01\", \"2016-11-02\", \"2016-11-03\", \"2016-11-04\", \"2016-11-07\", \"2016-11-08\", \"2016-11-09\", \"2016-11-10\", \"2016-11-11\", \"2016-11-14\", \"2016-11-15\", \"2016-11-16\", \"2016-11-17\", \"2016-11-18\", \"2016-11-21\", \"2016-11-22\", \"2016-11-23\", \"2016-11-25\", \"2016-11-28\", \"2016-11-29\", \"2016-11-30\", \"2016-12-01\", \"2016-12-02\", \"2016-12-05\", \"2016-12-06\", \"2016-12-07\", \"2016-12-08\", \"2016-12-09\", \"2016-12-12\", \"2016-12-13\", \"2016-12-14\", \"2016-12-15\", \"2016-12-16\", \"2016-12-19\", \"2016-12-20\", \"2016-12-21\", \"2016-12-22\", \"2016-12-23\", \"2016-12-27\", \"2016-12-28\", \"2016-12-29\", \"2016-12-30\"], \"y\": [\"\", \"\", \"\", \"\", \"\", \"\", \"\", \"\", \"\", \"\", \"\", \"\", \"\", \"\", \"\", \"\", \"\", \"\", \"\", \"\", \"\", \"\", \"\", \"\", \"\", \"\", \"\", \"\", \"\", 13.832999960581462, 13.703999964396159, 13.564333279927572, 13.432666619618734, 13.333999951680502, 13.232666619618733, 13.126666609446207, 13.026999918619792, 12.953666591644287, 12.871333281199137, 12.828999932607015, 12.80133326848348, 12.79499994913737, 12.800999959309896, 12.799999936421711, 12.803333282470703, 12.797666613260905, 12.794666639963786, 12.803333314259847, 12.786666647593181, 12.77366663614909, 12.776333332061768, 12.788666661580404, 12.806666660308839, 12.836333338419596, 12.885999997456869, 12.933333333333334, 12.990000025431316, 13.07200002670288, 13.12100003560384, 13.162000020345053, 13.194000021616619, 13.238000043233235, 13.284000047047932, 13.305666700998943, 13.342666721343994, 13.366666730244955, 13.385333410898845, 13.394333426157633, 13.419333426157634, 13.439333438873291, 13.46366678873698, 13.480333455403645, 13.501333459218342, 13.532000128428141, 13.594333457946778, 13.653000100453694, 13.714333407084148, 13.75333340962728, 13.801666736602783, 13.850000095367431, 13.899333413441976, 13.938000106811524, 13.970666790008545, 13.988000106811523, 14.000333436330159, 14.014666779836018, 14.029000091552735, 14.04133342107137, 14.070666758219401, 14.094666767120362, 14.115333429972331, 14.12600008646647, 14.140000089009602, 14.167333443959555, 14.214666748046875, 14.270666726430257, 14.325333404541016, 14.375333404541015, 14.422333399454752, 14.460000069936116, 14.478666718800863, 14.508000055948893, 14.528666718800862, 14.542333380381267, 14.542666689554851, 14.526666704813639, 14.507000064849853, 14.486666742960612, 14.464666748046875, 14.437000052134197, 14.40500005086263, 14.373000049591065, 14.322666708628336, 14.288666725158691, 14.261333401997884, 14.239666716257732, 14.220666726430258, 14.208333396911621, 14.1853333791097, 14.18000005086263, 14.142000039418539, 14.0853333791097, 14.044333362579346, 14.017000007629395, 13.969666703542073, 13.922000058492024, 13.862666702270507, 13.809000015258789, 13.753333346048992, 13.695000012715658, 13.645333353678385, 13.600666681925455, 13.555666669209797, 13.515333334604898, 13.472666676839193, 13.462333329518636, 13.453666655222575, 13.455333296457926, 13.449999968210856, 13.45633331934611, 13.474333318074544, 13.505333296457927, 13.550999959309896, 13.595666631062825, 13.63499994277954, 13.665999952952067, 13.685666624704997, 13.71433327992757, 13.743333276112875, 13.776999950408936, 13.847999954223633, 13.948333263397217, 14.018666617075603, 14.074999968210856, 14.129666614532471, 14.193666617075602, 14.274666627248129, 14.350999959309895, 14.422666613260905, 14.490999952952068, 14.556666628519695, 14.616999975840251, 14.68233331044515, 14.744999980926513, 14.815999984741211, 14.873666667938233, 14.938000011444093, 14.996000003814697, 15.05299997329712, 15.106999969482422, 15.153999964396158, 15.19299996693929, 15.2339999516805, 15.269333267211914, 15.316333262125651, 15.362666606903076, 15.412666606903077, 15.452333291371664, 15.485999965667725, 15.50399996439616, 15.519666639963786, 15.534999974568684, 15.561333306630452, 15.582666651407878, 15.588666661580403, 15.59766664505005, 15.604666646321615, 15.604999987284343, 15.62133331298828, 15.634999974568684, 15.655666637420655, 15.680999978383381, 15.70833330154419, 15.728333282470704, 15.745333258310954, 15.754333273569744, 15.748999945322673, 15.73866662979126, 15.739333311716715, 15.740999952952068, 15.756999969482422, 15.782666619618734, 15.805999946594238, 15.836999956766764, 15.865999984741212, 15.899333286285401, 15.940666643778483, 15.981999969482422, 16.02166665395101, 16.05199998219808, 16.08566665649414, 16.113333320617677, 16.142666625976563, 16.176999918619792, 16.240999921162924, 16.29799992243449, 16.384333229064943, 16.5043332417806, 16.61666660308838, 16.764999930063883, 16.910333251953126, 17.031666564941407, 17.160333251953126, 17.289333279927572, 17.42366663614909, 17.56333325703939, 17.714333216349285, 17.881999905904134, 18.025333213806153, 18.16666660308838, 18.32866662343343, 18.49633331298828, 18.65199998219808, 18.824333318074544, 19.003999964396158, 19.198999977111818, 19.40166664123535, 19.60766665140788, 19.80533332824707, 20.00900001525879, 20.21099999745687, 20.43366667429606, 20.639666684468587, 20.83733336130778, 21.027333323160807, 21.214999961853028, 21.367333348592123, 21.495333353678387, 21.615000025431314, 21.690000025431313, 21.75133336385091, 21.829666709899904]}],\n",
       "                        {\"legend\": {\"bgcolor\": \"#F5F6F9\", \"font\": {\"color\": \"#4D5663\"}}, \"paper_bgcolor\": \"#F5F6F9\", \"plot_bgcolor\": \"#F5F6F9\", \"template\": {\"data\": {\"bar\": [{\"error_x\": {\"color\": \"#2a3f5f\"}, \"error_y\": {\"color\": \"#2a3f5f\"}, \"marker\": {\"line\": {\"color\": \"#E5ECF6\", \"width\": 0.5}}, \"type\": \"bar\"}], \"barpolar\": [{\"marker\": {\"line\": {\"color\": \"#E5ECF6\", \"width\": 0.5}}, \"type\": \"barpolar\"}], \"carpet\": [{\"aaxis\": {\"endlinecolor\": \"#2a3f5f\", \"gridcolor\": \"white\", \"linecolor\": \"white\", \"minorgridcolor\": \"white\", \"startlinecolor\": \"#2a3f5f\"}, \"baxis\": {\"endlinecolor\": \"#2a3f5f\", \"gridcolor\": \"white\", \"linecolor\": \"white\", \"minorgridcolor\": \"white\", \"startlinecolor\": \"#2a3f5f\"}, \"type\": \"carpet\"}], \"choropleth\": [{\"colorbar\": {\"outlinewidth\": 0, \"ticks\": \"\"}, \"type\": \"choropleth\"}], \"contour\": [{\"colorbar\": {\"outlinewidth\": 0, \"ticks\": \"\"}, \"colorscale\": [[0.0, \"#0d0887\"], [0.1111111111111111, \"#46039f\"], [0.2222222222222222, \"#7201a8\"], [0.3333333333333333, \"#9c179e\"], [0.4444444444444444, \"#bd3786\"], [0.5555555555555556, \"#d8576b\"], [0.6666666666666666, \"#ed7953\"], [0.7777777777777778, \"#fb9f3a\"], [0.8888888888888888, \"#fdca26\"], [1.0, \"#f0f921\"]], \"type\": \"contour\"}], \"contourcarpet\": [{\"colorbar\": {\"outlinewidth\": 0, \"ticks\": \"\"}, \"type\": \"contourcarpet\"}], \"heatmap\": [{\"colorbar\": {\"outlinewidth\": 0, \"ticks\": \"\"}, \"colorscale\": [[0.0, \"#0d0887\"], [0.1111111111111111, \"#46039f\"], [0.2222222222222222, \"#7201a8\"], [0.3333333333333333, \"#9c179e\"], [0.4444444444444444, \"#bd3786\"], [0.5555555555555556, \"#d8576b\"], [0.6666666666666666, \"#ed7953\"], [0.7777777777777778, \"#fb9f3a\"], [0.8888888888888888, \"#fdca26\"], [1.0, \"#f0f921\"]], \"type\": \"heatmap\"}], \"heatmapgl\": [{\"colorbar\": {\"outlinewidth\": 0, \"ticks\": \"\"}, \"colorscale\": [[0.0, \"#0d0887\"], [0.1111111111111111, \"#46039f\"], [0.2222222222222222, \"#7201a8\"], [0.3333333333333333, \"#9c179e\"], [0.4444444444444444, \"#bd3786\"], [0.5555555555555556, \"#d8576b\"], [0.6666666666666666, \"#ed7953\"], [0.7777777777777778, \"#fb9f3a\"], [0.8888888888888888, \"#fdca26\"], [1.0, \"#f0f921\"]], \"type\": \"heatmapgl\"}], \"histogram\": [{\"marker\": {\"colorbar\": {\"outlinewidth\": 0, \"ticks\": \"\"}}, \"type\": \"histogram\"}], \"histogram2d\": [{\"colorbar\": {\"outlinewidth\": 0, \"ticks\": \"\"}, \"colorscale\": [[0.0, \"#0d0887\"], [0.1111111111111111, \"#46039f\"], [0.2222222222222222, \"#7201a8\"], [0.3333333333333333, \"#9c179e\"], [0.4444444444444444, \"#bd3786\"], [0.5555555555555556, \"#d8576b\"], [0.6666666666666666, \"#ed7953\"], [0.7777777777777778, \"#fb9f3a\"], [0.8888888888888888, \"#fdca26\"], [1.0, \"#f0f921\"]], \"type\": \"histogram2d\"}], \"histogram2dcontour\": [{\"colorbar\": {\"outlinewidth\": 0, \"ticks\": \"\"}, \"colorscale\": [[0.0, \"#0d0887\"], [0.1111111111111111, \"#46039f\"], [0.2222222222222222, \"#7201a8\"], [0.3333333333333333, \"#9c179e\"], [0.4444444444444444, \"#bd3786\"], [0.5555555555555556, \"#d8576b\"], [0.6666666666666666, \"#ed7953\"], [0.7777777777777778, \"#fb9f3a\"], [0.8888888888888888, \"#fdca26\"], [1.0, \"#f0f921\"]], \"type\": \"histogram2dcontour\"}], \"mesh3d\": [{\"colorbar\": {\"outlinewidth\": 0, \"ticks\": \"\"}, \"type\": \"mesh3d\"}], \"parcoords\": [{\"line\": {\"colorbar\": {\"outlinewidth\": 0, \"ticks\": \"\"}}, \"type\": \"parcoords\"}], \"scatter\": [{\"marker\": {\"colorbar\": {\"outlinewidth\": 0, \"ticks\": \"\"}}, \"type\": \"scatter\"}], \"scatter3d\": [{\"line\": {\"colorbar\": {\"outlinewidth\": 0, \"ticks\": \"\"}}, \"marker\": {\"colorbar\": {\"outlinewidth\": 0, \"ticks\": \"\"}}, \"type\": \"scatter3d\"}], \"scattercarpet\": [{\"marker\": {\"colorbar\": {\"outlinewidth\": 0, \"ticks\": \"\"}}, \"type\": \"scattercarpet\"}], \"scattergeo\": [{\"marker\": {\"colorbar\": {\"outlinewidth\": 0, \"ticks\": \"\"}}, \"type\": \"scattergeo\"}], \"scattergl\": [{\"marker\": {\"colorbar\": {\"outlinewidth\": 0, \"ticks\": \"\"}}, \"type\": \"scattergl\"}], \"scattermapbox\": [{\"marker\": {\"colorbar\": {\"outlinewidth\": 0, \"ticks\": \"\"}}, \"type\": \"scattermapbox\"}], \"scatterpolar\": [{\"marker\": {\"colorbar\": {\"outlinewidth\": 0, \"ticks\": \"\"}}, \"type\": \"scatterpolar\"}], \"scatterpolargl\": [{\"marker\": {\"colorbar\": {\"outlinewidth\": 0, \"ticks\": \"\"}}, \"type\": \"scatterpolargl\"}], \"scatterternary\": [{\"marker\": {\"colorbar\": {\"outlinewidth\": 0, \"ticks\": \"\"}}, \"type\": \"scatterternary\"}], \"surface\": [{\"colorbar\": {\"outlinewidth\": 0, \"ticks\": \"\"}, \"colorscale\": [[0.0, \"#0d0887\"], [0.1111111111111111, \"#46039f\"], [0.2222222222222222, \"#7201a8\"], [0.3333333333333333, \"#9c179e\"], [0.4444444444444444, \"#bd3786\"], [0.5555555555555556, \"#d8576b\"], [0.6666666666666666, \"#ed7953\"], [0.7777777777777778, \"#fb9f3a\"], [0.8888888888888888, \"#fdca26\"], [1.0, \"#f0f921\"]], \"type\": \"surface\"}], \"table\": [{\"cells\": {\"fill\": {\"color\": \"#EBF0F8\"}, \"line\": {\"color\": \"white\"}}, \"header\": {\"fill\": {\"color\": \"#C8D4E3\"}, \"line\": {\"color\": \"white\"}}, \"type\": \"table\"}]}, \"layout\": {\"annotationdefaults\": {\"arrowcolor\": \"#2a3f5f\", \"arrowhead\": 0, \"arrowwidth\": 1}, \"colorscale\": {\"diverging\": [[0, \"#8e0152\"], [0.1, \"#c51b7d\"], [0.2, \"#de77ae\"], [0.3, \"#f1b6da\"], [0.4, \"#fde0ef\"], [0.5, \"#f7f7f7\"], [0.6, \"#e6f5d0\"], [0.7, \"#b8e186\"], [0.8, \"#7fbc41\"], [0.9, \"#4d9221\"], [1, \"#276419\"]], \"sequential\": [[0.0, \"#0d0887\"], [0.1111111111111111, \"#46039f\"], [0.2222222222222222, \"#7201a8\"], [0.3333333333333333, \"#9c179e\"], [0.4444444444444444, \"#bd3786\"], [0.5555555555555556, \"#d8576b\"], [0.6666666666666666, \"#ed7953\"], [0.7777777777777778, \"#fb9f3a\"], [0.8888888888888888, \"#fdca26\"], [1.0, \"#f0f921\"]], \"sequentialminus\": [[0.0, \"#0d0887\"], [0.1111111111111111, \"#46039f\"], [0.2222222222222222, \"#7201a8\"], [0.3333333333333333, \"#9c179e\"], [0.4444444444444444, \"#bd3786\"], [0.5555555555555556, \"#d8576b\"], [0.6666666666666666, \"#ed7953\"], [0.7777777777777778, \"#fb9f3a\"], [0.8888888888888888, \"#fdca26\"], [1.0, \"#f0f921\"]]}, \"colorway\": [\"#636efa\", \"#EF553B\", \"#00cc96\", \"#ab63fa\", \"#FFA15A\", \"#19d3f3\", \"#FF6692\", \"#B6E880\", \"#FF97FF\", \"#FECB52\"], \"font\": {\"color\": \"#2a3f5f\"}, \"geo\": {\"bgcolor\": \"white\", \"lakecolor\": \"white\", \"landcolor\": \"#E5ECF6\", \"showlakes\": true, \"showland\": true, \"subunitcolor\": \"white\"}, \"hoverlabel\": {\"align\": \"left\"}, \"hovermode\": \"closest\", \"mapbox\": {\"style\": \"light\"}, \"paper_bgcolor\": \"white\", \"plot_bgcolor\": \"#E5ECF6\", \"polar\": {\"angularaxis\": {\"gridcolor\": \"white\", \"linecolor\": \"white\", \"ticks\": \"\"}, \"bgcolor\": \"#E5ECF6\", \"radialaxis\": {\"gridcolor\": \"white\", \"linecolor\": \"white\", \"ticks\": \"\"}}, \"scene\": {\"xaxis\": {\"backgroundcolor\": \"#E5ECF6\", \"gridcolor\": \"white\", \"gridwidth\": 2, \"linecolor\": \"white\", \"showbackground\": true, \"ticks\": \"\", \"zerolinecolor\": \"white\"}, \"yaxis\": {\"backgroundcolor\": \"#E5ECF6\", \"gridcolor\": \"white\", \"gridwidth\": 2, \"linecolor\": \"white\", \"showbackground\": true, \"ticks\": \"\", \"zerolinecolor\": \"white\"}, \"zaxis\": {\"backgroundcolor\": \"#E5ECF6\", \"gridcolor\": \"white\", \"gridwidth\": 2, \"linecolor\": \"white\", \"showbackground\": true, \"ticks\": \"\", \"zerolinecolor\": \"white\"}}, \"shapedefaults\": {\"line\": {\"color\": \"#2a3f5f\"}}, \"ternary\": {\"aaxis\": {\"gridcolor\": \"white\", \"linecolor\": \"white\", \"ticks\": \"\"}, \"baxis\": {\"gridcolor\": \"white\", \"linecolor\": \"white\", \"ticks\": \"\"}, \"bgcolor\": \"#E5ECF6\", \"caxis\": {\"gridcolor\": \"white\", \"linecolor\": \"white\", \"ticks\": \"\"}}, \"title\": {\"x\": 0.05}, \"xaxis\": {\"automargin\": true, \"gridcolor\": \"white\", \"linecolor\": \"white\", \"ticks\": \"\", \"zerolinecolor\": \"white\", \"zerolinewidth\": 2}, \"yaxis\": {\"automargin\": true, \"gridcolor\": \"white\", \"linecolor\": \"white\", \"ticks\": \"\", \"zerolinecolor\": \"white\", \"zerolinewidth\": 2}}}, \"title\": {\"font\": {\"color\": \"#4D5663\"}}, \"xaxis\": {\"gridcolor\": \"#E1E5ED\", \"showgrid\": true, \"tickfont\": {\"color\": \"#4D5663\"}, \"title\": {\"font\": {\"color\": \"#4D5663\"}, \"text\": \"\"}, \"zerolinecolor\": \"#E1E5ED\"}, \"yaxis\": {\"gridcolor\": \"#E1E5ED\", \"showgrid\": true, \"tickfont\": {\"color\": \"#4D5663\"}, \"title\": {\"font\": {\"color\": \"#4D5663\"}, \"text\": \"\"}, \"zerolinecolor\": \"#E1E5ED\"}},\n",
       "                        {\"showLink\": true, \"linkText\": \"Export to plot.ly\", \"plotlyServerURL\": \"https://plot.ly\", \"responsive\": true}\n",
       "                    ).then(function(){\n",
       "                            \n",
       "var gd = document.getElementById('75919932-a796-4386-bcc4-d6367cb0fcf7');\n",
       "var x = new MutationObserver(function (mutations, observer) {{\n",
       "        var display = window.getComputedStyle(gd).display;\n",
       "        if (!display || display === 'none') {{\n",
       "            console.log([gd, 'removed!']);\n",
       "            Plotly.purge(gd);\n",
       "            observer.disconnect();\n",
       "        }}\n",
       "}});\n",
       "\n",
       "// Listen for the removal of the full notebook cells\n",
       "var notebookContainer = gd.closest('#notebook-container');\n",
       "if (notebookContainer) {{\n",
       "    x.observe(notebookContainer, {childList: true});\n",
       "}}\n",
       "\n",
       "// Listen for the clearing of the current output cell\n",
       "var outputEl = gd.closest('.output');\n",
       "if (outputEl) {{\n",
       "    x.observe(outputEl, {childList: true});\n",
       "}}\n",
       "\n",
       "                        })\n",
       "                };\n",
       "                });\n",
       "            </script>\n",
       "        </div>"
      ]
     },
     "metadata": {},
     "output_type": "display_data"
    },
    {
     "data": {
      "text/plain": [
       "<Figure size 432x288 with 0 Axes>"
      ]
     },
     "metadata": {},
     "output_type": "display_data"
    }
   ],
   "source": [
    "# your code here\n",
    "plt.figure()\n",
    "BAC['Close'].iplot(kind='scatter')\n",
    "BAC['Close'].rolling(window=30).mean().iplot()"
   ]
  },
  {
   "cell_type": "code",
   "execution_count": 30,
   "metadata": {},
   "outputs": [
    {
     "data": {
      "text/plain": [
       "Text(0.5, 1.0, 'BAC Price')"
      ]
     },
     "execution_count": 30,
     "metadata": {},
     "output_type": "execute_result"
    },
    {
     "data": {
      "image/png": "[encoded data removed]",
      "text/plain": [
       "<Figure size 432x288 with 1 Axes>"
      ]
     },
     "metadata": {},
     "output_type": "display_data"
    }
   ],
   "source": [
    "BAC['Close'].rolling(window=30).mean().plot(label=\"30 Day Average\")\n",
    "BAC['Close'].plot(label=\"Close Price\")\n",
    "plt.legend()\n",
    "plt.title(\"BAC Price\")"
   ]
  },
  {
   "cell_type": "markdown",
   "metadata": {},
   "source": [
    "** Create a heatmap of the correlation between the stocks Close Price.**\n"
   ]
  },
  {
   "cell_type": "code",
   "execution_count": 31,
   "metadata": {},
   "outputs": [],
   "source": [
    "# your code here\n",
    "import seaborn as sns"
   ]
  },
  {
   "cell_type": "code",
   "execution_count": 32,
   "metadata": {},
   "outputs": [
    {
     "data": {
      "text/plain": [
       "<matplotlib.axes._subplots.AxesSubplot at 0x1eb47317a88>"
      ]
     },
     "execution_count": 32,
     "metadata": {},
     "output_type": "execute_result"
    },
    {
     "data": {
      "image/png": "[encoded data removed]",
      "text/plain": [
       "<Figure size 432x288 with 2 Axes>"
      ]
     },
     "metadata": {},
     "output_type": "display_data"
    }
   ],
   "source": [
    "sns.heatmap(bank_price.xs(key=\"Close\",axis=1,level=1).corr(),cmap=\"Blues\",annot=True)"
   ]
  },
  {
   "cell_type": "code",
   "execution_count": 33,
   "metadata": {},
   "outputs": [
    {
     "data": {
      "text/plain": [
       "<seaborn.matrix.ClusterGrid at 0x1eb46858ac8>"
      ]
     },
     "execution_count": 33,
     "metadata": {},
     "output_type": "execute_result"
    },
    {
     "data": {
      "image/png": "[encoded data removed]",
      "text/plain": [
       "<Figure size 720x720 with 4 Axes>"
      ]
     },
     "metadata": {},
     "output_type": "display_data"
    }
   ],
   "source": [
    "sns.clustermap(bank_price.xs(key=\"Close\",axis=1,level=1).corr(),cmap=\"Blues\",annot=True)"
   ]
  },
  {
   "cell_type": "markdown",
   "metadata": {},
   "source": [
    "# Part 2. \n",
    "\n",
    "Please generate some visualization using the crunchbase database you downloaded for the midterm. Feel free to use any plotting packages (in Python), and generate any types of figures. You may also comment on the generated figures, and explain any insights you have obtained. "
   ]
  },
  {
   "cell_type": "code",
   "execution_count": 359,
   "metadata": {},
   "outputs": [],
   "source": [
    "# %%sql\n",
    "# select cc.state_code, count(distinct cc.permalink) as uniqueC, count(distinct ca.company_permalink) as unique_acquiredC\n",
    "# from crunchbase_companies as cc\n",
    "# left join crunchbase_acquisitions as ca\n",
    "# on cc.permalink = ca.company_permalink\n",
    "# where cc.state_code is NOT NULL\n",
    "#  GROUP BY 1\n",
    "#  ORDER BY 3 DESC"
   ]
  },
  {
   "cell_type": "code",
   "execution_count": 1,
   "metadata": {},
   "outputs": [
    {
     "data": {
      "text/plain": [
       "'Connected: @crunchbase_analysis.db'"
      ]
     },
     "execution_count": 1,
     "metadata": {},
     "output_type": "execute_result"
    }
   ],
   "source": [
    "from matplotlib.pyplot import figure\n",
    "import pandas\n",
    "import sqlite3\n",
    "import matplotlib.pyplot as plt\n",
    "%load_ext sql\n",
    "%sql sqlite:///crunchbase_analysis.db"
   ]
  },
  {
   "cell_type": "code",
   "execution_count": 5,
   "metadata": {},
   "outputs": [
    {
     "data": {
      "text/html": [
       "<div>\n",
       "<style scoped>\n",
       "    .dataframe tbody tr th:only-of-type {\n",
       "        vertical-align: middle;\n",
       "    }\n",
       "\n",
       "    .dataframe tbody tr th {\n",
       "        vertical-align: top;\n",
       "    }\n",
       "\n",
       "    .dataframe thead th {\n",
       "        text-align: right;\n",
       "    }\n",
       "</style>\n",
       "<table border=\"1\" class=\"dataframe\">\n",
       "  <thead>\n",
       "    <tr style=\"text-align: right;\">\n",
       "      <th></th>\n",
       "      <th>company_permalink</th>\n",
       "      <th>company_name</th>\n",
       "      <th>company_category_code</th>\n",
       "      <th>company_country_code</th>\n",
       "      <th>company_state_code</th>\n",
       "      <th>company_region</th>\n",
       "      <th>company_city</th>\n",
       "      <th>investor_permalink</th>\n",
       "      <th>investor_name</th>\n",
       "      <th>investor_category_code</th>\n",
       "      <th>...</th>\n",
       "      <th>investor_state_code</th>\n",
       "      <th>investor_region</th>\n",
       "      <th>investor_city</th>\n",
       "      <th>funding_round_type</th>\n",
       "      <th>funded_at</th>\n",
       "      <th>funded_month</th>\n",
       "      <th>funded_quarter</th>\n",
       "      <th>funded_year</th>\n",
       "      <th>raised_amount_usd</th>\n",
       "      <th>id</th>\n",
       "    </tr>\n",
       "  </thead>\n",
       "  <tbody>\n",
       "    <tr>\n",
       "      <th>0</th>\n",
       "      <td>/company/tokita-investments</td>\n",
       "      <td>Tokita Investments</td>\n",
       "      <td>consulting</td>\n",
       "      <td>JPN</td>\n",
       "      <td>None</td>\n",
       "      <td>TBD</td>\n",
       "      <td>Okinawa Ken</td>\n",
       "      <td>/company/01startups</td>\n",
       "      <td>01Startups</td>\n",
       "      <td>None</td>\n",
       "      <td>...</td>\n",
       "      <td>None</td>\n",
       "      <td>unknown</td>\n",
       "      <td>None</td>\n",
       "      <td>angel</td>\n",
       "      <td>9/26/13</td>\n",
       "      <td>2013-09</td>\n",
       "      <td>2013-Q3</td>\n",
       "      <td>2013.0</td>\n",
       "      <td>5000.0</td>\n",
       "      <td>1</td>\n",
       "    </tr>\n",
       "    <tr>\n",
       "      <th>1</th>\n",
       "      <td>/company/advercar</td>\n",
       "      <td>AdverCar</td>\n",
       "      <td>advertising</td>\n",
       "      <td>USA</td>\n",
       "      <td>CA</td>\n",
       "      <td>SF Bay</td>\n",
       "      <td>San Francisco</td>\n",
       "      <td>/company/1-800-flowers-com</td>\n",
       "      <td>1-800-FLOWERS.COM</td>\n",
       "      <td>ecommerce</td>\n",
       "      <td>...</td>\n",
       "      <td>NY</td>\n",
       "      <td>New York</td>\n",
       "      <td>New York</td>\n",
       "      <td>series-a</td>\n",
       "      <td>10/30/12</td>\n",
       "      <td>2012-10</td>\n",
       "      <td>2012-Q4</td>\n",
       "      <td>2012.0</td>\n",
       "      <td>2000000.0</td>\n",
       "      <td>2</td>\n",
       "    </tr>\n",
       "    <tr>\n",
       "      <th>2</th>\n",
       "      <td>/company/launchgram</td>\n",
       "      <td>LaunchGram</td>\n",
       "      <td>news</td>\n",
       "      <td>USA</td>\n",
       "      <td>CA</td>\n",
       "      <td>SF Bay</td>\n",
       "      <td>Mountain View</td>\n",
       "      <td>/company/10xelerator</td>\n",
       "      <td>10Xelerator</td>\n",
       "      <td>finance</td>\n",
       "      <td>...</td>\n",
       "      <td>OH</td>\n",
       "      <td>Columbus</td>\n",
       "      <td>Columbus</td>\n",
       "      <td>other</td>\n",
       "      <td>1/23/12</td>\n",
       "      <td>2012-01</td>\n",
       "      <td>2012-Q1</td>\n",
       "      <td>2012.0</td>\n",
       "      <td>20000.0</td>\n",
       "      <td>3</td>\n",
       "    </tr>\n",
       "    <tr>\n",
       "      <th>3</th>\n",
       "      <td>/company/utap</td>\n",
       "      <td>uTaP</td>\n",
       "      <td>messaging</td>\n",
       "      <td>USA</td>\n",
       "      <td>None</td>\n",
       "      <td>United States - Other</td>\n",
       "      <td>None</td>\n",
       "      <td>/company/10xelerator</td>\n",
       "      <td>10Xelerator</td>\n",
       "      <td>finance</td>\n",
       "      <td>...</td>\n",
       "      <td>OH</td>\n",
       "      <td>Columbus</td>\n",
       "      <td>Columbus</td>\n",
       "      <td>other</td>\n",
       "      <td>1/1/12</td>\n",
       "      <td>2012-01</td>\n",
       "      <td>2012-Q1</td>\n",
       "      <td>2012.0</td>\n",
       "      <td>20000.0</td>\n",
       "      <td>4</td>\n",
       "    </tr>\n",
       "    <tr>\n",
       "      <th>4</th>\n",
       "      <td>/company/zoopshop</td>\n",
       "      <td>ZoopShop</td>\n",
       "      <td>software</td>\n",
       "      <td>USA</td>\n",
       "      <td>OH</td>\n",
       "      <td>Columbus</td>\n",
       "      <td>columbus</td>\n",
       "      <td>/company/10xelerator</td>\n",
       "      <td>10Xelerator</td>\n",
       "      <td>finance</td>\n",
       "      <td>...</td>\n",
       "      <td>OH</td>\n",
       "      <td>Columbus</td>\n",
       "      <td>Columbus</td>\n",
       "      <td>angel</td>\n",
       "      <td>2/15/12</td>\n",
       "      <td>2012-02</td>\n",
       "      <td>2012-Q1</td>\n",
       "      <td>2012.0</td>\n",
       "      <td>20000.0</td>\n",
       "      <td>5</td>\n",
       "    </tr>\n",
       "    <tr>\n",
       "      <th>...</th>\n",
       "      <td>...</td>\n",
       "      <td>...</td>\n",
       "      <td>...</td>\n",
       "      <td>...</td>\n",
       "      <td>...</td>\n",
       "      <td>...</td>\n",
       "      <td>...</td>\n",
       "      <td>...</td>\n",
       "      <td>...</td>\n",
       "      <td>...</td>\n",
       "      <td>...</td>\n",
       "      <td>...</td>\n",
       "      <td>...</td>\n",
       "      <td>...</td>\n",
       "      <td>...</td>\n",
       "      <td>...</td>\n",
       "      <td>...</td>\n",
       "      <td>...</td>\n",
       "      <td>...</td>\n",
       "      <td>...</td>\n",
       "      <td>...</td>\n",
       "    </tr>\n",
       "    <tr>\n",
       "      <th>83888</th>\n",
       "      <td>/company/comprehend-systems</td>\n",
       "      <td>Comprehend Systems</td>\n",
       "      <td>enterprise</td>\n",
       "      <td>USA</td>\n",
       "      <td>CA</td>\n",
       "      <td>SF Bay</td>\n",
       "      <td>Palo Alto</td>\n",
       "      <td>/person/zorba-lieberman</td>\n",
       "      <td>Zorba Lieberman</td>\n",
       "      <td>None</td>\n",
       "      <td>...</td>\n",
       "      <td>None</td>\n",
       "      <td>unknown</td>\n",
       "      <td>None</td>\n",
       "      <td>series-a</td>\n",
       "      <td>7/11/13</td>\n",
       "      <td>2013-07</td>\n",
       "      <td>2013-Q3</td>\n",
       "      <td>2013.0</td>\n",
       "      <td>8400000.0</td>\n",
       "      <td>83889</td>\n",
       "    </tr>\n",
       "    <tr>\n",
       "      <th>83889</th>\n",
       "      <td>/company/smartthings</td>\n",
       "      <td>SmartThings</td>\n",
       "      <td>mobile</td>\n",
       "      <td>USA</td>\n",
       "      <td>DC</td>\n",
       "      <td>unknown</td>\n",
       "      <td>Minneapolis</td>\n",
       "      <td>/person/zorik-gordon</td>\n",
       "      <td>Zorik Gordon</td>\n",
       "      <td>None</td>\n",
       "      <td>...</td>\n",
       "      <td>None</td>\n",
       "      <td>unknown</td>\n",
       "      <td>None</td>\n",
       "      <td>series-a</td>\n",
       "      <td>12/4/12</td>\n",
       "      <td>2012-12</td>\n",
       "      <td>2012-Q4</td>\n",
       "      <td>2012.0</td>\n",
       "      <td>3000000.0</td>\n",
       "      <td>83890</td>\n",
       "    </tr>\n",
       "    <tr>\n",
       "      <th>83890</th>\n",
       "      <td>/company/seventh-continent</td>\n",
       "      <td>Seventh Continent</td>\n",
       "      <td>games_video</td>\n",
       "      <td>None</td>\n",
       "      <td>None</td>\n",
       "      <td>unknown</td>\n",
       "      <td>None</td>\n",
       "      <td>/person/zsolt-menesi</td>\n",
       "      <td>Zsolt Menesi</td>\n",
       "      <td>None</td>\n",
       "      <td>...</td>\n",
       "      <td>None</td>\n",
       "      <td>unknown</td>\n",
       "      <td>None</td>\n",
       "      <td>angel</td>\n",
       "      <td>7/1/09</td>\n",
       "      <td>2009-07</td>\n",
       "      <td>2009-Q3</td>\n",
       "      <td>2009.0</td>\n",
       "      <td>400000.0</td>\n",
       "      <td>83891</td>\n",
       "    </tr>\n",
       "    <tr>\n",
       "      <th>83891</th>\n",
       "      <td>/company/keeptruckin</td>\n",
       "      <td>KeepTruckin</td>\n",
       "      <td>transportation</td>\n",
       "      <td>USA</td>\n",
       "      <td>CA</td>\n",
       "      <td>SF Bay</td>\n",
       "      <td>San Francisco</td>\n",
       "      <td>/person/zubair-jandali</td>\n",
       "      <td>Zubair Jandali</td>\n",
       "      <td>None</td>\n",
       "      <td>...</td>\n",
       "      <td>None</td>\n",
       "      <td>unknown</td>\n",
       "      <td>None</td>\n",
       "      <td>series-a</td>\n",
       "      <td>7/1/13</td>\n",
       "      <td>2013-07</td>\n",
       "      <td>2013-Q3</td>\n",
       "      <td>2013.0</td>\n",
       "      <td>2300000.0</td>\n",
       "      <td>83892</td>\n",
       "    </tr>\n",
       "    <tr>\n",
       "      <th>83892</th>\n",
       "      <td>/company/freightos</td>\n",
       "      <td>Freightos</td>\n",
       "      <td>software</td>\n",
       "      <td>None</td>\n",
       "      <td>None</td>\n",
       "      <td>unknown</td>\n",
       "      <td>None</td>\n",
       "      <td>/person/zvi-schreiber</td>\n",
       "      <td>Zvi Schreiber</td>\n",
       "      <td>None</td>\n",
       "      <td>...</td>\n",
       "      <td>None</td>\n",
       "      <td>unknown</td>\n",
       "      <td>None</td>\n",
       "      <td>series-a</td>\n",
       "      <td>11/16/12</td>\n",
       "      <td>2012-11</td>\n",
       "      <td>2012-Q4</td>\n",
       "      <td>2012.0</td>\n",
       "      <td>550000.0</td>\n",
       "      <td>83893</td>\n",
       "    </tr>\n",
       "  </tbody>\n",
       "</table>\n",
       "<p>83893 rows × 21 columns</p>\n",
       "</div>"
      ],
      "text/plain": [
       "                 company_permalink        company_name company_category_code  \\\n",
       "0      /company/tokita-investments  Tokita Investments            consulting   \n",
       "1                /company/advercar            AdverCar           advertising   \n",
       "2              /company/launchgram          LaunchGram                  news   \n",
       "3                    /company/utap                uTaP             messaging   \n",
       "4                /company/zoopshop            ZoopShop              software   \n",
       "...                            ...                 ...                   ...   \n",
       "83888  /company/comprehend-systems  Comprehend Systems            enterprise   \n",
       "83889         /company/smartthings         SmartThings                mobile   \n",
       "83890   /company/seventh-continent   Seventh Continent           games_video   \n",
       "83891         /company/keeptruckin         KeepTruckin        transportation   \n",
       "83892           /company/freightos           Freightos              software   \n",
       "\n",
       "      company_country_code company_state_code         company_region  \\\n",
       "0                      JPN               None                    TBD   \n",
       "1                      USA                 CA                 SF Bay   \n",
       "2                      USA                 CA                 SF Bay   \n",
       "3                      USA               None  United States - Other   \n",
       "4                      USA                 OH               Columbus   \n",
       "...                    ...                ...                    ...   \n",
       "83888                  USA                 CA                 SF Bay   \n",
       "83889                  USA                 DC                unknown   \n",
       "83890                 None               None                unknown   \n",
       "83891                  USA                 CA                 SF Bay   \n",
       "83892                 None               None                unknown   \n",
       "\n",
       "        company_city          investor_permalink      investor_name  \\\n",
       "0        Okinawa Ken         /company/01startups         01Startups   \n",
       "1      San Francisco  /company/1-800-flowers-com  1-800-FLOWERS.COM   \n",
       "2      Mountain View        /company/10xelerator        10Xelerator   \n",
       "3               None        /company/10xelerator        10Xelerator   \n",
       "4           columbus        /company/10xelerator        10Xelerator   \n",
       "...              ...                         ...                ...   \n",
       "83888      Palo Alto     /person/zorba-lieberman    Zorba Lieberman   \n",
       "83889    Minneapolis        /person/zorik-gordon       Zorik Gordon   \n",
       "83890           None        /person/zsolt-menesi       Zsolt Menesi   \n",
       "83891  San Francisco      /person/zubair-jandali     Zubair Jandali   \n",
       "83892           None       /person/zvi-schreiber      Zvi Schreiber   \n",
       "\n",
       "      investor_category_code  ... investor_state_code investor_region  \\\n",
       "0                       None  ...                None         unknown   \n",
       "1                  ecommerce  ...                  NY        New York   \n",
       "2                    finance  ...                  OH        Columbus   \n",
       "3                    finance  ...                  OH        Columbus   \n",
       "4                    finance  ...                  OH        Columbus   \n",
       "...                      ...  ...                 ...             ...   \n",
       "83888                   None  ...                None         unknown   \n",
       "83889                   None  ...                None         unknown   \n",
       "83890                   None  ...                None         unknown   \n",
       "83891                   None  ...                None         unknown   \n",
       "83892                   None  ...                None         unknown   \n",
       "\n",
       "      investor_city funding_round_type funded_at funded_month funded_quarter  \\\n",
       "0              None              angel   9/26/13      2013-09        2013-Q3   \n",
       "1          New York           series-a  10/30/12      2012-10        2012-Q4   \n",
       "2          Columbus              other   1/23/12      2012-01        2012-Q1   \n",
       "3          Columbus              other    1/1/12      2012-01        2012-Q1   \n",
       "4          Columbus              angel   2/15/12      2012-02        2012-Q1   \n",
       "...             ...                ...       ...          ...            ...   \n",
       "83888          None           series-a   7/11/13      2013-07        2013-Q3   \n",
       "83889          None           series-a   12/4/12      2012-12        2012-Q4   \n",
       "83890          None              angel    7/1/09      2009-07        2009-Q3   \n",
       "83891          None           series-a    7/1/13      2013-07        2013-Q3   \n",
       "83892          None           series-a  11/16/12      2012-11        2012-Q4   \n",
       "\n",
       "      funded_year  raised_amount_usd     id  \n",
       "0          2013.0             5000.0      1  \n",
       "1          2012.0          2000000.0      2  \n",
       "2          2012.0            20000.0      3  \n",
       "3          2012.0            20000.0      4  \n",
       "4          2012.0            20000.0      5  \n",
       "...           ...                ...    ...  \n",
       "83888      2013.0          8400000.0  83889  \n",
       "83889      2012.0          3000000.0  83890  \n",
       "83890      2009.0           400000.0  83891  \n",
       "83891      2013.0          2300000.0  83892  \n",
       "83892      2012.0           550000.0  83893  \n",
       "\n",
       "[83893 rows x 21 columns]"
      ]
     },
     "execution_count": 5,
     "metadata": {},
     "output_type": "execute_result"
    }
   ],
   "source": [
    "conn = sqlite3.connect(\"crunchbase_analysis.db\")\n",
    "df6 = pd.read_sql_query(\"select * from crunchbase_investments;\", conn)\n",
    "df6"
   ]
  },
  {
   "cell_type": "code",
   "execution_count": 4,
   "metadata": {},
   "outputs": [
    {
     "data": {
      "text/html": [
       "<div>\n",
       "<style scoped>\n",
       "    .dataframe tbody tr th:only-of-type {\n",
       "        vertical-align: middle;\n",
       "    }\n",
       "\n",
       "    .dataframe tbody tr th {\n",
       "        vertical-align: top;\n",
       "    }\n",
       "\n",
       "    .dataframe thead th {\n",
       "        text-align: right;\n",
       "    }\n",
       "</style>\n",
       "<table border=\"1\" class=\"dataframe\">\n",
       "  <thead>\n",
       "    <tr style=\"text-align: right;\">\n",
       "      <th></th>\n",
       "      <th>permalink</th>\n",
       "      <th>name</th>\n",
       "      <th>homepage_url</th>\n",
       "      <th>category_code</th>\n",
       "      <th>funding_total_usd</th>\n",
       "      <th>status</th>\n",
       "      <th>country_code</th>\n",
       "      <th>state_code</th>\n",
       "      <th>region</th>\n",
       "      <th>city</th>\n",
       "      <th>funding_rounds</th>\n",
       "      <th>founded_at</th>\n",
       "      <th>founded_at_clean</th>\n",
       "      <th>id</th>\n",
       "    </tr>\n",
       "  </thead>\n",
       "  <tbody>\n",
       "    <tr>\n",
       "      <th>0</th>\n",
       "      <td>/company/8868</td>\n",
       "      <td>8868</td>\n",
       "      <td>http://www.8868.cn</td>\n",
       "      <td>None</td>\n",
       "      <td>NaN</td>\n",
       "      <td>operating</td>\n",
       "      <td>None</td>\n",
       "      <td>None</td>\n",
       "      <td>unknown</td>\n",
       "      <td>None</td>\n",
       "      <td>1.0</td>\n",
       "      <td>None</td>\n",
       "      <td>None</td>\n",
       "      <td>1</td>\n",
       "    </tr>\n",
       "    <tr>\n",
       "      <th>1</th>\n",
       "      <td>/company/21e6</td>\n",
       "      <td>2.10E+07</td>\n",
       "      <td>None</td>\n",
       "      <td>None</td>\n",
       "      <td>5050000.0</td>\n",
       "      <td>operating</td>\n",
       "      <td>USA</td>\n",
       "      <td>CA</td>\n",
       "      <td>SF Bay</td>\n",
       "      <td>San Francisco</td>\n",
       "      <td>1.0</td>\n",
       "      <td>1/1/13</td>\n",
       "      <td>2013-01-01</td>\n",
       "      <td>2</td>\n",
       "    </tr>\n",
       "    <tr>\n",
       "      <th>2</th>\n",
       "      <td>/company/club-domains</td>\n",
       "      <td>.Club Domains</td>\n",
       "      <td>http://dotclub.com</td>\n",
       "      <td>software</td>\n",
       "      <td>7000000.0</td>\n",
       "      <td>operating</td>\n",
       "      <td>USA</td>\n",
       "      <td>FL</td>\n",
       "      <td>Fort Lauderdale</td>\n",
       "      <td>Oakland Park</td>\n",
       "      <td>1.0</td>\n",
       "      <td>10/10/11</td>\n",
       "      <td>2011-10-10</td>\n",
       "      <td>3</td>\n",
       "    </tr>\n",
       "    <tr>\n",
       "      <th>3</th>\n",
       "      <td>/company/fox-networks</td>\n",
       "      <td>.Fox Networks</td>\n",
       "      <td>http://www.dotfox.com</td>\n",
       "      <td>advertising</td>\n",
       "      <td>4912394.0</td>\n",
       "      <td>closed</td>\n",
       "      <td>ARG</td>\n",
       "      <td>None</td>\n",
       "      <td>Buenos Aires</td>\n",
       "      <td>Buenos Aires</td>\n",
       "      <td>1.0</td>\n",
       "      <td>None</td>\n",
       "      <td>None</td>\n",
       "      <td>4</td>\n",
       "    </tr>\n",
       "    <tr>\n",
       "      <th>4</th>\n",
       "      <td>/company/a-list-games</td>\n",
       "      <td>[a]list games</td>\n",
       "      <td>http://www.alistgames.com</td>\n",
       "      <td>games_video</td>\n",
       "      <td>9300000.0</td>\n",
       "      <td>operating</td>\n",
       "      <td>None</td>\n",
       "      <td>None</td>\n",
       "      <td>unknown</td>\n",
       "      <td>None</td>\n",
       "      <td>1.0</td>\n",
       "      <td>None</td>\n",
       "      <td>None</td>\n",
       "      <td>5</td>\n",
       "    </tr>\n",
       "    <tr>\n",
       "      <th>...</th>\n",
       "      <td>...</td>\n",
       "      <td>...</td>\n",
       "      <td>...</td>\n",
       "      <td>...</td>\n",
       "      <td>...</td>\n",
       "      <td>...</td>\n",
       "      <td>...</td>\n",
       "      <td>...</td>\n",
       "      <td>...</td>\n",
       "      <td>...</td>\n",
       "      <td>...</td>\n",
       "      <td>...</td>\n",
       "      <td>...</td>\n",
       "      <td>...</td>\n",
       "    </tr>\n",
       "    <tr>\n",
       "      <th>27322</th>\n",
       "      <td>/company/zyraz-technology</td>\n",
       "      <td>Zyraz Technology</td>\n",
       "      <td>http://www.zyraz.com</td>\n",
       "      <td>biotech</td>\n",
       "      <td>15398911.0</td>\n",
       "      <td>closed</td>\n",
       "      <td>MYS</td>\n",
       "      <td>None</td>\n",
       "      <td>Damansara</td>\n",
       "      <td>Damansara</td>\n",
       "      <td>3.0</td>\n",
       "      <td>1/1/94</td>\n",
       "      <td>1994-01-01</td>\n",
       "      <td>27323</td>\n",
       "    </tr>\n",
       "    <tr>\n",
       "      <th>27323</th>\n",
       "      <td>/company/zyrra</td>\n",
       "      <td>Zyrra</td>\n",
       "      <td>http://www.zyrra.com</td>\n",
       "      <td>ecommerce</td>\n",
       "      <td>1460500.0</td>\n",
       "      <td>operating</td>\n",
       "      <td>USA</td>\n",
       "      <td>MA</td>\n",
       "      <td>Boston</td>\n",
       "      <td>Cambridge</td>\n",
       "      <td>3.0</td>\n",
       "      <td>None</td>\n",
       "      <td>None</td>\n",
       "      <td>27324</td>\n",
       "    </tr>\n",
       "    <tr>\n",
       "      <th>27324</th>\n",
       "      <td>/company/zytoprotec</td>\n",
       "      <td>Zytoprotec</td>\n",
       "      <td>http://www.zytoprotec.com</td>\n",
       "      <td>biotech</td>\n",
       "      <td>2686600.0</td>\n",
       "      <td>operating</td>\n",
       "      <td>AUT</td>\n",
       "      <td>None</td>\n",
       "      <td>Wien</td>\n",
       "      <td>Wien</td>\n",
       "      <td>1.0</td>\n",
       "      <td>1/1/07</td>\n",
       "      <td>2007-01-01</td>\n",
       "      <td>27325</td>\n",
       "    </tr>\n",
       "    <tr>\n",
       "      <th>27325</th>\n",
       "      <td>/company/zzzzapp-com</td>\n",
       "      <td>Zzzzapp!</td>\n",
       "      <td>http://www.zzzzapp.com</td>\n",
       "      <td>mobile</td>\n",
       "      <td>39013.0</td>\n",
       "      <td>operating</td>\n",
       "      <td>HRV</td>\n",
       "      <td>None</td>\n",
       "      <td>Split</td>\n",
       "      <td>Split</td>\n",
       "      <td>2.0</td>\n",
       "      <td>5/13/12</td>\n",
       "      <td>2012-05-13</td>\n",
       "      <td>27326</td>\n",
       "    </tr>\n",
       "    <tr>\n",
       "      <th>27326</th>\n",
       "      <td>/company/gps-optics</td>\n",
       "      <td>�-GPS Optics</td>\n",
       "      <td>http://www.u-gps.com</td>\n",
       "      <td>hardware</td>\n",
       "      <td>40000.0</td>\n",
       "      <td>operating</td>\n",
       "      <td>DEU</td>\n",
       "      <td>None</td>\n",
       "      <td>Meiningen</td>\n",
       "      <td>Meiningen</td>\n",
       "      <td>1.0</td>\n",
       "      <td>1/1/06</td>\n",
       "      <td>2006-01-01</td>\n",
       "      <td>27327</td>\n",
       "    </tr>\n",
       "  </tbody>\n",
       "</table>\n",
       "<p>27327 rows × 14 columns</p>\n",
       "</div>"
      ],
      "text/plain": [
       "                       permalink              name               homepage_url  \\\n",
       "0                  /company/8868              8868         http://www.8868.cn   \n",
       "1                  /company/21e6          2.10E+07                       None   \n",
       "2          /company/club-domains     .Club Domains         http://dotclub.com   \n",
       "3          /company/fox-networks     .Fox Networks      http://www.dotfox.com   \n",
       "4          /company/a-list-games     [a]list games  http://www.alistgames.com   \n",
       "...                          ...               ...                        ...   \n",
       "27322  /company/zyraz-technology  Zyraz Technology       http://www.zyraz.com   \n",
       "27323             /company/zyrra             Zyrra       http://www.zyrra.com   \n",
       "27324        /company/zytoprotec        Zytoprotec  http://www.zytoprotec.com   \n",
       "27325       /company/zzzzapp-com          Zzzzapp!     http://www.zzzzapp.com   \n",
       "27326        /company/gps-optics      �-GPS Optics       http://www.u-gps.com   \n",
       "\n",
       "      category_code  funding_total_usd     status country_code state_code  \\\n",
       "0              None                NaN  operating         None       None   \n",
       "1              None          5050000.0  operating          USA         CA   \n",
       "2          software          7000000.0  operating          USA         FL   \n",
       "3       advertising          4912394.0     closed          ARG       None   \n",
       "4       games_video          9300000.0  operating         None       None   \n",
       "...             ...                ...        ...          ...        ...   \n",
       "27322       biotech         15398911.0     closed          MYS       None   \n",
       "27323     ecommerce          1460500.0  operating          USA         MA   \n",
       "27324       biotech          2686600.0  operating          AUT       None   \n",
       "27325        mobile            39013.0  operating          HRV       None   \n",
       "27326      hardware            40000.0  operating          DEU       None   \n",
       "\n",
       "                region           city  funding_rounds founded_at  \\\n",
       "0              unknown           None             1.0       None   \n",
       "1               SF Bay  San Francisco             1.0     1/1/13   \n",
       "2      Fort Lauderdale   Oakland Park             1.0   10/10/11   \n",
       "3         Buenos Aires   Buenos Aires             1.0       None   \n",
       "4              unknown           None             1.0       None   \n",
       "...                ...            ...             ...        ...   \n",
       "27322        Damansara      Damansara             3.0     1/1/94   \n",
       "27323           Boston      Cambridge             3.0       None   \n",
       "27324             Wien           Wien             1.0     1/1/07   \n",
       "27325            Split          Split             2.0    5/13/12   \n",
       "27326        Meiningen      Meiningen             1.0     1/1/06   \n",
       "\n",
       "      founded_at_clean     id  \n",
       "0                 None      1  \n",
       "1           2013-01-01      2  \n",
       "2           2011-10-10      3  \n",
       "3                 None      4  \n",
       "4                 None      5  \n",
       "...                ...    ...  \n",
       "27322       1994-01-01  27323  \n",
       "27323             None  27324  \n",
       "27324       2007-01-01  27325  \n",
       "27325       2012-05-13  27326  \n",
       "27326       2006-01-01  27327  \n",
       "\n",
       "[27327 rows x 14 columns]"
      ]
     },
     "execution_count": 4,
     "metadata": {},
     "output_type": "execute_result"
    }
   ],
   "source": [
    "conn = sqlite3.connect(\"crunchbase_analysis.db\")\n",
    "df5 = pd.read_sql_query(\"select * from crunchbase_companies;\", conn)\n",
    "df5"
   ]
  },
  {
   "cell_type": "code",
   "execution_count": 8,
   "metadata": {},
   "outputs": [
    {
     "data": {
      "text/html": [
       "<div>\n",
       "<style scoped>\n",
       "    .dataframe tbody tr th:only-of-type {\n",
       "        vertical-align: middle;\n",
       "    }\n",
       "\n",
       "    .dataframe tbody tr th {\n",
       "        vertical-align: top;\n",
       "    }\n",
       "\n",
       "    .dataframe thead th {\n",
       "        text-align: right;\n",
       "    }\n",
       "</style>\n",
       "<table border=\"1\" class=\"dataframe\">\n",
       "  <thead>\n",
       "    <tr style=\"text-align: right;\">\n",
       "      <th></th>\n",
       "      <th>state_code</th>\n",
       "      <th>funding_total_usd</th>\n",
       "    </tr>\n",
       "  </thead>\n",
       "  <tbody>\n",
       "    <tr>\n",
       "      <th>0</th>\n",
       "      <td>None</td>\n",
       "      <td>NaN</td>\n",
       "    </tr>\n",
       "    <tr>\n",
       "      <th>1</th>\n",
       "      <td>CA</td>\n",
       "      <td>5050000.0</td>\n",
       "    </tr>\n",
       "    <tr>\n",
       "      <th>2</th>\n",
       "      <td>FL</td>\n",
       "      <td>7000000.0</td>\n",
       "    </tr>\n",
       "    <tr>\n",
       "      <th>3</th>\n",
       "      <td>None</td>\n",
       "      <td>4912394.0</td>\n",
       "    </tr>\n",
       "    <tr>\n",
       "      <th>4</th>\n",
       "      <td>None</td>\n",
       "      <td>9300000.0</td>\n",
       "    </tr>\n",
       "    <tr>\n",
       "      <th>...</th>\n",
       "      <td>...</td>\n",
       "      <td>...</td>\n",
       "    </tr>\n",
       "    <tr>\n",
       "      <th>27322</th>\n",
       "      <td>None</td>\n",
       "      <td>15398911.0</td>\n",
       "    </tr>\n",
       "    <tr>\n",
       "      <th>27323</th>\n",
       "      <td>MA</td>\n",
       "      <td>1460500.0</td>\n",
       "    </tr>\n",
       "    <tr>\n",
       "      <th>27324</th>\n",
       "      <td>None</td>\n",
       "      <td>2686600.0</td>\n",
       "    </tr>\n",
       "    <tr>\n",
       "      <th>27325</th>\n",
       "      <td>None</td>\n",
       "      <td>39013.0</td>\n",
       "    </tr>\n",
       "    <tr>\n",
       "      <th>27326</th>\n",
       "      <td>None</td>\n",
       "      <td>40000.0</td>\n",
       "    </tr>\n",
       "  </tbody>\n",
       "</table>\n",
       "<p>27327 rows × 2 columns</p>\n",
       "</div>"
      ],
      "text/plain": [
       "      state_code  funding_total_usd\n",
       "0           None                NaN\n",
       "1             CA          5050000.0\n",
       "2             FL          7000000.0\n",
       "3           None          4912394.0\n",
       "4           None          9300000.0\n",
       "...          ...                ...\n",
       "27322       None         15398911.0\n",
       "27323         MA          1460500.0\n",
       "27324       None          2686600.0\n",
       "27325       None            39013.0\n",
       "27326       None            40000.0\n",
       "\n",
       "[27327 rows x 2 columns]"
      ]
     },
     "execution_count": 8,
     "metadata": {},
     "output_type": "execute_result"
    }
   ],
   "source": [
    "state = df5[[\"state_code\",'funding_total_usd']]\n",
    "state"
   ]
  },
  {
   "cell_type": "code",
   "execution_count": 9,
   "metadata": {},
   "outputs": [],
   "source": [
    "state_fund = state.groupby(state.state_code).sum()"
   ]
  },
  {
   "cell_type": "code",
   "execution_count": 10,
   "metadata": {},
   "outputs": [],
   "source": [
    "#change scientific format\n",
    "pd.options.display.float_format = '{:.4f}'.format"
   ]
  },
  {
   "cell_type": "code",
   "execution_count": 11,
   "metadata": {},
   "outputs": [
    {
     "data": {
      "text/html": [
       "<div>\n",
       "<style scoped>\n",
       "    .dataframe tbody tr th:only-of-type {\n",
       "        vertical-align: middle;\n",
       "    }\n",
       "\n",
       "    .dataframe tbody tr th {\n",
       "        vertical-align: top;\n",
       "    }\n",
       "\n",
       "    .dataframe thead th {\n",
       "        text-align: right;\n",
       "    }\n",
       "</style>\n",
       "<table border=\"1\" class=\"dataframe\">\n",
       "  <thead>\n",
       "    <tr style=\"text-align: right;\">\n",
       "      <th></th>\n",
       "      <th>funding_total_usd</th>\n",
       "    </tr>\n",
       "    <tr>\n",
       "      <th>state_code</th>\n",
       "      <th></th>\n",
       "    </tr>\n",
       "  </thead>\n",
       "  <tbody>\n",
       "    <tr>\n",
       "      <th>AK</th>\n",
       "      <td>5249147.0000</td>\n",
       "    </tr>\n",
       "    <tr>\n",
       "      <th>AL</th>\n",
       "      <td>275172514.0000</td>\n",
       "    </tr>\n",
       "    <tr>\n",
       "      <th>AR</th>\n",
       "      <td>240589591.0000</td>\n",
       "    </tr>\n",
       "    <tr>\n",
       "      <th>AZ</th>\n",
       "      <td>2096623919.0000</td>\n",
       "    </tr>\n",
       "    <tr>\n",
       "      <th>CA</th>\n",
       "      <td>114665569516.0000</td>\n",
       "    </tr>\n",
       "  </tbody>\n",
       "</table>\n",
       "</div>"
      ],
      "text/plain": [
       "            funding_total_usd\n",
       "state_code                   \n",
       "AK               5249147.0000\n",
       "AL             275172514.0000\n",
       "AR             240589591.0000\n",
       "AZ            2096623919.0000\n",
       "CA          114665569516.0000"
      ]
     },
     "execution_count": 11,
     "metadata": {},
     "output_type": "execute_result"
    }
   ],
   "source": [
    "state_fund.head(5)"
   ]
  },
  {
   "cell_type": "markdown",
   "metadata": {},
   "source": [
    "### Insights - Company locate in California, USA got the most amount of funding among all the states"
   ]
  },
  {
   "cell_type": "code",
   "execution_count": 12,
   "metadata": {},
   "outputs": [
    {
     "data": {
      "text/plain": [
       "(array([0.0e+00, 2.0e+10, 4.0e+10, 6.0e+10, 8.0e+10, 1.0e+11, 1.2e+11,\n",
       "        1.4e+11]), <a list of 8 Text yticklabel objects>)"
      ]
     },
     "execution_count": 12,
     "metadata": {},
     "output_type": "execute_result"
    },
    {
     "data": {
      "image/png": "[encoded data removed]",
      "text/plain": [
       "<Figure size 1728x864 with 1 Axes>"
      ]
     },
     "metadata": {
      "needs_background": "light"
     },
     "output_type": "display_data"
    }
   ],
   "source": [
    "# plt.style.use('ggplot')\n",
    "state_fund.plot(kind='bar',figsize=(24, 12))\n",
    "plt.title(\"State's Total Fund\", fontsize = 12)\n",
    "plt.xlabel(\"States\", fontsize = 12)\n",
    "plt.ylabel(\"Total Funding ($)\", fontsize = 12)\n",
    "plt.xticks(fontsize = 24)\n",
    "plt.yticks(fontsize = 24)"
   ]
  },
  {
   "cell_type": "code",
   "execution_count": 13,
   "metadata": {},
   "outputs": [],
   "source": [
    "category = df5[[\"state_code\",'category_code']]"
   ]
  },
  {
   "cell_type": "code",
   "execution_count": 14,
   "metadata": {},
   "outputs": [
    {
     "data": {
      "text/html": [
       "<div>\n",
       "<style scoped>\n",
       "    .dataframe tbody tr th:only-of-type {\n",
       "        vertical-align: middle;\n",
       "    }\n",
       "\n",
       "    .dataframe tbody tr th {\n",
       "        vertical-align: top;\n",
       "    }\n",
       "\n",
       "    .dataframe thead th {\n",
       "        text-align: right;\n",
       "    }\n",
       "</style>\n",
       "<table border=\"1\" class=\"dataframe\">\n",
       "  <thead>\n",
       "    <tr style=\"text-align: right;\">\n",
       "      <th></th>\n",
       "      <th>state_code</th>\n",
       "      <th>category_code</th>\n",
       "    </tr>\n",
       "  </thead>\n",
       "  <tbody>\n",
       "    <tr>\n",
       "      <th>0</th>\n",
       "      <td>None</td>\n",
       "      <td>None</td>\n",
       "    </tr>\n",
       "    <tr>\n",
       "      <th>1</th>\n",
       "      <td>CA</td>\n",
       "      <td>None</td>\n",
       "    </tr>\n",
       "    <tr>\n",
       "      <th>2</th>\n",
       "      <td>FL</td>\n",
       "      <td>software</td>\n",
       "    </tr>\n",
       "    <tr>\n",
       "      <th>3</th>\n",
       "      <td>None</td>\n",
       "      <td>advertising</td>\n",
       "    </tr>\n",
       "    <tr>\n",
       "      <th>4</th>\n",
       "      <td>None</td>\n",
       "      <td>games_video</td>\n",
       "    </tr>\n",
       "  </tbody>\n",
       "</table>\n",
       "</div>"
      ],
      "text/plain": [
       "  state_code category_code\n",
       "0       None          None\n",
       "1         CA          None\n",
       "2         FL      software\n",
       "3       None   advertising\n",
       "4       None   games_video"
      ]
     },
     "execution_count": 14,
     "metadata": {},
     "output_type": "execute_result"
    }
   ],
   "source": [
    "category.head()"
   ]
  },
  {
   "cell_type": "code",
   "execution_count": 15,
   "metadata": {},
   "outputs": [
    {
     "data": {
      "text/html": [
       "<div>\n",
       "<style scoped>\n",
       "    .dataframe tbody tr th:only-of-type {\n",
       "        vertical-align: middle;\n",
       "    }\n",
       "\n",
       "    .dataframe tbody tr th {\n",
       "        vertical-align: top;\n",
       "    }\n",
       "\n",
       "    .dataframe thead th {\n",
       "        text-align: right;\n",
       "    }\n",
       "</style>\n",
       "<table border=\"1\" class=\"dataframe\">\n",
       "  <thead>\n",
       "    <tr style=\"text-align: right;\">\n",
       "      <th></th>\n",
       "      <th>state_code</th>\n",
       "      <th>category_code</th>\n",
       "    </tr>\n",
       "  </thead>\n",
       "  <tbody>\n",
       "    <tr>\n",
       "      <th>1</th>\n",
       "      <td>CA</td>\n",
       "      <td>None</td>\n",
       "    </tr>\n",
       "    <tr>\n",
       "      <th>6</th>\n",
       "      <td>CA</td>\n",
       "      <td>games_video</td>\n",
       "    </tr>\n",
       "    <tr>\n",
       "      <th>9</th>\n",
       "      <td>CA</td>\n",
       "      <td>analytics</td>\n",
       "    </tr>\n",
       "    <tr>\n",
       "      <th>13</th>\n",
       "      <td>CA</td>\n",
       "      <td>web</td>\n",
       "    </tr>\n",
       "    <tr>\n",
       "      <th>18</th>\n",
       "      <td>CA</td>\n",
       "      <td>analytics</td>\n",
       "    </tr>\n",
       "    <tr>\n",
       "      <th>...</th>\n",
       "      <td>...</td>\n",
       "      <td>...</td>\n",
       "    </tr>\n",
       "    <tr>\n",
       "      <th>27301</th>\n",
       "      <td>CA</td>\n",
       "      <td>ecommerce</td>\n",
       "    </tr>\n",
       "    <tr>\n",
       "      <th>27302</th>\n",
       "      <td>CA</td>\n",
       "      <td>mobile</td>\n",
       "    </tr>\n",
       "    <tr>\n",
       "      <th>27313</th>\n",
       "      <td>CA</td>\n",
       "      <td>public_relations</td>\n",
       "    </tr>\n",
       "    <tr>\n",
       "      <th>27315</th>\n",
       "      <td>CA</td>\n",
       "      <td>hardware</td>\n",
       "    </tr>\n",
       "    <tr>\n",
       "      <th>27319</th>\n",
       "      <td>CA</td>\n",
       "      <td>games_video</td>\n",
       "    </tr>\n",
       "  </tbody>\n",
       "</table>\n",
       "<p>6170 rows × 2 columns</p>\n",
       "</div>"
      ],
      "text/plain": [
       "      state_code     category_code\n",
       "1             CA              None\n",
       "6             CA       games_video\n",
       "9             CA         analytics\n",
       "13            CA               web\n",
       "18            CA         analytics\n",
       "...          ...               ...\n",
       "27301         CA         ecommerce\n",
       "27302         CA            mobile\n",
       "27313         CA  public_relations\n",
       "27315         CA          hardware\n",
       "27319         CA       games_video\n",
       "\n",
       "[6170 rows x 2 columns]"
      ]
     },
     "execution_count": 15,
     "metadata": {},
     "output_type": "execute_result"
    }
   ],
   "source": [
    "state_category = category.loc[category[\"state_code\"] == 'CA']\n",
    "state_category"
   ]
  },
  {
   "cell_type": "code",
   "execution_count": 16,
   "metadata": {},
   "outputs": [
    {
     "data": {
      "text/html": [
       "<div>\n",
       "<style scoped>\n",
       "    .dataframe tbody tr th:only-of-type {\n",
       "        vertical-align: middle;\n",
       "    }\n",
       "\n",
       "    .dataframe tbody tr th {\n",
       "        vertical-align: top;\n",
       "    }\n",
       "\n",
       "    .dataframe thead th {\n",
       "        text-align: right;\n",
       "    }\n",
       "</style>\n",
       "<table border=\"1\" class=\"dataframe\">\n",
       "  <thead>\n",
       "    <tr style=\"text-align: right;\">\n",
       "      <th></th>\n",
       "      <th>state_code</th>\n",
       "      <th>category_code</th>\n",
       "    </tr>\n",
       "  </thead>\n",
       "  <tbody>\n",
       "    <tr>\n",
       "      <th>1</th>\n",
       "      <td>CA</td>\n",
       "      <td>None</td>\n",
       "    </tr>\n",
       "    <tr>\n",
       "      <th>6</th>\n",
       "      <td>CA</td>\n",
       "      <td>games_video</td>\n",
       "    </tr>\n",
       "    <tr>\n",
       "      <th>9</th>\n",
       "      <td>CA</td>\n",
       "      <td>analytics</td>\n",
       "    </tr>\n",
       "    <tr>\n",
       "      <th>13</th>\n",
       "      <td>CA</td>\n",
       "      <td>web</td>\n",
       "    </tr>\n",
       "    <tr>\n",
       "      <th>18</th>\n",
       "      <td>CA</td>\n",
       "      <td>analytics</td>\n",
       "    </tr>\n",
       "  </tbody>\n",
       "</table>\n",
       "</div>"
      ],
      "text/plain": [
       "   state_code category_code\n",
       "1          CA          None\n",
       "6          CA   games_video\n",
       "9          CA     analytics\n",
       "13         CA           web\n",
       "18         CA     analytics"
      ]
     },
     "execution_count": 16,
     "metadata": {},
     "output_type": "execute_result"
    }
   ],
   "source": [
    "state_category2 = state_category.loc[state_category['category_code'] != 'None']\n",
    "state_category2.head(5)"
   ]
  },
  {
   "cell_type": "code",
   "execution_count": 17,
   "metadata": {},
   "outputs": [],
   "source": [
    "state_category2.reset_index(drop=True, inplace=True)"
   ]
  },
  {
   "cell_type": "code",
   "execution_count": 18,
   "metadata": {},
   "outputs": [
    {
     "data": {
      "text/html": [
       "<div>\n",
       "<style scoped>\n",
       "    .dataframe tbody tr th:only-of-type {\n",
       "        vertical-align: middle;\n",
       "    }\n",
       "\n",
       "    .dataframe tbody tr th {\n",
       "        vertical-align: top;\n",
       "    }\n",
       "\n",
       "    .dataframe thead th {\n",
       "        text-align: right;\n",
       "    }\n",
       "</style>\n",
       "<table border=\"1\" class=\"dataframe\">\n",
       "  <thead>\n",
       "    <tr style=\"text-align: right;\">\n",
       "      <th></th>\n",
       "      <th>state_code</th>\n",
       "      <th>category_code</th>\n",
       "    </tr>\n",
       "  </thead>\n",
       "  <tbody>\n",
       "    <tr>\n",
       "      <th>0</th>\n",
       "      <td>CA</td>\n",
       "      <td>None</td>\n",
       "    </tr>\n",
       "    <tr>\n",
       "      <th>1</th>\n",
       "      <td>CA</td>\n",
       "      <td>games_video</td>\n",
       "    </tr>\n",
       "    <tr>\n",
       "      <th>2</th>\n",
       "      <td>CA</td>\n",
       "      <td>analytics</td>\n",
       "    </tr>\n",
       "    <tr>\n",
       "      <th>3</th>\n",
       "      <td>CA</td>\n",
       "      <td>web</td>\n",
       "    </tr>\n",
       "    <tr>\n",
       "      <th>4</th>\n",
       "      <td>CA</td>\n",
       "      <td>analytics</td>\n",
       "    </tr>\n",
       "  </tbody>\n",
       "</table>\n",
       "</div>"
      ],
      "text/plain": [
       "  state_code category_code\n",
       "0         CA          None\n",
       "1         CA   games_video\n",
       "2         CA     analytics\n",
       "3         CA           web\n",
       "4         CA     analytics"
      ]
     },
     "execution_count": 18,
     "metadata": {},
     "output_type": "execute_result"
    }
   ],
   "source": [
    "state_category2.head()"
   ]
  },
  {
   "cell_type": "code",
   "execution_count": 19,
   "metadata": {},
   "outputs": [
    {
     "data": {
      "text/html": [
       "<div>\n",
       "<style scoped>\n",
       "    .dataframe tbody tr th:only-of-type {\n",
       "        vertical-align: middle;\n",
       "    }\n",
       "\n",
       "    .dataframe tbody tr th {\n",
       "        vertical-align: top;\n",
       "    }\n",
       "\n",
       "    .dataframe thead th {\n",
       "        text-align: right;\n",
       "    }\n",
       "</style>\n",
       "<table border=\"1\" class=\"dataframe\">\n",
       "  <thead>\n",
       "    <tr style=\"text-align: right;\">\n",
       "      <th></th>\n",
       "      <th>state_code</th>\n",
       "    </tr>\n",
       "    <tr>\n",
       "      <th>category_code</th>\n",
       "      <th></th>\n",
       "    </tr>\n",
       "  </thead>\n",
       "  <tbody>\n",
       "    <tr>\n",
       "      <th>advertising</th>\n",
       "      <td>273</td>\n",
       "    </tr>\n",
       "    <tr>\n",
       "      <th>analytics</th>\n",
       "      <td>186</td>\n",
       "    </tr>\n",
       "    <tr>\n",
       "      <th>automotive</th>\n",
       "      <td>23</td>\n",
       "    </tr>\n",
       "    <tr>\n",
       "      <th>biotech</th>\n",
       "      <td>559</td>\n",
       "    </tr>\n",
       "    <tr>\n",
       "      <th>cleantech</th>\n",
       "      <td>174</td>\n",
       "    </tr>\n",
       "  </tbody>\n",
       "</table>\n",
       "</div>"
      ],
      "text/plain": [
       "               state_code\n",
       "category_code            \n",
       "advertising           273\n",
       "analytics             186\n",
       "automotive             23\n",
       "biotech               559\n",
       "cleantech             174"
      ]
     },
     "execution_count": 19,
     "metadata": {},
     "output_type": "execute_result"
    }
   ],
   "source": [
    "CA_category_count = state_category2.groupby(state_category2['category_code']).count()\n",
    "CA_category_count.head()"
   ]
  },
  {
   "cell_type": "markdown",
   "metadata": {},
   "source": [
    "### Insights - Company locate in California, USA most of them are 'software' comapnies, follow by 'biotech' and 'web' companies"
   ]
  },
  {
   "cell_type": "code",
   "execution_count": 20,
   "metadata": {},
   "outputs": [
    {
     "data": {
      "text/plain": [
       "(array([  0., 100., 200., 300., 400., 500., 600., 700., 800., 900.]),\n",
       " <a list of 10 Text xticklabel objects>)"
      ]
     },
     "execution_count": 20,
     "metadata": {},
     "output_type": "execute_result"
    },
    {
     "data": {
      "image/png": "[encoded data removed]",
      "text/plain": [
       "<Figure size 3456x1728 with 1 Axes>"
      ]
     },
     "metadata": {},
     "output_type": "display_data"
    }
   ],
   "source": [
    "plt.style.use('ggplot')\n",
    "CA_category_count.plot(kind='barh',figsize=(48, 24))\n",
    "plt.title(\"State's Total Fund\", fontsize = 12)\n",
    "plt.xlabel(\"States\", fontsize = 12)\n",
    "plt.ylabel(\"Total Funding ($)\", fontsize = 12)\n",
    "plt.yticks(fontsize = 24)\n",
    "plt.xticks(fontsize = 24)"
   ]
  },
  {
   "cell_type": "markdown",
   "metadata": {},
   "source": [
    "### Insights - Top 5 investors that invest in 'software' companies located in CA, USA are Benchmark, Accel\n",
    "### Partners, Sequoia Capital, Greylock Partners, Redpoint Ventures"
   ]
  },
  {
   "cell_type": "code",
   "execution_count": 21,
   "metadata": {},
   "outputs": [],
   "source": [
    "CA_company = df6.loc[df6[\"company_state_code\"] == 'CA']"
   ]
  },
  {
   "cell_type": "code",
   "execution_count": 22,
   "metadata": {},
   "outputs": [],
   "source": [
    "CA_software = CA_company.loc[CA_company[\"company_category_code\"] == 'software']"
   ]
  },
  {
   "cell_type": "code",
   "execution_count": 23,
   "metadata": {},
   "outputs": [],
   "source": [
    "CA_fundsoftware = CA_software[['investor_name','raised_amount_usd']].groupby(CA_software['investor_name']).sum()\n",
    "CA_fundsoftwaretop = CA_fundsoftware['raised_amount_usd'].sort_values(ascending = False)\n",
    "CA_fundsoftwaretop5 = CA_fundsoftwaretop.head(5)"
   ]
  },
  {
   "cell_type": "code",
   "execution_count": 24,
   "metadata": {},
   "outputs": [
    {
     "data": {
      "text/plain": [
       "(array([0.0e+00, 2.0e+08, 4.0e+08, 6.0e+08, 8.0e+08, 1.0e+09, 1.2e+09,\n",
       "        1.4e+09]), <a list of 8 Text yticklabel objects>)"
      ]
     },
     "execution_count": 24,
     "metadata": {},
     "output_type": "execute_result"
    },
    {
     "data": {
      "image/png": "[encoded data removed]",
      "text/plain": [
       "<Figure size 1728x864 with 1 Axes>"
      ]
     },
     "metadata": {},
     "output_type": "display_data"
    }
   ],
   "source": [
    "CA_fundsoftwaretop5.plot(kind='bar',figsize=(24, 12))\n",
    "plt.title(\"State's Total Fund\", fontsize = 12)\n",
    "plt.xlabel(\"States\", fontsize = 12)\n",
    "plt.ylabel(\"Total Funding ($)\", fontsize = 12)\n",
    "plt.xticks(fontsize = 24)\n",
    "plt.yticks(fontsize = 24)"
   ]
  },
  {
   "cell_type": "code",
   "execution_count": 25,
   "metadata": {},
   "outputs": [
    {
     "data": {
      "text/html": [
       "<div>\n",
       "<style scoped>\n",
       "    .dataframe tbody tr th:only-of-type {\n",
       "        vertical-align: middle;\n",
       "    }\n",
       "\n",
       "    .dataframe tbody tr th {\n",
       "        vertical-align: top;\n",
       "    }\n",
       "\n",
       "    .dataframe thead th {\n",
       "        text-align: right;\n",
       "    }\n",
       "</style>\n",
       "<table border=\"1\" class=\"dataframe\">\n",
       "  <thead>\n",
       "    <tr style=\"text-align: right;\">\n",
       "      <th></th>\n",
       "      <th>company_permalink</th>\n",
       "      <th>company_name</th>\n",
       "      <th>company_category_code</th>\n",
       "      <th>company_country_code</th>\n",
       "      <th>company_state_code</th>\n",
       "      <th>company_region</th>\n",
       "      <th>company_city</th>\n",
       "      <th>investor_permalink</th>\n",
       "      <th>investor_name</th>\n",
       "      <th>investor_category_code</th>\n",
       "      <th>...</th>\n",
       "      <th>investor_state_code</th>\n",
       "      <th>investor_region</th>\n",
       "      <th>investor_city</th>\n",
       "      <th>funding_round_type</th>\n",
       "      <th>funded_at</th>\n",
       "      <th>funded_month</th>\n",
       "      <th>funded_quarter</th>\n",
       "      <th>funded_year</th>\n",
       "      <th>raised_amount_usd</th>\n",
       "      <th>id</th>\n",
       "    </tr>\n",
       "  </thead>\n",
       "  <tbody>\n",
       "    <tr>\n",
       "      <th>0</th>\n",
       "      <td>/company/tokita-investments</td>\n",
       "      <td>Tokita Investments</td>\n",
       "      <td>consulting</td>\n",
       "      <td>JPN</td>\n",
       "      <td>None</td>\n",
       "      <td>TBD</td>\n",
       "      <td>Okinawa Ken</td>\n",
       "      <td>/company/01startups</td>\n",
       "      <td>01Startups</td>\n",
       "      <td>None</td>\n",
       "      <td>...</td>\n",
       "      <td>None</td>\n",
       "      <td>unknown</td>\n",
       "      <td>None</td>\n",
       "      <td>angel</td>\n",
       "      <td>9/26/13</td>\n",
       "      <td>2013-09</td>\n",
       "      <td>2013-Q3</td>\n",
       "      <td>2013.0000</td>\n",
       "      <td>5000.0000</td>\n",
       "      <td>1</td>\n",
       "    </tr>\n",
       "    <tr>\n",
       "      <th>1</th>\n",
       "      <td>/company/advercar</td>\n",
       "      <td>AdverCar</td>\n",
       "      <td>advertising</td>\n",
       "      <td>USA</td>\n",
       "      <td>CA</td>\n",
       "      <td>SF Bay</td>\n",
       "      <td>San Francisco</td>\n",
       "      <td>/company/1-800-flowers-com</td>\n",
       "      <td>1-800-FLOWERS.COM</td>\n",
       "      <td>ecommerce</td>\n",
       "      <td>...</td>\n",
       "      <td>NY</td>\n",
       "      <td>New York</td>\n",
       "      <td>New York</td>\n",
       "      <td>series-a</td>\n",
       "      <td>10/30/12</td>\n",
       "      <td>2012-10</td>\n",
       "      <td>2012-Q4</td>\n",
       "      <td>2012.0000</td>\n",
       "      <td>2000000.0000</td>\n",
       "      <td>2</td>\n",
       "    </tr>\n",
       "    <tr>\n",
       "      <th>2</th>\n",
       "      <td>/company/launchgram</td>\n",
       "      <td>LaunchGram</td>\n",
       "      <td>news</td>\n",
       "      <td>USA</td>\n",
       "      <td>CA</td>\n",
       "      <td>SF Bay</td>\n",
       "      <td>Mountain View</td>\n",
       "      <td>/company/10xelerator</td>\n",
       "      <td>10Xelerator</td>\n",
       "      <td>finance</td>\n",
       "      <td>...</td>\n",
       "      <td>OH</td>\n",
       "      <td>Columbus</td>\n",
       "      <td>Columbus</td>\n",
       "      <td>other</td>\n",
       "      <td>1/23/12</td>\n",
       "      <td>2012-01</td>\n",
       "      <td>2012-Q1</td>\n",
       "      <td>2012.0000</td>\n",
       "      <td>20000.0000</td>\n",
       "      <td>3</td>\n",
       "    </tr>\n",
       "    <tr>\n",
       "      <th>3</th>\n",
       "      <td>/company/utap</td>\n",
       "      <td>uTaP</td>\n",
       "      <td>messaging</td>\n",
       "      <td>USA</td>\n",
       "      <td>None</td>\n",
       "      <td>United States - Other</td>\n",
       "      <td>None</td>\n",
       "      <td>/company/10xelerator</td>\n",
       "      <td>10Xelerator</td>\n",
       "      <td>finance</td>\n",
       "      <td>...</td>\n",
       "      <td>OH</td>\n",
       "      <td>Columbus</td>\n",
       "      <td>Columbus</td>\n",
       "      <td>other</td>\n",
       "      <td>1/1/12</td>\n",
       "      <td>2012-01</td>\n",
       "      <td>2012-Q1</td>\n",
       "      <td>2012.0000</td>\n",
       "      <td>20000.0000</td>\n",
       "      <td>4</td>\n",
       "    </tr>\n",
       "    <tr>\n",
       "      <th>4</th>\n",
       "      <td>/company/zoopshop</td>\n",
       "      <td>ZoopShop</td>\n",
       "      <td>software</td>\n",
       "      <td>USA</td>\n",
       "      <td>OH</td>\n",
       "      <td>Columbus</td>\n",
       "      <td>columbus</td>\n",
       "      <td>/company/10xelerator</td>\n",
       "      <td>10Xelerator</td>\n",
       "      <td>finance</td>\n",
       "      <td>...</td>\n",
       "      <td>OH</td>\n",
       "      <td>Columbus</td>\n",
       "      <td>Columbus</td>\n",
       "      <td>angel</td>\n",
       "      <td>2/15/12</td>\n",
       "      <td>2012-02</td>\n",
       "      <td>2012-Q1</td>\n",
       "      <td>2012.0000</td>\n",
       "      <td>20000.0000</td>\n",
       "      <td>5</td>\n",
       "    </tr>\n",
       "  </tbody>\n",
       "</table>\n",
       "<p>5 rows × 21 columns</p>\n",
       "</div>"
      ],
      "text/plain": [
       "             company_permalink        company_name company_category_code  \\\n",
       "0  /company/tokita-investments  Tokita Investments            consulting   \n",
       "1            /company/advercar            AdverCar           advertising   \n",
       "2          /company/launchgram          LaunchGram                  news   \n",
       "3                /company/utap                uTaP             messaging   \n",
       "4            /company/zoopshop            ZoopShop              software   \n",
       "\n",
       "  company_country_code company_state_code         company_region  \\\n",
       "0                  JPN               None                    TBD   \n",
       "1                  USA                 CA                 SF Bay   \n",
       "2                  USA                 CA                 SF Bay   \n",
       "3                  USA               None  United States - Other   \n",
       "4                  USA                 OH               Columbus   \n",
       "\n",
       "    company_city          investor_permalink      investor_name  \\\n",
       "0    Okinawa Ken         /company/01startups         01Startups   \n",
       "1  San Francisco  /company/1-800-flowers-com  1-800-FLOWERS.COM   \n",
       "2  Mountain View        /company/10xelerator        10Xelerator   \n",
       "3           None        /company/10xelerator        10Xelerator   \n",
       "4       columbus        /company/10xelerator        10Xelerator   \n",
       "\n",
       "  investor_category_code  ... investor_state_code investor_region  \\\n",
       "0                   None  ...                None         unknown   \n",
       "1              ecommerce  ...                  NY        New York   \n",
       "2                finance  ...                  OH        Columbus   \n",
       "3                finance  ...                  OH        Columbus   \n",
       "4                finance  ...                  OH        Columbus   \n",
       "\n",
       "  investor_city funding_round_type funded_at funded_month funded_quarter  \\\n",
       "0          None              angel   9/26/13      2013-09        2013-Q3   \n",
       "1      New York           series-a  10/30/12      2012-10        2012-Q4   \n",
       "2      Columbus              other   1/23/12      2012-01        2012-Q1   \n",
       "3      Columbus              other    1/1/12      2012-01        2012-Q1   \n",
       "4      Columbus              angel   2/15/12      2012-02        2012-Q1   \n",
       "\n",
       "  funded_year  raised_amount_usd  id  \n",
       "0   2013.0000          5000.0000   1  \n",
       "1   2012.0000       2000000.0000   2  \n",
       "2   2012.0000         20000.0000   3  \n",
       "3   2012.0000         20000.0000   4  \n",
       "4   2012.0000         20000.0000   5  \n",
       "\n",
       "[5 rows x 21 columns]"
      ]
     },
     "execution_count": 25,
     "metadata": {},
     "output_type": "execute_result"
    }
   ],
   "source": [
    "df6.head()"
   ]
  },
  {
   "cell_type": "code",
   "execution_count": 26,
   "metadata": {},
   "outputs": [
    {
     "data": {
      "text/html": [
       "<div>\n",
       "<style scoped>\n",
       "    .dataframe tbody tr th:only-of-type {\n",
       "        vertical-align: middle;\n",
       "    }\n",
       "\n",
       "    .dataframe tbody tr th {\n",
       "        vertical-align: top;\n",
       "    }\n",
       "\n",
       "    .dataframe thead th {\n",
       "        text-align: right;\n",
       "    }\n",
       "</style>\n",
       "<table border=\"1\" class=\"dataframe\">\n",
       "  <thead>\n",
       "    <tr style=\"text-align: right;\">\n",
       "      <th></th>\n",
       "      <th>company_permalink</th>\n",
       "      <th>company_name</th>\n",
       "      <th>company_category_code</th>\n",
       "      <th>company_country_code</th>\n",
       "      <th>company_state_code</th>\n",
       "      <th>company_region</th>\n",
       "      <th>company_city</th>\n",
       "      <th>investor_permalink</th>\n",
       "      <th>investor_name</th>\n",
       "      <th>investor_category_code</th>\n",
       "      <th>...</th>\n",
       "      <th>investor_state_code</th>\n",
       "      <th>investor_region</th>\n",
       "      <th>investor_city</th>\n",
       "      <th>funding_round_type</th>\n",
       "      <th>funded_at</th>\n",
       "      <th>funded_month</th>\n",
       "      <th>funded_quarter</th>\n",
       "      <th>funded_year</th>\n",
       "      <th>raised_amount_usd</th>\n",
       "      <th>id</th>\n",
       "    </tr>\n",
       "  </thead>\n",
       "  <tbody>\n",
       "    <tr>\n",
       "      <th>1</th>\n",
       "      <td>/company/advercar</td>\n",
       "      <td>AdverCar</td>\n",
       "      <td>advertising</td>\n",
       "      <td>USA</td>\n",
       "      <td>CA</td>\n",
       "      <td>SF Bay</td>\n",
       "      <td>San Francisco</td>\n",
       "      <td>/company/1-800-flowers-com</td>\n",
       "      <td>1-800-FLOWERS.COM</td>\n",
       "      <td>ecommerce</td>\n",
       "      <td>...</td>\n",
       "      <td>NY</td>\n",
       "      <td>New York</td>\n",
       "      <td>New York</td>\n",
       "      <td>series-a</td>\n",
       "      <td>10/30/12</td>\n",
       "      <td>2012-10</td>\n",
       "      <td>2012-Q4</td>\n",
       "      <td>2012.0000</td>\n",
       "      <td>2000000.0000</td>\n",
       "      <td>2</td>\n",
       "    </tr>\n",
       "    <tr>\n",
       "      <th>2</th>\n",
       "      <td>/company/launchgram</td>\n",
       "      <td>LaunchGram</td>\n",
       "      <td>news</td>\n",
       "      <td>USA</td>\n",
       "      <td>CA</td>\n",
       "      <td>SF Bay</td>\n",
       "      <td>Mountain View</td>\n",
       "      <td>/company/10xelerator</td>\n",
       "      <td>10Xelerator</td>\n",
       "      <td>finance</td>\n",
       "      <td>...</td>\n",
       "      <td>OH</td>\n",
       "      <td>Columbus</td>\n",
       "      <td>Columbus</td>\n",
       "      <td>other</td>\n",
       "      <td>1/23/12</td>\n",
       "      <td>2012-01</td>\n",
       "      <td>2012-Q1</td>\n",
       "      <td>2012.0000</td>\n",
       "      <td>20000.0000</td>\n",
       "      <td>3</td>\n",
       "    </tr>\n",
       "    <tr>\n",
       "      <th>30</th>\n",
       "      <td>/company/lovely</td>\n",
       "      <td>Lovely</td>\n",
       "      <td>real_estate</td>\n",
       "      <td>USA</td>\n",
       "      <td>CA</td>\n",
       "      <td>SF Bay</td>\n",
       "      <td>San Francisco</td>\n",
       "      <td>/company/3taps</td>\n",
       "      <td>3taps</td>\n",
       "      <td>web</td>\n",
       "      <td>...</td>\n",
       "      <td>CA</td>\n",
       "      <td>SF Bay</td>\n",
       "      <td>San Francisco</td>\n",
       "      <td>series-a</td>\n",
       "      <td>10/1/12</td>\n",
       "      <td>2012-10</td>\n",
       "      <td>2012-Q4</td>\n",
       "      <td>2012.0000</td>\n",
       "      <td>2000000.0000</td>\n",
       "      <td>31</td>\n",
       "    </tr>\n",
       "    <tr>\n",
       "      <th>43</th>\n",
       "      <td>/company/fisker</td>\n",
       "      <td>Fisker Automotive</td>\n",
       "      <td>automotive</td>\n",
       "      <td>USA</td>\n",
       "      <td>CA</td>\n",
       "      <td>Los Angeles</td>\n",
       "      <td>Irvine</td>\n",
       "      <td>/company/a123systems</td>\n",
       "      <td>A123 Systems</td>\n",
       "      <td>nanotech</td>\n",
       "      <td>...</td>\n",
       "      <td>MA</td>\n",
       "      <td>Boston</td>\n",
       "      <td>Watertown</td>\n",
       "      <td>private-equity</td>\n",
       "      <td>5/1/10</td>\n",
       "      <td>2010-05</td>\n",
       "      <td>2010-Q2</td>\n",
       "      <td>2010.0000</td>\n",
       "      <td>189000000.0000</td>\n",
       "      <td>44</td>\n",
       "    </tr>\n",
       "    <tr>\n",
       "      <th>44</th>\n",
       "      <td>/company/fisker</td>\n",
       "      <td>Fisker Automotive</td>\n",
       "      <td>automotive</td>\n",
       "      <td>USA</td>\n",
       "      <td>CA</td>\n",
       "      <td>Los Angeles</td>\n",
       "      <td>Irvine</td>\n",
       "      <td>/company/a123systems</td>\n",
       "      <td>A123 Systems</td>\n",
       "      <td>nanotech</td>\n",
       "      <td>...</td>\n",
       "      <td>MA</td>\n",
       "      <td>Boston</td>\n",
       "      <td>Watertown</td>\n",
       "      <td>private-equity</td>\n",
       "      <td>2/22/11</td>\n",
       "      <td>2011-02</td>\n",
       "      <td>2011-Q1</td>\n",
       "      <td>2011.0000</td>\n",
       "      <td>150000000.0000</td>\n",
       "      <td>45</td>\n",
       "    </tr>\n",
       "    <tr>\n",
       "      <th>...</th>\n",
       "      <td>...</td>\n",
       "      <td>...</td>\n",
       "      <td>...</td>\n",
       "      <td>...</td>\n",
       "      <td>...</td>\n",
       "      <td>...</td>\n",
       "      <td>...</td>\n",
       "      <td>...</td>\n",
       "      <td>...</td>\n",
       "      <td>...</td>\n",
       "      <td>...</td>\n",
       "      <td>...</td>\n",
       "      <td>...</td>\n",
       "      <td>...</td>\n",
       "      <td>...</td>\n",
       "      <td>...</td>\n",
       "      <td>...</td>\n",
       "      <td>...</td>\n",
       "      <td>...</td>\n",
       "      <td>...</td>\n",
       "      <td>...</td>\n",
       "    </tr>\n",
       "    <tr>\n",
       "      <th>6486</th>\n",
       "      <td>/company/opentable</td>\n",
       "      <td>OpenTable</td>\n",
       "      <td>hospitality</td>\n",
       "      <td>USA</td>\n",
       "      <td>CA</td>\n",
       "      <td>SF Bay</td>\n",
       "      <td>San Francisco</td>\n",
       "      <td>/company/zagat</td>\n",
       "      <td>Zagat</td>\n",
       "      <td>web</td>\n",
       "      <td>...</td>\n",
       "      <td>NY</td>\n",
       "      <td>New York</td>\n",
       "      <td>New York City</td>\n",
       "      <td>series-b</td>\n",
       "      <td>1/1/00</td>\n",
       "      <td>2000-01</td>\n",
       "      <td>2000-Q1</td>\n",
       "      <td>2000.0000</td>\n",
       "      <td>10000000.0000</td>\n",
       "      <td>6487</td>\n",
       "    </tr>\n",
       "    <tr>\n",
       "      <th>6488</th>\n",
       "      <td>/company/gainspan</td>\n",
       "      <td>GainSpan</td>\n",
       "      <td>semiconductor</td>\n",
       "      <td>USA</td>\n",
       "      <td>CA</td>\n",
       "      <td>SF Bay</td>\n",
       "      <td>San Jose</td>\n",
       "      <td>/company/zebra-technologies</td>\n",
       "      <td>Zebra Technologies</td>\n",
       "      <td>enterprise</td>\n",
       "      <td>...</td>\n",
       "      <td>IL</td>\n",
       "      <td>Chicago</td>\n",
       "      <td>Lincolnshire</td>\n",
       "      <td>series-c+</td>\n",
       "      <td>6/26/13</td>\n",
       "      <td>2013-06</td>\n",
       "      <td>2013-Q2</td>\n",
       "      <td>2013.0000</td>\n",
       "      <td>19000000.0000</td>\n",
       "      <td>6489</td>\n",
       "    </tr>\n",
       "    <tr>\n",
       "      <th>6503</th>\n",
       "      <td>/company/wheelz</td>\n",
       "      <td>Wheelz</td>\n",
       "      <td>automotive</td>\n",
       "      <td>USA</td>\n",
       "      <td>CA</td>\n",
       "      <td>SF Bay</td>\n",
       "      <td>San Francisco</td>\n",
       "      <td>/company/zipcar</td>\n",
       "      <td>Zipcar</td>\n",
       "      <td>transportation</td>\n",
       "      <td>...</td>\n",
       "      <td>GA</td>\n",
       "      <td>NW Atlanta</td>\n",
       "      <td>NW Atlanta</td>\n",
       "      <td>series-a</td>\n",
       "      <td>2/22/12</td>\n",
       "      <td>2012-02</td>\n",
       "      <td>2012-Q1</td>\n",
       "      <td>2012.0000</td>\n",
       "      <td>13700000.0000</td>\n",
       "      <td>6504</td>\n",
       "    </tr>\n",
       "    <tr>\n",
       "      <th>6507</th>\n",
       "      <td>/company/red-tricycle</td>\n",
       "      <td>Red Tricycle</td>\n",
       "      <td>web</td>\n",
       "      <td>USA</td>\n",
       "      <td>CA</td>\n",
       "      <td>SF Bay</td>\n",
       "      <td>Sausalito</td>\n",
       "      <td>/company/zulily</td>\n",
       "      <td>zulily</td>\n",
       "      <td>ecommerce</td>\n",
       "      <td>...</td>\n",
       "      <td>WA</td>\n",
       "      <td>Seattle</td>\n",
       "      <td>Seattle</td>\n",
       "      <td>series-a</td>\n",
       "      <td>11/30/12</td>\n",
       "      <td>2012-11</td>\n",
       "      <td>2012-Q4</td>\n",
       "      <td>2012.0000</td>\n",
       "      <td>1500000.0000</td>\n",
       "      <td>6508</td>\n",
       "    </tr>\n",
       "    <tr>\n",
       "      <th>6508</th>\n",
       "      <td>/company/red-tricycle</td>\n",
       "      <td>Red Tricycle</td>\n",
       "      <td>web</td>\n",
       "      <td>USA</td>\n",
       "      <td>CA</td>\n",
       "      <td>SF Bay</td>\n",
       "      <td>Sausalito</td>\n",
       "      <td>/company/zulily</td>\n",
       "      <td>zulily</td>\n",
       "      <td>ecommerce</td>\n",
       "      <td>...</td>\n",
       "      <td>WA</td>\n",
       "      <td>Seattle</td>\n",
       "      <td>Seattle</td>\n",
       "      <td>series-a</td>\n",
       "      <td>12/9/12</td>\n",
       "      <td>2012-12</td>\n",
       "      <td>2012-Q4</td>\n",
       "      <td>2012.0000</td>\n",
       "      <td>2300000.0000</td>\n",
       "      <td>6509</td>\n",
       "    </tr>\n",
       "  </tbody>\n",
       "</table>\n",
       "<p>843 rows × 21 columns</p>\n",
       "</div>"
      ],
      "text/plain": [
       "          company_permalink       company_name company_category_code  \\\n",
       "1         /company/advercar           AdverCar           advertising   \n",
       "2       /company/launchgram         LaunchGram                  news   \n",
       "30          /company/lovely             Lovely           real_estate   \n",
       "43          /company/fisker  Fisker Automotive            automotive   \n",
       "44          /company/fisker  Fisker Automotive            automotive   \n",
       "...                     ...                ...                   ...   \n",
       "6486     /company/opentable          OpenTable           hospitality   \n",
       "6488      /company/gainspan           GainSpan         semiconductor   \n",
       "6503        /company/wheelz             Wheelz            automotive   \n",
       "6507  /company/red-tricycle       Red Tricycle                   web   \n",
       "6508  /company/red-tricycle       Red Tricycle                   web   \n",
       "\n",
       "     company_country_code company_state_code company_region   company_city  \\\n",
       "1                     USA                 CA         SF Bay  San Francisco   \n",
       "2                     USA                 CA         SF Bay  Mountain View   \n",
       "30                    USA                 CA         SF Bay  San Francisco   \n",
       "43                    USA                 CA    Los Angeles         Irvine   \n",
       "44                    USA                 CA    Los Angeles         Irvine   \n",
       "...                   ...                ...            ...            ...   \n",
       "6486                  USA                 CA         SF Bay  San Francisco   \n",
       "6488                  USA                 CA         SF Bay       San Jose   \n",
       "6503                  USA                 CA         SF Bay  San Francisco   \n",
       "6507                  USA                 CA         SF Bay      Sausalito   \n",
       "6508                  USA                 CA         SF Bay      Sausalito   \n",
       "\n",
       "               investor_permalink       investor_name investor_category_code  \\\n",
       "1      /company/1-800-flowers-com   1-800-FLOWERS.COM              ecommerce   \n",
       "2            /company/10xelerator         10Xelerator                finance   \n",
       "30                 /company/3taps               3taps                    web   \n",
       "43           /company/a123systems        A123 Systems               nanotech   \n",
       "44           /company/a123systems        A123 Systems               nanotech   \n",
       "...                           ...                 ...                    ...   \n",
       "6486               /company/zagat               Zagat                    web   \n",
       "6488  /company/zebra-technologies  Zebra Technologies             enterprise   \n",
       "6503              /company/zipcar              Zipcar         transportation   \n",
       "6507              /company/zulily              zulily              ecommerce   \n",
       "6508              /company/zulily              zulily              ecommerce   \n",
       "\n",
       "      ... investor_state_code investor_region  investor_city  \\\n",
       "1     ...                  NY        New York       New York   \n",
       "2     ...                  OH        Columbus       Columbus   \n",
       "30    ...                  CA          SF Bay  San Francisco   \n",
       "43    ...                  MA          Boston      Watertown   \n",
       "44    ...                  MA          Boston      Watertown   \n",
       "...   ...                 ...             ...            ...   \n",
       "6486  ...                  NY        New York  New York City   \n",
       "6488  ...                  IL         Chicago   Lincolnshire   \n",
       "6503  ...                  GA      NW Atlanta     NW Atlanta   \n",
       "6507  ...                  WA         Seattle        Seattle   \n",
       "6508  ...                  WA         Seattle        Seattle   \n",
       "\n",
       "     funding_round_type funded_at funded_month funded_quarter funded_year  \\\n",
       "1              series-a  10/30/12      2012-10        2012-Q4   2012.0000   \n",
       "2                 other   1/23/12      2012-01        2012-Q1   2012.0000   \n",
       "30             series-a   10/1/12      2012-10        2012-Q4   2012.0000   \n",
       "43       private-equity    5/1/10      2010-05        2010-Q2   2010.0000   \n",
       "44       private-equity   2/22/11      2011-02        2011-Q1   2011.0000   \n",
       "...                 ...       ...          ...            ...         ...   \n",
       "6486           series-b    1/1/00      2000-01        2000-Q1   2000.0000   \n",
       "6488          series-c+   6/26/13      2013-06        2013-Q2   2013.0000   \n",
       "6503           series-a   2/22/12      2012-02        2012-Q1   2012.0000   \n",
       "6507           series-a  11/30/12      2012-11        2012-Q4   2012.0000   \n",
       "6508           series-a   12/9/12      2012-12        2012-Q4   2012.0000   \n",
       "\n",
       "      raised_amount_usd    id  \n",
       "1          2000000.0000     2  \n",
       "2            20000.0000     3  \n",
       "30         2000000.0000    31  \n",
       "43       189000000.0000    44  \n",
       "44       150000000.0000    45  \n",
       "...                 ...   ...  \n",
       "6486      10000000.0000  6487  \n",
       "6488      19000000.0000  6489  \n",
       "6503      13700000.0000  6504  \n",
       "6507       1500000.0000  6508  \n",
       "6508       2300000.0000  6509  \n",
       "\n",
       "[843 rows x 21 columns]"
      ]
     },
     "execution_count": 26,
     "metadata": {},
     "output_type": "execute_result"
    }
   ],
   "source": [
    "CA = df6[df6['company_state_code'] == 'CA'].dropna()\n",
    "CA"
   ]
  },
  {
   "cell_type": "code",
   "execution_count": 27,
   "metadata": {},
   "outputs": [
    {
     "data": {
      "text/html": [
       "<div>\n",
       "<style scoped>\n",
       "    .dataframe tbody tr th:only-of-type {\n",
       "        vertical-align: middle;\n",
       "    }\n",
       "\n",
       "    .dataframe tbody tr th {\n",
       "        vertical-align: top;\n",
       "    }\n",
       "\n",
       "    .dataframe thead th {\n",
       "        text-align: right;\n",
       "    }\n",
       "</style>\n",
       "<table border=\"1\" class=\"dataframe\">\n",
       "  <thead>\n",
       "    <tr style=\"text-align: right;\">\n",
       "      <th></th>\n",
       "      <th>company_permalink</th>\n",
       "      <th>company_name</th>\n",
       "      <th>company_category_code</th>\n",
       "      <th>company_country_code</th>\n",
       "      <th>company_state_code</th>\n",
       "      <th>company_region</th>\n",
       "      <th>company_city</th>\n",
       "      <th>investor_permalink</th>\n",
       "      <th>investor_name</th>\n",
       "      <th>investor_category_code</th>\n",
       "      <th>...</th>\n",
       "      <th>investor_state_code</th>\n",
       "      <th>investor_region</th>\n",
       "      <th>investor_city</th>\n",
       "      <th>funding_round_type</th>\n",
       "      <th>funded_at</th>\n",
       "      <th>funded_month</th>\n",
       "      <th>funded_quarter</th>\n",
       "      <th>funded_year</th>\n",
       "      <th>raised_amount_usd</th>\n",
       "      <th>id</th>\n",
       "    </tr>\n",
       "  </thead>\n",
       "  <tbody>\n",
       "    <tr>\n",
       "      <th>1</th>\n",
       "      <td>/company/advercar</td>\n",
       "      <td>AdverCar</td>\n",
       "      <td>advertising</td>\n",
       "      <td>USA</td>\n",
       "      <td>CA</td>\n",
       "      <td>SF Bay</td>\n",
       "      <td>San Francisco</td>\n",
       "      <td>/company/1-800-flowers-com</td>\n",
       "      <td>1-800-FLOWERS.COM</td>\n",
       "      <td>ecommerce</td>\n",
       "      <td>...</td>\n",
       "      <td>NY</td>\n",
       "      <td>New York</td>\n",
       "      <td>New York</td>\n",
       "      <td>series-a</td>\n",
       "      <td>2012-10-30</td>\n",
       "      <td>2012-10</td>\n",
       "      <td>2012-Q4</td>\n",
       "      <td>2012.0000</td>\n",
       "      <td>2000000.0000</td>\n",
       "      <td>2</td>\n",
       "    </tr>\n",
       "    <tr>\n",
       "      <th>2</th>\n",
       "      <td>/company/launchgram</td>\n",
       "      <td>LaunchGram</td>\n",
       "      <td>news</td>\n",
       "      <td>USA</td>\n",
       "      <td>CA</td>\n",
       "      <td>SF Bay</td>\n",
       "      <td>Mountain View</td>\n",
       "      <td>/company/10xelerator</td>\n",
       "      <td>10Xelerator</td>\n",
       "      <td>finance</td>\n",
       "      <td>...</td>\n",
       "      <td>OH</td>\n",
       "      <td>Columbus</td>\n",
       "      <td>Columbus</td>\n",
       "      <td>other</td>\n",
       "      <td>2012-01-23</td>\n",
       "      <td>2012-01</td>\n",
       "      <td>2012-Q1</td>\n",
       "      <td>2012.0000</td>\n",
       "      <td>20000.0000</td>\n",
       "      <td>3</td>\n",
       "    </tr>\n",
       "    <tr>\n",
       "      <th>30</th>\n",
       "      <td>/company/lovely</td>\n",
       "      <td>Lovely</td>\n",
       "      <td>real_estate</td>\n",
       "      <td>USA</td>\n",
       "      <td>CA</td>\n",
       "      <td>SF Bay</td>\n",
       "      <td>San Francisco</td>\n",
       "      <td>/company/3taps</td>\n",
       "      <td>3taps</td>\n",
       "      <td>web</td>\n",
       "      <td>...</td>\n",
       "      <td>CA</td>\n",
       "      <td>SF Bay</td>\n",
       "      <td>San Francisco</td>\n",
       "      <td>series-a</td>\n",
       "      <td>2012-10-01</td>\n",
       "      <td>2012-10</td>\n",
       "      <td>2012-Q4</td>\n",
       "      <td>2012.0000</td>\n",
       "      <td>2000000.0000</td>\n",
       "      <td>31</td>\n",
       "    </tr>\n",
       "    <tr>\n",
       "      <th>43</th>\n",
       "      <td>/company/fisker</td>\n",
       "      <td>Fisker Automotive</td>\n",
       "      <td>automotive</td>\n",
       "      <td>USA</td>\n",
       "      <td>CA</td>\n",
       "      <td>Los Angeles</td>\n",
       "      <td>Irvine</td>\n",
       "      <td>/company/a123systems</td>\n",
       "      <td>A123 Systems</td>\n",
       "      <td>nanotech</td>\n",
       "      <td>...</td>\n",
       "      <td>MA</td>\n",
       "      <td>Boston</td>\n",
       "      <td>Watertown</td>\n",
       "      <td>private-equity</td>\n",
       "      <td>2010-05-01</td>\n",
       "      <td>2010-05</td>\n",
       "      <td>2010-Q2</td>\n",
       "      <td>2010.0000</td>\n",
       "      <td>189000000.0000</td>\n",
       "      <td>44</td>\n",
       "    </tr>\n",
       "    <tr>\n",
       "      <th>44</th>\n",
       "      <td>/company/fisker</td>\n",
       "      <td>Fisker Automotive</td>\n",
       "      <td>automotive</td>\n",
       "      <td>USA</td>\n",
       "      <td>CA</td>\n",
       "      <td>Los Angeles</td>\n",
       "      <td>Irvine</td>\n",
       "      <td>/company/a123systems</td>\n",
       "      <td>A123 Systems</td>\n",
       "      <td>nanotech</td>\n",
       "      <td>...</td>\n",
       "      <td>MA</td>\n",
       "      <td>Boston</td>\n",
       "      <td>Watertown</td>\n",
       "      <td>private-equity</td>\n",
       "      <td>2011-02-22</td>\n",
       "      <td>2011-02</td>\n",
       "      <td>2011-Q1</td>\n",
       "      <td>2011.0000</td>\n",
       "      <td>150000000.0000</td>\n",
       "      <td>45</td>\n",
       "    </tr>\n",
       "  </tbody>\n",
       "</table>\n",
       "<p>5 rows × 21 columns</p>\n",
       "</div>"
      ],
      "text/plain": [
       "      company_permalink       company_name company_category_code  \\\n",
       "1     /company/advercar           AdverCar           advertising   \n",
       "2   /company/launchgram         LaunchGram                  news   \n",
       "30      /company/lovely             Lovely           real_estate   \n",
       "43      /company/fisker  Fisker Automotive            automotive   \n",
       "44      /company/fisker  Fisker Automotive            automotive   \n",
       "\n",
       "   company_country_code company_state_code company_region   company_city  \\\n",
       "1                   USA                 CA         SF Bay  San Francisco   \n",
       "2                   USA                 CA         SF Bay  Mountain View   \n",
       "30                  USA                 CA         SF Bay  San Francisco   \n",
       "43                  USA                 CA    Los Angeles         Irvine   \n",
       "44                  USA                 CA    Los Angeles         Irvine   \n",
       "\n",
       "            investor_permalink      investor_name investor_category_code  ...  \\\n",
       "1   /company/1-800-flowers-com  1-800-FLOWERS.COM              ecommerce  ...   \n",
       "2         /company/10xelerator        10Xelerator                finance  ...   \n",
       "30              /company/3taps              3taps                    web  ...   \n",
       "43        /company/a123systems       A123 Systems               nanotech  ...   \n",
       "44        /company/a123systems       A123 Systems               nanotech  ...   \n",
       "\n",
       "   investor_state_code investor_region  investor_city funding_round_type  \\\n",
       "1                   NY        New York       New York           series-a   \n",
       "2                   OH        Columbus       Columbus              other   \n",
       "30                  CA          SF Bay  San Francisco           series-a   \n",
       "43                  MA          Boston      Watertown     private-equity   \n",
       "44                  MA          Boston      Watertown     private-equity   \n",
       "\n",
       "    funded_at funded_month funded_quarter funded_year  raised_amount_usd  id  \n",
       "1  2012-10-30      2012-10        2012-Q4   2012.0000       2000000.0000   2  \n",
       "2  2012-01-23      2012-01        2012-Q1   2012.0000         20000.0000   3  \n",
       "30 2012-10-01      2012-10        2012-Q4   2012.0000       2000000.0000  31  \n",
       "43 2010-05-01      2010-05        2010-Q2   2010.0000     189000000.0000  44  \n",
       "44 2011-02-22      2011-02        2011-Q1   2011.0000     150000000.0000  45  \n",
       "\n",
       "[5 rows x 21 columns]"
      ]
     },
     "execution_count": 27,
     "metadata": {},
     "output_type": "execute_result"
    }
   ],
   "source": [
    "CA['funded_at'] = pd.to_datetime(CA['funded_at'])\n",
    "# CA.groupby(CA['funded_month']).count()\n",
    "CA.head()"
   ]
  },
  {
   "cell_type": "code",
   "execution_count": 28,
   "metadata": {},
   "outputs": [],
   "source": [
    "CA_company = CA[['investor_name','funded_month']]"
   ]
  },
  {
   "cell_type": "code",
   "execution_count": 29,
   "metadata": {},
   "outputs": [
    {
     "data": {
      "text/html": [
       "<div>\n",
       "<style scoped>\n",
       "    .dataframe tbody tr th:only-of-type {\n",
       "        vertical-align: middle;\n",
       "    }\n",
       "\n",
       "    .dataframe tbody tr th {\n",
       "        vertical-align: top;\n",
       "    }\n",
       "\n",
       "    .dataframe thead th {\n",
       "        text-align: right;\n",
       "    }\n",
       "</style>\n",
       "<table border=\"1\" class=\"dataframe\">\n",
       "  <thead>\n",
       "    <tr style=\"text-align: right;\">\n",
       "      <th></th>\n",
       "      <th>investor_name</th>\n",
       "      <th>funded_month</th>\n",
       "    </tr>\n",
       "  </thead>\n",
       "  <tbody>\n",
       "    <tr>\n",
       "      <th>1</th>\n",
       "      <td>1-800-FLOWERS.COM</td>\n",
       "      <td>2012-10</td>\n",
       "    </tr>\n",
       "    <tr>\n",
       "      <th>2</th>\n",
       "      <td>10Xelerator</td>\n",
       "      <td>2012-01</td>\n",
       "    </tr>\n",
       "    <tr>\n",
       "      <th>30</th>\n",
       "      <td>3taps</td>\n",
       "      <td>2012-10</td>\n",
       "    </tr>\n",
       "    <tr>\n",
       "      <th>43</th>\n",
       "      <td>A123 Systems</td>\n",
       "      <td>2010-05</td>\n",
       "    </tr>\n",
       "    <tr>\n",
       "      <th>44</th>\n",
       "      <td>A123 Systems</td>\n",
       "      <td>2011-02</td>\n",
       "    </tr>\n",
       "  </tbody>\n",
       "</table>\n",
       "</div>"
      ],
      "text/plain": [
       "        investor_name funded_month\n",
       "1   1-800-FLOWERS.COM      2012-10\n",
       "2         10Xelerator      2012-01\n",
       "30              3taps      2012-10\n",
       "43       A123 Systems      2010-05\n",
       "44       A123 Systems      2011-02"
      ]
     },
     "execution_count": 29,
     "metadata": {},
     "output_type": "execute_result"
    }
   ],
   "source": [
    "CA_company.head()"
   ]
  },
  {
   "cell_type": "code",
   "execution_count": 51,
   "metadata": {},
   "outputs": [
    {
     "data": {
      "text/plain": [
       "['10',\n",
       " '01',\n",
       " '10',\n",
       " '05',\n",
       " '02',\n",
       " '11',\n",
       " '01',\n",
       " '05',\n",
       " '10',\n",
       " '07',\n",
       " '07',\n",
       " '05',\n",
       " '12',\n",
       " '09',\n",
       " '06',\n",
       " '08',\n",
       " '03',\n",
       " '05',\n",
       " '03',\n",
       " '01',\n",
       " '04',\n",
       " '06',\n",
       " '10',\n",
       " '09',\n",
       " '11',\n",
       " '06',\n",
       " '05',\n",
       " '10',\n",
       " '12',\n",
       " '07',\n",
       " '12',\n",
       " '07',\n",
       " '08',\n",
       " '10',\n",
       " '09',\n",
       " '08',\n",
       " '11',\n",
       " '05',\n",
       " '07',\n",
       " '05',\n",
       " '11',\n",
       " '08',\n",
       " '05',\n",
       " '12',\n",
       " '12',\n",
       " '11',\n",
       " '05',\n",
       " '06',\n",
       " '05',\n",
       " '01',\n",
       " '07',\n",
       " '04',\n",
       " '11',\n",
       " '01',\n",
       " '01',\n",
       " '04',\n",
       " '08',\n",
       " '08',\n",
       " '06',\n",
       " '01',\n",
       " '08',\n",
       " '10',\n",
       " '06',\n",
       " '11',\n",
       " '02',\n",
       " '05',\n",
       " '09',\n",
       " '01',\n",
       " '02',\n",
       " '02',\n",
       " '12',\n",
       " '09',\n",
       " '02',\n",
       " '01',\n",
       " '04',\n",
       " '02',\n",
       " '03',\n",
       " '12',\n",
       " '05',\n",
       " '07',\n",
       " '10',\n",
       " '04',\n",
       " '04',\n",
       " '06',\n",
       " '07',\n",
       " '11',\n",
       " '02',\n",
       " '07',\n",
       " '01',\n",
       " '04',\n",
       " '05',\n",
       " '06',\n",
       " '03',\n",
       " '10',\n",
       " '12',\n",
       " '01',\n",
       " '09',\n",
       " '12',\n",
       " '07',\n",
       " '10',\n",
       " '11',\n",
       " '01',\n",
       " '08',\n",
       " '10',\n",
       " '09',\n",
       " '03',\n",
       " '11',\n",
       " '11',\n",
       " '06',\n",
       " '01',\n",
       " '11',\n",
       " '09',\n",
       " '12',\n",
       " '10',\n",
       " '02',\n",
       " '06',\n",
       " '10',\n",
       " '12',\n",
       " '12',\n",
       " '06',\n",
       " '08',\n",
       " '04',\n",
       " '07',\n",
       " '06',\n",
       " '10',\n",
       " '01',\n",
       " '04',\n",
       " '01',\n",
       " '07',\n",
       " '08',\n",
       " '04',\n",
       " '01',\n",
       " '06',\n",
       " '07',\n",
       " '06',\n",
       " '02',\n",
       " '03',\n",
       " '06',\n",
       " '01',\n",
       " '07',\n",
       " '07',\n",
       " '02',\n",
       " '02',\n",
       " '05',\n",
       " '04',\n",
       " '04',\n",
       " '06',\n",
       " '06',\n",
       " '06',\n",
       " '08',\n",
       " '02',\n",
       " '10',\n",
       " '11',\n",
       " '01',\n",
       " '05',\n",
       " '06',\n",
       " '09',\n",
       " '11',\n",
       " '07',\n",
       " '02',\n",
       " '02',\n",
       " '02',\n",
       " '05',\n",
       " '08',\n",
       " '09',\n",
       " '09',\n",
       " '10',\n",
       " '06',\n",
       " '06',\n",
       " '10',\n",
       " '11',\n",
       " '02',\n",
       " '03',\n",
       " '11',\n",
       " '11',\n",
       " '10',\n",
       " '06',\n",
       " '10',\n",
       " '06',\n",
       " '12',\n",
       " '01',\n",
       " '07',\n",
       " '07',\n",
       " '07',\n",
       " '10',\n",
       " '02',\n",
       " '05',\n",
       " '06',\n",
       " '09',\n",
       " '01',\n",
       " '01',\n",
       " '02',\n",
       " '08',\n",
       " '06',\n",
       " '10',\n",
       " '06',\n",
       " '11',\n",
       " '08',\n",
       " '03',\n",
       " '10',\n",
       " '11',\n",
       " '03',\n",
       " '07',\n",
       " '03',\n",
       " '10',\n",
       " '12',\n",
       " '08',\n",
       " '06',\n",
       " '12',\n",
       " '08',\n",
       " '06',\n",
       " '06',\n",
       " '09',\n",
       " '08',\n",
       " '09',\n",
       " '08',\n",
       " '01',\n",
       " '08',\n",
       " '11',\n",
       " '11',\n",
       " '10',\n",
       " '08',\n",
       " '02',\n",
       " '03',\n",
       " '10',\n",
       " '03',\n",
       " '12',\n",
       " '10',\n",
       " '03',\n",
       " '04',\n",
       " '02',\n",
       " '09',\n",
       " '07',\n",
       " '06',\n",
       " '05',\n",
       " '05',\n",
       " '12',\n",
       " '06',\n",
       " '07',\n",
       " '08',\n",
       " '09',\n",
       " '10',\n",
       " '11',\n",
       " '06',\n",
       " '03',\n",
       " '01',\n",
       " '09',\n",
       " '10',\n",
       " '05',\n",
       " '09',\n",
       " '07',\n",
       " '04',\n",
       " '07',\n",
       " '06',\n",
       " '04',\n",
       " '06',\n",
       " '12',\n",
       " '01',\n",
       " '05',\n",
       " '02',\n",
       " '05',\n",
       " '06',\n",
       " '11',\n",
       " '08',\n",
       " '09',\n",
       " '07',\n",
       " '06',\n",
       " '01',\n",
       " '04',\n",
       " '06',\n",
       " '05',\n",
       " '01',\n",
       " '01',\n",
       " '05',\n",
       " '05',\n",
       " '06',\n",
       " '02',\n",
       " '09',\n",
       " '03',\n",
       " '03',\n",
       " '12',\n",
       " '02',\n",
       " '08',\n",
       " '08',\n",
       " '10',\n",
       " '02',\n",
       " '09',\n",
       " '08',\n",
       " '09',\n",
       " '02',\n",
       " '01',\n",
       " '03',\n",
       " '06',\n",
       " '11',\n",
       " '04',\n",
       " '07',\n",
       " '07',\n",
       " '07',\n",
       " '10',\n",
       " '05',\n",
       " '03',\n",
       " '10',\n",
       " '12',\n",
       " '02',\n",
       " '03',\n",
       " '07',\n",
       " '02',\n",
       " '07',\n",
       " '10',\n",
       " '09',\n",
       " '05',\n",
       " '10',\n",
       " '09',\n",
       " '03',\n",
       " '06',\n",
       " '01',\n",
       " '02',\n",
       " '11',\n",
       " '05',\n",
       " '09',\n",
       " '02',\n",
       " '03',\n",
       " '08',\n",
       " '05',\n",
       " '12',\n",
       " '02',\n",
       " '06',\n",
       " '03',\n",
       " '08',\n",
       " '01',\n",
       " '05',\n",
       " '05',\n",
       " '01',\n",
       " '09',\n",
       " '06',\n",
       " '11',\n",
       " '10',\n",
       " '11',\n",
       " '06',\n",
       " '06',\n",
       " '10',\n",
       " '02',\n",
       " '02',\n",
       " '03',\n",
       " '01',\n",
       " '04',\n",
       " '05',\n",
       " '03',\n",
       " '04',\n",
       " '01',\n",
       " '01',\n",
       " '05',\n",
       " '01',\n",
       " '09',\n",
       " '01',\n",
       " '05',\n",
       " '05',\n",
       " '11',\n",
       " '01',\n",
       " '11',\n",
       " '11',\n",
       " '02',\n",
       " '06',\n",
       " '06',\n",
       " '03',\n",
       " '08',\n",
       " '07',\n",
       " '03',\n",
       " '10',\n",
       " '06',\n",
       " '06',\n",
       " '06',\n",
       " '06',\n",
       " '06',\n",
       " '06',\n",
       " '06',\n",
       " '09',\n",
       " '03',\n",
       " '07',\n",
       " '03',\n",
       " '10',\n",
       " '06',\n",
       " '07',\n",
       " '11',\n",
       " '01',\n",
       " '12',\n",
       " '06',\n",
       " '09',\n",
       " '10',\n",
       " '04',\n",
       " '10',\n",
       " '04',\n",
       " '11',\n",
       " '09',\n",
       " '02',\n",
       " '02',\n",
       " '05',\n",
       " '10',\n",
       " '10',\n",
       " '06',\n",
       " '08',\n",
       " '11',\n",
       " '10',\n",
       " '04',\n",
       " '10',\n",
       " '03',\n",
       " '05',\n",
       " '01',\n",
       " '09',\n",
       " '06',\n",
       " '02',\n",
       " '10',\n",
       " '04',\n",
       " '09',\n",
       " '11',\n",
       " '09',\n",
       " '10',\n",
       " '07',\n",
       " '01',\n",
       " '12',\n",
       " '06',\n",
       " '03',\n",
       " '01',\n",
       " '09',\n",
       " '09',\n",
       " '01',\n",
       " '11',\n",
       " '07',\n",
       " '05',\n",
       " '11',\n",
       " '03',\n",
       " '10',\n",
       " '01',\n",
       " '06',\n",
       " '07',\n",
       " '01',\n",
       " '08',\n",
       " '01',\n",
       " '04',\n",
       " '07',\n",
       " '10',\n",
       " '01',\n",
       " '06',\n",
       " '05',\n",
       " '05',\n",
       " '06',\n",
       " '05',\n",
       " '11',\n",
       " '09',\n",
       " '05',\n",
       " '03',\n",
       " '06',\n",
       " '01',\n",
       " '12',\n",
       " '11',\n",
       " '05',\n",
       " '08',\n",
       " '10',\n",
       " '07',\n",
       " '12',\n",
       " '03',\n",
       " '11',\n",
       " '09',\n",
       " '03',\n",
       " '11',\n",
       " '11',\n",
       " '10',\n",
       " '09',\n",
       " '07',\n",
       " '06',\n",
       " '03',\n",
       " '10',\n",
       " '11',\n",
       " '12',\n",
       " '03',\n",
       " '04',\n",
       " '10',\n",
       " '03',\n",
       " '06',\n",
       " '01',\n",
       " '02',\n",
       " '05',\n",
       " '05',\n",
       " '07',\n",
       " '04',\n",
       " '02',\n",
       " '04',\n",
       " '11',\n",
       " '10',\n",
       " '10',\n",
       " '02',\n",
       " '12',\n",
       " '07',\n",
       " '11',\n",
       " '06',\n",
       " '07',\n",
       " '02',\n",
       " '11',\n",
       " '09',\n",
       " '12',\n",
       " '05',\n",
       " '05',\n",
       " '05',\n",
       " '06',\n",
       " '11',\n",
       " '10',\n",
       " '10',\n",
       " '10',\n",
       " '10',\n",
       " '01',\n",
       " '01',\n",
       " '05',\n",
       " '05',\n",
       " '05',\n",
       " '01',\n",
       " '06',\n",
       " '09',\n",
       " '03',\n",
       " '04',\n",
       " '02',\n",
       " '06',\n",
       " '01',\n",
       " '03',\n",
       " '01',\n",
       " '04',\n",
       " '01',\n",
       " '02',\n",
       " '06',\n",
       " '10',\n",
       " '08',\n",
       " '08',\n",
       " '01',\n",
       " '04',\n",
       " '06',\n",
       " '07',\n",
       " '08',\n",
       " '12',\n",
       " '03',\n",
       " '04',\n",
       " '06',\n",
       " '07',\n",
       " '09',\n",
       " '08',\n",
       " '12',\n",
       " '02',\n",
       " '06',\n",
       " '03',\n",
       " '10',\n",
       " '03',\n",
       " '04',\n",
       " '03',\n",
       " '10',\n",
       " '11',\n",
       " '11',\n",
       " '01',\n",
       " '01',\n",
       " '08',\n",
       " '04',\n",
       " '01',\n",
       " '12',\n",
       " '03',\n",
       " '04',\n",
       " '01',\n",
       " '04',\n",
       " '05',\n",
       " '04',\n",
       " '08',\n",
       " '10',\n",
       " '11',\n",
       " '07',\n",
       " '01',\n",
       " '12',\n",
       " '05',\n",
       " '06',\n",
       " '03',\n",
       " '06',\n",
       " '07',\n",
       " '01',\n",
       " '06',\n",
       " '04',\n",
       " '08',\n",
       " '01',\n",
       " '05',\n",
       " '03',\n",
       " '06',\n",
       " '02',\n",
       " '08',\n",
       " '09',\n",
       " '09',\n",
       " '06',\n",
       " '08',\n",
       " '08',\n",
       " '05',\n",
       " '08',\n",
       " '08',\n",
       " '04',\n",
       " '05',\n",
       " '08',\n",
       " '01',\n",
       " '01',\n",
       " '09',\n",
       " '01',\n",
       " '08',\n",
       " '02',\n",
       " '01',\n",
       " '05',\n",
       " '01',\n",
       " '05',\n",
       " '05',\n",
       " '05',\n",
       " '08',\n",
       " '10',\n",
       " '09',\n",
       " '05',\n",
       " '03',\n",
       " '09',\n",
       " '11',\n",
       " '02',\n",
       " '05',\n",
       " '03',\n",
       " '10',\n",
       " '01',\n",
       " '11',\n",
       " '02',\n",
       " '08',\n",
       " '09',\n",
       " '08',\n",
       " '05',\n",
       " '04',\n",
       " '04',\n",
       " '04',\n",
       " '12',\n",
       " '12',\n",
       " '11',\n",
       " '12',\n",
       " '04',\n",
       " '10',\n",
       " '04',\n",
       " '04',\n",
       " '05',\n",
       " '11',\n",
       " '03',\n",
       " '01',\n",
       " '04',\n",
       " '01',\n",
       " '06',\n",
       " '12',\n",
       " '05',\n",
       " '06',\n",
       " '02',\n",
       " '06',\n",
       " '10',\n",
       " '11',\n",
       " '03',\n",
       " '03',\n",
       " '06',\n",
       " '07',\n",
       " '01',\n",
       " '09',\n",
       " '11',\n",
       " '12',\n",
       " '10',\n",
       " '04',\n",
       " '12',\n",
       " '06',\n",
       " '09',\n",
       " '01',\n",
       " '01',\n",
       " '11',\n",
       " '06',\n",
       " '06',\n",
       " '08',\n",
       " '08',\n",
       " '07',\n",
       " '11',\n",
       " '01',\n",
       " '08',\n",
       " '04',\n",
       " '01',\n",
       " '02',\n",
       " '08',\n",
       " '11',\n",
       " '08',\n",
       " '06',\n",
       " '01',\n",
       " '01',\n",
       " '06',\n",
       " '08',\n",
       " '12',\n",
       " '07',\n",
       " '07',\n",
       " '10',\n",
       " '04',\n",
       " '09',\n",
       " '08',\n",
       " '06',\n",
       " '07',\n",
       " '12',\n",
       " '07',\n",
       " '07',\n",
       " '04',\n",
       " '10',\n",
       " '09',\n",
       " '02',\n",
       " '06',\n",
       " '01',\n",
       " '05',\n",
       " '07',\n",
       " '01',\n",
       " '10',\n",
       " '03',\n",
       " '10',\n",
       " '10',\n",
       " '06',\n",
       " '06',\n",
       " '01',\n",
       " '06',\n",
       " '06',\n",
       " '06',\n",
       " '01',\n",
       " '06',\n",
       " '01',\n",
       " '06',\n",
       " '05',\n",
       " '06',\n",
       " '06',\n",
       " '06',\n",
       " '05',\n",
       " '01',\n",
       " '06',\n",
       " '01',\n",
       " '06',\n",
       " '06',\n",
       " '09',\n",
       " '08',\n",
       " '06',\n",
       " '05',\n",
       " '12',\n",
       " '01',\n",
       " '01',\n",
       " '08',\n",
       " '08',\n",
       " '01',\n",
       " '05',\n",
       " '06',\n",
       " '01',\n",
       " '06',\n",
       " '06',\n",
       " '02',\n",
       " '05',\n",
       " '01',\n",
       " '05',\n",
       " '06',\n",
       " '07',\n",
       " '06',\n",
       " '08',\n",
       " '09',\n",
       " '10',\n",
       " '10',\n",
       " '11',\n",
       " '11',\n",
       " '11',\n",
       " '12',\n",
       " '01',\n",
       " '05',\n",
       " '02',\n",
       " '12',\n",
       " '05',\n",
       " '04',\n",
       " '04',\n",
       " '05',\n",
       " '01',\n",
       " '05',\n",
       " '05',\n",
       " '05',\n",
       " '06',\n",
       " '04',\n",
       " '06',\n",
       " '06',\n",
       " '08',\n",
       " '01',\n",
       " '06',\n",
       " '06',\n",
       " '01',\n",
       " '09',\n",
       " '10',\n",
       " '06',\n",
       " '10',\n",
       " '10',\n",
       " '10',\n",
       " '10',\n",
       " '01',\n",
       " '12',\n",
       " '12',\n",
       " '12',\n",
       " '04',\n",
       " '09',\n",
       " '02',\n",
       " '02',\n",
       " '01',\n",
       " '09',\n",
       " '03',\n",
       " '03',\n",
       " '04',\n",
       " '06',\n",
       " '04',\n",
       " '01',\n",
       " '01',\n",
       " '05',\n",
       " '12',\n",
       " '06',\n",
       " '10',\n",
       " '05',\n",
       " '01',\n",
       " '07',\n",
       " '07',\n",
       " '06',\n",
       " '07',\n",
       " '08',\n",
       " '08',\n",
       " '08',\n",
       " '08',\n",
       " '09',\n",
       " '10',\n",
       " '07',\n",
       " '09',\n",
       " '10',\n",
       " '01',\n",
       " '01',\n",
       " '04',\n",
       " '01',\n",
       " '06',\n",
       " '11',\n",
       " '06',\n",
       " '02',\n",
       " '12',\n",
       " '04',\n",
       " '05',\n",
       " '01',\n",
       " '06',\n",
       " '02',\n",
       " '11',\n",
       " '12']"
      ]
     },
     "execution_count": 51,
     "metadata": {},
     "output_type": "execute_result"
    }
   ],
   "source": [
    "month = [i.split('-')[1]for i in CA_company['funded_month'].astype(str)]\n",
    "month"
   ]
  },
  {
   "cell_type": "code",
   "execution_count": 62,
   "metadata": {},
   "outputs": [
    {
     "data": {
      "text/html": [
       "<div>\n",
       "<style scoped>\n",
       "    .dataframe tbody tr th:only-of-type {\n",
       "        vertical-align: middle;\n",
       "    }\n",
       "\n",
       "    .dataframe tbody tr th {\n",
       "        vertical-align: top;\n",
       "    }\n",
       "\n",
       "    .dataframe thead th {\n",
       "        text-align: right;\n",
       "    }\n",
       "</style>\n",
       "<table border=\"1\" class=\"dataframe\">\n",
       "  <thead>\n",
       "    <tr style=\"text-align: right;\">\n",
       "      <th></th>\n",
       "      <th>investor_name</th>\n",
       "      <th>funded_month</th>\n",
       "    </tr>\n",
       "  </thead>\n",
       "  <tbody>\n",
       "    <tr>\n",
       "      <th>1</th>\n",
       "      <td>1-800-FLOWERS.COM</td>\n",
       "      <td>10</td>\n",
       "    </tr>\n",
       "    <tr>\n",
       "      <th>2</th>\n",
       "      <td>10Xelerator</td>\n",
       "      <td>01</td>\n",
       "    </tr>\n",
       "    <tr>\n",
       "      <th>30</th>\n",
       "      <td>3taps</td>\n",
       "      <td>10</td>\n",
       "    </tr>\n",
       "    <tr>\n",
       "      <th>43</th>\n",
       "      <td>A123 Systems</td>\n",
       "      <td>05</td>\n",
       "    </tr>\n",
       "    <tr>\n",
       "      <th>44</th>\n",
       "      <td>A123 Systems</td>\n",
       "      <td>02</td>\n",
       "    </tr>\n",
       "  </tbody>\n",
       "</table>\n",
       "</div>"
      ],
      "text/plain": [
       "        investor_name funded_month\n",
       "1   1-800-FLOWERS.COM           10\n",
       "2         10Xelerator           01\n",
       "30              3taps           10\n",
       "43       A123 Systems           05\n",
       "44       A123 Systems           02"
      ]
     },
     "execution_count": 62,
     "metadata": {},
     "output_type": "execute_result"
    }
   ],
   "source": [
    "CA_company.head()"
   ]
  },
  {
   "cell_type": "code",
   "execution_count": 63,
   "metadata": {},
   "outputs": [],
   "source": [
    "month_company = CA_company.groupby(CA_company['funded_month']).count()"
   ]
  },
  {
   "cell_type": "code",
   "execution_count": 66,
   "metadata": {},
   "outputs": [
    {
     "data": {
      "text/html": [
       "<div>\n",
       "<style scoped>\n",
       "    .dataframe tbody tr th:only-of-type {\n",
       "        vertical-align: middle;\n",
       "    }\n",
       "\n",
       "    .dataframe tbody tr th {\n",
       "        vertical-align: top;\n",
       "    }\n",
       "\n",
       "    .dataframe thead th {\n",
       "        text-align: right;\n",
       "    }\n",
       "</style>\n",
       "<table border=\"1\" class=\"dataframe\">\n",
       "  <thead>\n",
       "    <tr style=\"text-align: right;\">\n",
       "      <th></th>\n",
       "      <th>investor_name</th>\n",
       "    </tr>\n",
       "    <tr>\n",
       "      <th>funded_month</th>\n",
       "      <th></th>\n",
       "    </tr>\n",
       "  </thead>\n",
       "  <tbody>\n",
       "    <tr>\n",
       "      <th>01</th>\n",
       "      <td>102</td>\n",
       "    </tr>\n",
       "    <tr>\n",
       "      <th>02</th>\n",
       "      <td>56</td>\n",
       "    </tr>\n",
       "    <tr>\n",
       "      <th>03</th>\n",
       "      <td>54</td>\n",
       "    </tr>\n",
       "    <tr>\n",
       "      <th>04</th>\n",
       "      <td>57</td>\n",
       "    </tr>\n",
       "    <tr>\n",
       "      <th>05</th>\n",
       "      <td>81</td>\n",
       "    </tr>\n",
       "    <tr>\n",
       "      <th>06</th>\n",
       "      <td>119</td>\n",
       "    </tr>\n",
       "    <tr>\n",
       "      <th>07</th>\n",
       "      <td>59</td>\n",
       "    </tr>\n",
       "    <tr>\n",
       "      <th>08</th>\n",
       "      <td>64</td>\n",
       "    </tr>\n",
       "    <tr>\n",
       "      <th>09</th>\n",
       "      <td>58</td>\n",
       "    </tr>\n",
       "    <tr>\n",
       "      <th>10</th>\n",
       "      <td>81</td>\n",
       "    </tr>\n",
       "    <tr>\n",
       "      <th>11</th>\n",
       "      <td>63</td>\n",
       "    </tr>\n",
       "    <tr>\n",
       "      <th>12</th>\n",
       "      <td>49</td>\n",
       "    </tr>\n",
       "  </tbody>\n",
       "</table>\n",
       "</div>"
      ],
      "text/plain": [
       "              investor_name\n",
       "funded_month               \n",
       "01                      102\n",
       "02                       56\n",
       "03                       54\n",
       "04                       57\n",
       "05                       81\n",
       "06                      119\n",
       "07                       59\n",
       "08                       64\n",
       "09                       58\n",
       "10                       81\n",
       "11                       63\n",
       "12                       49"
      ]
     },
     "execution_count": 66,
     "metadata": {},
     "output_type": "execute_result"
    }
   ],
   "source": [
    "month_company"
   ]
  },
  {
   "cell_type": "markdown",
   "metadata": {},
   "source": [
    "### Insights - Investor are more likely to fund companies during Janurary, June or October\n",
    "### Start-ups could reach out to investors, or prepare pitchdecks before these months"
   ]
  },
  {
   "cell_type": "code",
   "execution_count": 75,
   "metadata": {},
   "outputs": [
    {
     "data": {
      "application/vnd.plotly.v1+json": {
       "config": {
        "linkText": "Export to plot.ly",
        "plotlyServerURL": "https://plot.ly",
        "showLink": true
       },
       "data": [
        {
         "line": {
          "color": "rgba(255, 153, 51, 1.0)",
          "dash": "solid",
          "shape": "linear",
          "width": 1.3
         },
         "mode": "lines",
         "name": "investor_name",
         "text": "",
         "type": "scatter",
         "x": [
          "01",
          "02",
          "03",
          "04",
          "05",
          "06",
          "07",
          "08",
          "09",
          "10",
          "11",
          "12"
         ],
         "y": [
          102,
          56,
          54,
          57,
          81,
          119,
          59,
          64,
          58,
          81,
          63,
          49
         ]
        }
       ],
       "layout": {
        "legend": {
         "bgcolor": "#F5F6F9",
         "font": {
          "color": "#4D5663"
         }
        },
        "paper_bgcolor": "#F5F6F9",
        "plot_bgcolor": "#F5F6F9",
        "template": {
         "data": {
          "bar": [
           {
            "error_x": {
             "color": "#2a3f5f"
            },
            "error_y": {
             "color": "#2a3f5f"
            },
            "marker": {
             "line": {
              "color": "#E5ECF6",
              "width": 0.5
             }
            },
            "type": "bar"
           }
          ],
          "barpolar": [
           {
            "marker": {
             "line": {
              "color": "#E5ECF6",
              "width": 0.5
             }
            },
            "type": "barpolar"
           }
          ],
          "carpet": [
           {
            "aaxis": {
             "endlinecolor": "#2a3f5f",
             "gridcolor": "white",
             "linecolor": "white",
             "minorgridcolor": "white",
             "startlinecolor": "#2a3f5f"
            },
            "baxis": {
             "endlinecolor": "#2a3f5f",
             "gridcolor": "white",
             "linecolor": "white",
             "minorgridcolor": "white",
             "startlinecolor": "#2a3f5f"
            },
            "type": "carpet"
           }
          ],
          "choropleth": [
           {
            "colorbar": {
             "outlinewidth": 0,
             "ticks": ""
            },
            "type": "choropleth"
           }
          ],
          "contour": [
           {
            "colorbar": {
             "outlinewidth": 0,
             "ticks": ""
            },
            "colorscale": [
             [
              0,
              "#0d0887"
             ],
             [
              0.1111111111111111,
              "#46039f"
             ],
             [
              0.2222222222222222,
              "#7201a8"
             ],
             [
              0.3333333333333333,
              "#9c179e"
             ],
             [
              0.4444444444444444,
              "#bd3786"
             ],
             [
              0.5555555555555556,
              "#d8576b"
             ],
             [
              0.6666666666666666,
              "#ed7953"
             ],
             [
              0.7777777777777778,
              "#fb9f3a"
             ],
             [
              0.8888888888888888,
              "#fdca26"
             ],
             [
              1,
              "#f0f921"
             ]
            ],
            "type": "contour"
           }
          ],
          "contourcarpet": [
           {
            "colorbar": {
             "outlinewidth": 0,
             "ticks": ""
            },
            "type": "contourcarpet"
           }
          ],
          "heatmap": [
           {
            "colorbar": {
             "outlinewidth": 0,
             "ticks": ""
            },
            "colorscale": [
             [
              0,
              "#0d0887"
             ],
             [
              0.1111111111111111,
              "#46039f"
             ],
             [
              0.2222222222222222,
              "#7201a8"
             ],
             [
              0.3333333333333333,
              "#9c179e"
             ],
             [
              0.4444444444444444,
              "#bd3786"
             ],
             [
              0.5555555555555556,
              "#d8576b"
             ],
             [
              0.6666666666666666,
              "#ed7953"
             ],
             [
              0.7777777777777778,
              "#fb9f3a"
             ],
             [
              0.8888888888888888,
              "#fdca26"
             ],
             [
              1,
              "#f0f921"
             ]
            ],
            "type": "heatmap"
           }
          ],
          "heatmapgl": [
           {
            "colorbar": {
             "outlinewidth": 0,
             "ticks": ""
            },
            "colorscale": [
             [
              0,
              "#0d0887"
             ],
             [
              0.1111111111111111,
              "#46039f"
             ],
             [
              0.2222222222222222,
              "#7201a8"
             ],
             [
              0.3333333333333333,
              "#9c179e"
             ],
             [
              0.4444444444444444,
              "#bd3786"
             ],
             [
              0.5555555555555556,
              "#d8576b"
             ],
             [
              0.6666666666666666,
              "#ed7953"
             ],
             [
              0.7777777777777778,
              "#fb9f3a"
             ],
             [
              0.8888888888888888,
              "#fdca26"
             ],
             [
              1,
              "#f0f921"
             ]
            ],
            "type": "heatmapgl"
           }
          ],
          "histogram": [
           {
            "marker": {
             "colorbar": {
              "outlinewidth": 0,
              "ticks": ""
             }
            },
            "type": "histogram"
           }
          ],
          "histogram2d": [
           {
            "colorbar": {
             "outlinewidth": 0,
             "ticks": ""
            },
            "colorscale": [
             [
              0,
              "#0d0887"
             ],
             [
              0.1111111111111111,
              "#46039f"
             ],
             [
              0.2222222222222222,
              "#7201a8"
             ],
             [
              0.3333333333333333,
              "#9c179e"
             ],
             [
              0.4444444444444444,
              "#bd3786"
             ],
             [
              0.5555555555555556,
              "#d8576b"
             ],
             [
              0.6666666666666666,
              "#ed7953"
             ],
             [
              0.7777777777777778,
              "#fb9f3a"
             ],
             [
              0.8888888888888888,
              "#fdca26"
             ],
             [
              1,
              "#f0f921"
             ]
            ],
            "type": "histogram2d"
           }
          ],
          "histogram2dcontour": [
           {
            "colorbar": {
             "outlinewidth": 0,
             "ticks": ""
            },
            "colorscale": [
             [
              0,
              "#0d0887"
             ],
             [
              0.1111111111111111,
              "#46039f"
             ],
             [
              0.2222222222222222,
              "#7201a8"
             ],
             [
              0.3333333333333333,
              "#9c179e"
             ],
             [
              0.4444444444444444,
              "#bd3786"
             ],
             [
              0.5555555555555556,
              "#d8576b"
             ],
             [
              0.6666666666666666,
              "#ed7953"
             ],
             [
              0.7777777777777778,
              "#fb9f3a"
             ],
             [
              0.8888888888888888,
              "#fdca26"
             ],
             [
              1,
              "#f0f921"
             ]
            ],
            "type": "histogram2dcontour"
           }
          ],
          "mesh3d": [
           {
            "colorbar": {
             "outlinewidth": 0,
             "ticks": ""
            },
            "type": "mesh3d"
           }
          ],
          "parcoords": [
           {
            "line": {
             "colorbar": {
              "outlinewidth": 0,
              "ticks": ""
             }
            },
            "type": "parcoords"
           }
          ],
          "scatter": [
           {
            "marker": {
             "colorbar": {
              "outlinewidth": 0,
              "ticks": ""
             }
            },
            "type": "scatter"
           }
          ],
          "scatter3d": [
           {
            "line": {
             "colorbar": {
              "outlinewidth": 0,
              "ticks": ""
             }
            },
            "marker": {
             "colorbar": {
              "outlinewidth": 0,
              "ticks": ""
             }
            },
            "type": "scatter3d"
           }
          ],
          "scattercarpet": [
           {
            "marker": {
             "colorbar": {
              "outlinewidth": 0,
              "ticks": ""
             }
            },
            "type": "scattercarpet"
           }
          ],
          "scattergeo": [
           {
            "marker": {
             "colorbar": {
              "outlinewidth": 0,
              "ticks": ""
             }
            },
            "type": "scattergeo"
           }
          ],
          "scattergl": [
           {
            "marker": {
             "colorbar": {
              "outlinewidth": 0,
              "ticks": ""
             }
            },
            "type": "scattergl"
           }
          ],
          "scattermapbox": [
           {
            "marker": {
             "colorbar": {
              "outlinewidth": 0,
              "ticks": ""
             }
            },
            "type": "scattermapbox"
           }
          ],
          "scatterpolar": [
           {
            "marker": {
             "colorbar": {
              "outlinewidth": 0,
              "ticks": ""
             }
            },
            "type": "scatterpolar"
           }
          ],
          "scatterpolargl": [
           {
            "marker": {
             "colorbar": {
              "outlinewidth": 0,
              "ticks": ""
             }
            },
            "type": "scatterpolargl"
           }
          ],
          "scatterternary": [
           {
            "marker": {
             "colorbar": {
              "outlinewidth": 0,
              "ticks": ""
             }
            },
            "type": "scatterternary"
           }
          ],
          "surface": [
           {
            "colorbar": {
             "outlinewidth": 0,
             "ticks": ""
            },
            "colorscale": [
             [
              0,
              "#0d0887"
             ],
             [
              0.1111111111111111,
              "#46039f"
             ],
             [
              0.2222222222222222,
              "#7201a8"
             ],
             [
              0.3333333333333333,
              "#9c179e"
             ],
             [
              0.4444444444444444,
              "#bd3786"
             ],
             [
              0.5555555555555556,
              "#d8576b"
             ],
             [
              0.6666666666666666,
              "#ed7953"
             ],
             [
              0.7777777777777778,
              "#fb9f3a"
             ],
             [
              0.8888888888888888,
              "#fdca26"
             ],
             [
              1,
              "#f0f921"
             ]
            ],
            "type": "surface"
           }
          ],
          "table": [
           {
            "cells": {
             "fill": {
              "color": "#EBF0F8"
             },
             "line": {
              "color": "white"
             }
            },
            "header": {
             "fill": {
              "color": "#C8D4E3"
             },
             "line": {
              "color": "white"
             }
            },
            "type": "table"
           }
          ]
         },
         "layout": {
          "annotationdefaults": {
           "arrowcolor": "#2a3f5f",
           "arrowhead": 0,
           "arrowwidth": 1
          },
          "colorscale": {
           "diverging": [
            [
             0,
             "#8e0152"
            ],
            [
             0.1,
             "#c51b7d"
            ],
            [
             0.2,
             "#de77ae"
            ],
            [
             0.3,
             "#f1b6da"
            ],
            [
             0.4,
             "#fde0ef"
            ],
            [
             0.5,
             "#f7f7f7"
            ],
            [
             0.6,
             "#e6f5d0"
            ],
            [
             0.7,
             "#b8e186"
            ],
            [
             0.8,
             "#7fbc41"
            ],
            [
             0.9,
             "#4d9221"
            ],
            [
             1,
             "#276419"
            ]
           ],
           "sequential": [
            [
             0,
             "#0d0887"
            ],
            [
             0.1111111111111111,
             "#46039f"
            ],
            [
             0.2222222222222222,
             "#7201a8"
            ],
            [
             0.3333333333333333,
             "#9c179e"
            ],
            [
             0.4444444444444444,
             "#bd3786"
            ],
            [
             0.5555555555555556,
             "#d8576b"
            ],
            [
             0.6666666666666666,
             "#ed7953"
            ],
            [
             0.7777777777777778,
             "#fb9f3a"
            ],
            [
             0.8888888888888888,
             "#fdca26"
            ],
            [
             1,
             "#f0f921"
            ]
           ],
           "sequentialminus": [
            [
             0,
             "#0d0887"
            ],
            [
             0.1111111111111111,
             "#46039f"
            ],
            [
             0.2222222222222222,
             "#7201a8"
            ],
            [
             0.3333333333333333,
             "#9c179e"
            ],
            [
             0.4444444444444444,
             "#bd3786"
            ],
            [
             0.5555555555555556,
             "#d8576b"
            ],
            [
             0.6666666666666666,
             "#ed7953"
            ],
            [
             0.7777777777777778,
             "#fb9f3a"
            ],
            [
             0.8888888888888888,
             "#fdca26"
            ],
            [
             1,
             "#f0f921"
            ]
           ]
          },
          "colorway": [
           "#636efa",
           "#EF553B",
           "#00cc96",
           "#ab63fa",
           "#FFA15A",
           "#19d3f3",
           "#FF6692",
           "#B6E880",
           "#FF97FF",
           "#FECB52"
          ],
          "font": {
           "color": "#2a3f5f"
          },
          "geo": {
           "bgcolor": "white",
           "lakecolor": "white",
           "landcolor": "#E5ECF6",
           "showlakes": true,
           "showland": true,
           "subunitcolor": "white"
          },
          "hoverlabel": {
           "align": "left"
          },
          "hovermode": "closest",
          "mapbox": {
           "style": "light"
          },
          "paper_bgcolor": "white",
          "plot_bgcolor": "#E5ECF6",
          "polar": {
           "angularaxis": {
            "gridcolor": "white",
            "linecolor": "white",
            "ticks": ""
           },
           "bgcolor": "#E5ECF6",
           "radialaxis": {
            "gridcolor": "white",
            "linecolor": "white",
            "ticks": ""
           }
          },
          "scene": {
           "xaxis": {
            "backgroundcolor": "#E5ECF6",
            "gridcolor": "white",
            "gridwidth": 2,
            "linecolor": "white",
            "showbackground": true,
            "ticks": "",
            "zerolinecolor": "white"
           },
           "yaxis": {
            "backgroundcolor": "#E5ECF6",
            "gridcolor": "white",
            "gridwidth": 2,
            "linecolor": "white",
            "showbackground": true,
            "ticks": "",
            "zerolinecolor": "white"
           },
           "zaxis": {
            "backgroundcolor": "#E5ECF6",
            "gridcolor": "white",
            "gridwidth": 2,
            "linecolor": "white",
            "showbackground": true,
            "ticks": "",
            "zerolinecolor": "white"
           }
          },
          "shapedefaults": {
           "line": {
            "color": "#2a3f5f"
           }
          },
          "ternary": {
           "aaxis": {
            "gridcolor": "white",
            "linecolor": "white",
            "ticks": ""
           },
           "baxis": {
            "gridcolor": "white",
            "linecolor": "white",
            "ticks": ""
           },
           "bgcolor": "#E5ECF6",
           "caxis": {
            "gridcolor": "white",
            "linecolor": "white",
            "ticks": ""
           }
          },
          "title": {
           "x": 0.05
          },
          "xaxis": {
           "automargin": true,
           "gridcolor": "white",
           "linecolor": "white",
           "ticks": "",
           "zerolinecolor": "white",
           "zerolinewidth": 2
          },
          "yaxis": {
           "automargin": true,
           "gridcolor": "white",
           "linecolor": "white",
           "ticks": "",
           "zerolinecolor": "white",
           "zerolinewidth": 2
          }
         }
        },
        "title": {
         "font": {
          "color": "#4D5663"
         }
        },
        "xaxis": {
         "gridcolor": "#E1E5ED",
         "showgrid": true,
         "tickfont": {
          "color": "#4D5663"
         },
         "title": {
          "font": {
           "color": "#4D5663"
          },
          "text": ""
         },
         "zerolinecolor": "#E1E5ED"
        },
        "yaxis": {
         "gridcolor": "#E1E5ED",
         "showgrid": true,
         "tickfont": {
          "color": "#4D5663"
         },
         "title": {
          "font": {
           "color": "#4D5663"
          },
          "text": ""
         },
         "zerolinecolor": "#E1E5ED"
        }
       }
      },
      "text/html": [
       "<div>\n",
       "        \n",
       "        \n",
       "            <div id=\"ba7ea30d-875e-4bc0-81b6-7d55c88175fb\" class=\"plotly-graph-div\" style=\"height:525px; width:100%;\"></div>\n",
       "            <script type=\"text/javascript\">\n",
       "                require([\"plotly\"], function(Plotly) {\n",
       "                    window.PLOTLYENV=window.PLOTLYENV || {};\n",
       "                    window.PLOTLYENV.BASE_URL='https://plot.ly';\n",
       "                    \n",
       "                if (document.getElementById(\"ba7ea30d-875e-4bc0-81b6-7d55c88175fb\")) {\n",
       "                    Plotly.newPlot(\n",
       "                        'ba7ea30d-875e-4bc0-81b6-7d55c88175fb',\n",
       "                        [{\"line\": {\"color\": \"rgba(255, 153, 51, 1.0)\", \"dash\": \"solid\", \"shape\": \"linear\", \"width\": 1.3}, \"mode\": \"lines\", \"name\": \"investor_name\", \"text\": \"\", \"type\": \"scatter\", \"x\": [\"01\", \"02\", \"03\", \"04\", \"05\", \"06\", \"07\", \"08\", \"09\", \"10\", \"11\", \"12\"], \"y\": [102, 56, 54, 57, 81, 119, 59, 64, 58, 81, 63, 49]}],\n",
       "                        {\"legend\": {\"bgcolor\": \"#F5F6F9\", \"font\": {\"color\": \"#4D5663\"}}, \"paper_bgcolor\": \"#F5F6F9\", \"plot_bgcolor\": \"#F5F6F9\", \"template\": {\"data\": {\"bar\": [{\"error_x\": {\"color\": \"#2a3f5f\"}, \"error_y\": {\"color\": \"#2a3f5f\"}, \"marker\": {\"line\": {\"color\": \"#E5ECF6\", \"width\": 0.5}}, \"type\": \"bar\"}], \"barpolar\": [{\"marker\": {\"line\": {\"color\": \"#E5ECF6\", \"width\": 0.5}}, \"type\": \"barpolar\"}], \"carpet\": [{\"aaxis\": {\"endlinecolor\": \"#2a3f5f\", \"gridcolor\": \"white\", \"linecolor\": \"white\", \"minorgridcolor\": \"white\", \"startlinecolor\": \"#2a3f5f\"}, \"baxis\": {\"endlinecolor\": \"#2a3f5f\", \"gridcolor\": \"white\", \"linecolor\": \"white\", \"minorgridcolor\": \"white\", \"startlinecolor\": \"#2a3f5f\"}, \"type\": \"carpet\"}], \"choropleth\": [{\"colorbar\": {\"outlinewidth\": 0, \"ticks\": \"\"}, \"type\": \"choropleth\"}], \"contour\": [{\"colorbar\": {\"outlinewidth\": 0, \"ticks\": \"\"}, \"colorscale\": [[0.0, \"#0d0887\"], [0.1111111111111111, \"#46039f\"], [0.2222222222222222, \"#7201a8\"], [0.3333333333333333, \"#9c179e\"], [0.4444444444444444, \"#bd3786\"], [0.5555555555555556, \"#d8576b\"], [0.6666666666666666, \"#ed7953\"], [0.7777777777777778, \"#fb9f3a\"], [0.8888888888888888, \"#fdca26\"], [1.0, \"#f0f921\"]], \"type\": \"contour\"}], \"contourcarpet\": [{\"colorbar\": {\"outlinewidth\": 0, \"ticks\": \"\"}, \"type\": \"contourcarpet\"}], \"heatmap\": [{\"colorbar\": {\"outlinewidth\": 0, \"ticks\": \"\"}, \"colorscale\": [[0.0, \"#0d0887\"], [0.1111111111111111, \"#46039f\"], [0.2222222222222222, \"#7201a8\"], [0.3333333333333333, \"#9c179e\"], [0.4444444444444444, \"#bd3786\"], [0.5555555555555556, \"#d8576b\"], [0.6666666666666666, \"#ed7953\"], [0.7777777777777778, \"#fb9f3a\"], [0.8888888888888888, \"#fdca26\"], [1.0, \"#f0f921\"]], \"type\": \"heatmap\"}], \"heatmapgl\": [{\"colorbar\": {\"outlinewidth\": 0, \"ticks\": \"\"}, \"colorscale\": [[0.0, \"#0d0887\"], [0.1111111111111111, \"#46039f\"], [0.2222222222222222, \"#7201a8\"], [0.3333333333333333, \"#9c179e\"], [0.4444444444444444, \"#bd3786\"], [0.5555555555555556, \"#d8576b\"], [0.6666666666666666, \"#ed7953\"], [0.7777777777777778, \"#fb9f3a\"], [0.8888888888888888, \"#fdca26\"], [1.0, \"#f0f921\"]], \"type\": \"heatmapgl\"}], \"histogram\": [{\"marker\": {\"colorbar\": {\"outlinewidth\": 0, \"ticks\": \"\"}}, \"type\": \"histogram\"}], \"histogram2d\": [{\"colorbar\": {\"outlinewidth\": 0, \"ticks\": \"\"}, \"colorscale\": [[0.0, \"#0d0887\"], [0.1111111111111111, \"#46039f\"], [0.2222222222222222, \"#7201a8\"], [0.3333333333333333, \"#9c179e\"], [0.4444444444444444, \"#bd3786\"], [0.5555555555555556, \"#d8576b\"], [0.6666666666666666, \"#ed7953\"], [0.7777777777777778, \"#fb9f3a\"], [0.8888888888888888, \"#fdca26\"], [1.0, \"#f0f921\"]], \"type\": \"histogram2d\"}], \"histogram2dcontour\": [{\"colorbar\": {\"outlinewidth\": 0, \"ticks\": \"\"}, \"colorscale\": [[0.0, \"#0d0887\"], [0.1111111111111111, \"#46039f\"], [0.2222222222222222, \"#7201a8\"], [0.3333333333333333, \"#9c179e\"], [0.4444444444444444, \"#bd3786\"], [0.5555555555555556, \"#d8576b\"], [0.6666666666666666, \"#ed7953\"], [0.7777777777777778, \"#fb9f3a\"], [0.8888888888888888, \"#fdca26\"], [1.0, \"#f0f921\"]], \"type\": \"histogram2dcontour\"}], \"mesh3d\": [{\"colorbar\": {\"outlinewidth\": 0, \"ticks\": \"\"}, \"type\": \"mesh3d\"}], \"parcoords\": [{\"line\": {\"colorbar\": {\"outlinewidth\": 0, \"ticks\": \"\"}}, \"type\": \"parcoords\"}], \"scatter\": [{\"marker\": {\"colorbar\": {\"outlinewidth\": 0, \"ticks\": \"\"}}, \"type\": \"scatter\"}], \"scatter3d\": [{\"line\": {\"colorbar\": {\"outlinewidth\": 0, \"ticks\": \"\"}}, \"marker\": {\"colorbar\": {\"outlinewidth\": 0, \"ticks\": \"\"}}, \"type\": \"scatter3d\"}], \"scattercarpet\": [{\"marker\": {\"colorbar\": {\"outlinewidth\": 0, \"ticks\": \"\"}}, \"type\": \"scattercarpet\"}], \"scattergeo\": [{\"marker\": {\"colorbar\": {\"outlinewidth\": 0, \"ticks\": \"\"}}, \"type\": \"scattergeo\"}], \"scattergl\": [{\"marker\": {\"colorbar\": {\"outlinewidth\": 0, \"ticks\": \"\"}}, \"type\": \"scattergl\"}], \"scattermapbox\": [{\"marker\": {\"colorbar\": {\"outlinewidth\": 0, \"ticks\": \"\"}}, \"type\": \"scattermapbox\"}], \"scatterpolar\": [{\"marker\": {\"colorbar\": {\"outlinewidth\": 0, \"ticks\": \"\"}}, \"type\": \"scatterpolar\"}], \"scatterpolargl\": [{\"marker\": {\"colorbar\": {\"outlinewidth\": 0, \"ticks\": \"\"}}, \"type\": \"scatterpolargl\"}], \"scatterternary\": [{\"marker\": {\"colorbar\": {\"outlinewidth\": 0, \"ticks\": \"\"}}, \"type\": \"scatterternary\"}], \"surface\": [{\"colorbar\": {\"outlinewidth\": 0, \"ticks\": \"\"}, \"colorscale\": [[0.0, \"#0d0887\"], [0.1111111111111111, \"#46039f\"], [0.2222222222222222, \"#7201a8\"], [0.3333333333333333, \"#9c179e\"], [0.4444444444444444, \"#bd3786\"], [0.5555555555555556, \"#d8576b\"], [0.6666666666666666, \"#ed7953\"], [0.7777777777777778, \"#fb9f3a\"], [0.8888888888888888, \"#fdca26\"], [1.0, \"#f0f921\"]], \"type\": \"surface\"}], \"table\": [{\"cells\": {\"fill\": {\"color\": \"#EBF0F8\"}, \"line\": {\"color\": \"white\"}}, \"header\": {\"fill\": {\"color\": \"#C8D4E3\"}, \"line\": {\"color\": \"white\"}}, \"type\": \"table\"}]}, \"layout\": {\"annotationdefaults\": {\"arrowcolor\": \"#2a3f5f\", \"arrowhead\": 0, \"arrowwidth\": 1}, \"colorscale\": {\"diverging\": [[0, \"#8e0152\"], [0.1, \"#c51b7d\"], [0.2, \"#de77ae\"], [0.3, \"#f1b6da\"], [0.4, \"#fde0ef\"], [0.5, \"#f7f7f7\"], [0.6, \"#e6f5d0\"], [0.7, \"#b8e186\"], [0.8, \"#7fbc41\"], [0.9, \"#4d9221\"], [1, \"#276419\"]], \"sequential\": [[0.0, \"#0d0887\"], [0.1111111111111111, \"#46039f\"], [0.2222222222222222, \"#7201a8\"], [0.3333333333333333, \"#9c179e\"], [0.4444444444444444, \"#bd3786\"], [0.5555555555555556, \"#d8576b\"], [0.6666666666666666, \"#ed7953\"], [0.7777777777777778, \"#fb9f3a\"], [0.8888888888888888, \"#fdca26\"], [1.0, \"#f0f921\"]], \"sequentialminus\": [[0.0, \"#0d0887\"], [0.1111111111111111, \"#46039f\"], [0.2222222222222222, \"#7201a8\"], [0.3333333333333333, \"#9c179e\"], [0.4444444444444444, \"#bd3786\"], [0.5555555555555556, \"#d8576b\"], [0.6666666666666666, \"#ed7953\"], [0.7777777777777778, \"#fb9f3a\"], [0.8888888888888888, \"#fdca26\"], [1.0, \"#f0f921\"]]}, \"colorway\": [\"#636efa\", \"#EF553B\", \"#00cc96\", \"#ab63fa\", \"#FFA15A\", \"#19d3f3\", \"#FF6692\", \"#B6E880\", \"#FF97FF\", \"#FECB52\"], \"font\": {\"color\": \"#2a3f5f\"}, \"geo\": {\"bgcolor\": \"white\", \"lakecolor\": \"white\", \"landcolor\": \"#E5ECF6\", \"showlakes\": true, \"showland\": true, \"subunitcolor\": \"white\"}, \"hoverlabel\": {\"align\": \"left\"}, \"hovermode\": \"closest\", \"mapbox\": {\"style\": \"light\"}, \"paper_bgcolor\": \"white\", \"plot_bgcolor\": \"#E5ECF6\", \"polar\": {\"angularaxis\": {\"gridcolor\": \"white\", \"linecolor\": \"white\", \"ticks\": \"\"}, \"bgcolor\": \"#E5ECF6\", \"radialaxis\": {\"gridcolor\": \"white\", \"linecolor\": \"white\", \"ticks\": \"\"}}, \"scene\": {\"xaxis\": {\"backgroundcolor\": \"#E5ECF6\", \"gridcolor\": \"white\", \"gridwidth\": 2, \"linecolor\": \"white\", \"showbackground\": true, \"ticks\": \"\", \"zerolinecolor\": \"white\"}, \"yaxis\": {\"backgroundcolor\": \"#E5ECF6\", \"gridcolor\": \"white\", \"gridwidth\": 2, \"linecolor\": \"white\", \"showbackground\": true, \"ticks\": \"\", \"zerolinecolor\": \"white\"}, \"zaxis\": {\"backgroundcolor\": \"#E5ECF6\", \"gridcolor\": \"white\", \"gridwidth\": 2, \"linecolor\": \"white\", \"showbackground\": true, \"ticks\": \"\", \"zerolinecolor\": \"white\"}}, \"shapedefaults\": {\"line\": {\"color\": \"#2a3f5f\"}}, \"ternary\": {\"aaxis\": {\"gridcolor\": \"white\", \"linecolor\": \"white\", \"ticks\": \"\"}, \"baxis\": {\"gridcolor\": \"white\", \"linecolor\": \"white\", \"ticks\": \"\"}, \"bgcolor\": \"#E5ECF6\", \"caxis\": {\"gridcolor\": \"white\", \"linecolor\": \"white\", \"ticks\": \"\"}}, \"title\": {\"x\": 0.05}, \"xaxis\": {\"automargin\": true, \"gridcolor\": \"white\", \"linecolor\": \"white\", \"ticks\": \"\", \"zerolinecolor\": \"white\", \"zerolinewidth\": 2}, \"yaxis\": {\"automargin\": true, \"gridcolor\": \"white\", \"linecolor\": \"white\", \"ticks\": \"\", \"zerolinecolor\": \"white\", \"zerolinewidth\": 2}}}, \"title\": {\"font\": {\"color\": \"#4D5663\"}}, \"xaxis\": {\"gridcolor\": \"#E1E5ED\", \"showgrid\": true, \"tickfont\": {\"color\": \"#4D5663\"}, \"title\": {\"font\": {\"color\": \"#4D5663\"}, \"text\": \"\"}, \"zerolinecolor\": \"#E1E5ED\"}, \"yaxis\": {\"gridcolor\": \"#E1E5ED\", \"showgrid\": true, \"tickfont\": {\"color\": \"#4D5663\"}, \"title\": {\"font\": {\"color\": \"#4D5663\"}, \"text\": \"\"}, \"zerolinecolor\": \"#E1E5ED\"}},\n",
       "                        {\"showLink\": true, \"linkText\": \"Export to plot.ly\", \"plotlyServerURL\": \"https://plot.ly\", \"responsive\": true}\n",
       "                    ).then(function(){\n",
       "                            \n",
       "var gd = document.getElementById('ba7ea30d-875e-4bc0-81b6-7d55c88175fb');\n",
       "var x = new MutationObserver(function (mutations, observer) {{\n",
       "        var display = window.getComputedStyle(gd).display;\n",
       "        if (!display || display === 'none') {{\n",
       "            console.log([gd, 'removed!']);\n",
       "            Plotly.purge(gd);\n",
       "            observer.disconnect();\n",
       "        }}\n",
       "}});\n",
       "\n",
       "// Listen for the removal of the full notebook cells\n",
       "var notebookContainer = gd.closest('#notebook-container');\n",
       "if (notebookContainer) {{\n",
       "    x.observe(notebookContainer, {childList: true});\n",
       "}}\n",
       "\n",
       "// Listen for the clearing of the current output cell\n",
       "var outputEl = gd.closest('.output');\n",
       "if (outputEl) {{\n",
       "    x.observe(outputEl, {childList: true});\n",
       "}}\n",
       "\n",
       "                        })\n",
       "                };\n",
       "                });\n",
       "            </script>\n",
       "        </div>"
      ]
     },
     "metadata": {},
     "output_type": "display_data"
    }
   ],
   "source": [
    "month_company.iplot(kind = 'line')"
   ]
  },
  {
   "cell_type": "markdown",
   "metadata": {},
   "source": [
    "# Great Job!\n"
   ]
  }
 ],
 "metadata": {
  "kernelspec": {
   "display_name": "Python 3",
   "language": "python",
   "name": "python3"
  },
  "language_info": {
   "codemirror_mode": {
    "name": "ipython",
    "version": 3
   },
   "file_extension": ".py",
   "mimetype": "text/x-python",
   "name": "python",
   "nbconvert_exporter": "python",
   "pygments_lexer": "ipython3",
   "version": "3.7.4"
  }
 },
 "nbformat": 4,
 "nbformat_minor": 1
}
