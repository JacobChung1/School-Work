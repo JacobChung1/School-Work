{
 "cells": [
  {
   "cell_type": "code",
   "execution_count": null,
   "metadata": {},
   "outputs": [],
   "source": [
    "#Study group: \n",
    "#Kuang(Steven) Li, Yuan Liu"
   ]
  },
  {
   "cell_type": "code",
   "execution_count": 2,
   "metadata": {},
   "outputs": [],
   "source": [
    "import re"
   ]
  },
  {
   "cell_type": "code",
   "execution_count": 4,
   "metadata": {},
   "outputs": [
    {
     "name": "stdout",
     "output_type": "stream",
     "text": [
      "<re.Match object; span=(10, 13), match='fun'>\n"
     ]
    }
   ],
   "source": [
    "#Find all words with length = 3\n",
    "#It will only detect words between blank or other non-words, in this case \"fun\" but not \"the\" inside the word \"otherhe \"\n",
    "#We assume words mean words that does not include any numbers or non-word characters in it\n",
    "pattern = re.compile(r'\\b[a-zA-Z]{3}\\b')\n",
    "text_to_search_1 = \"Python is fun, Python is snake\"\n",
    "matches = pattern.finditer(text_to_search_1)\n",
    "for match in matches:\n",
    "    print(match)"
   ]
  },
  {
   "cell_type": "code",
   "execution_count": 5,
   "metadata": {},
   "outputs": [
    {
     "name": "stdout",
     "output_type": "stream",
     "text": [
      "<re.Match object; span=(0, 6), match='Python'>\n",
      "<re.Match object; span=(15, 21), match='Python'>\n",
      "<re.Match object; span=(25, 30), match='snake'>\n"
     ]
    }
   ],
   "source": [
    "#Find all words of length 4 to 6 characters\n",
    "#It will only detect words between blank or other non-words, in this case \"Python\" but not \"pineapple\"\n",
    "#We assume words mean words that does not include any numbers or non-word characters in it\n",
    "pattern = re.compile(r'\\b[a-zA-Z]{4,6}\\b')\n",
    "text_to_search_1 = \"Python is fun, Python is snake and pineapple\"\n",
    "matches = pattern.finditer(text_to_search_1)\n",
    "for match in matches:\n",
    "    print(match)"
   ]
  },
  {
   "cell_type": "code",
   "execution_count": 6,
   "metadata": {},
   "outputs": [
    {
     "name": "stdout",
     "output_type": "stream",
     "text": [
      "<re.Match object; span=(25, 29), match='Joke'>\n",
      "<re.Match object; span=(44, 48), match='Jack'>\n"
     ]
    }
   ],
   "source": [
    "#Find all words that start with 'J'\n",
    "#It will only detect words that include capitalize \"J\" in the begining of that specific word, in this case \"Joke\" but \n",
    "#not \"jerry\"\n",
    "#We assume \"J\" itself does not recognize as a word, so we put \"+\" code in our code\n",
    "pattern = re.compile(r'\\bJ[a-zA-Z]+')\n",
    "text_to_search_1 = \"Python is fun, Python is Joke and jerry and Jack\"\n",
    "matches = pattern.finditer(text_to_search_1)\n",
    "for match in matches:\n",
    "    print(match)"
   ]
  },
  {
   "cell_type": "code",
   "execution_count": 7,
   "metadata": {},
   "outputs": [
    {
     "name": "stdout",
     "output_type": "stream",
     "text": [
      "<re.Match object; span=(22, 34), match='strawberries'>\n",
      "<re.Match object; span=(39, 47), match='cherries'>\n"
     ]
    }
   ],
   "source": [
    "#Find all words that ends with \"es\"\n",
    "#It will only detect words that end with \"es\" of that specific word, in this case \"cherries\" but not \"rest\"\n",
    "##We assume \"es\" itself does not recognize as a word, so we put \"+\" code in our code\n",
    "pattern = re.compile(r'\\b[a-zA-Z]+es\\b')\n",
    "text_to_search_1 = \"Python is fun, I love strawberries and cherries and rest of it I do not\"\n",
    "matches = pattern.finditer(text_to_search_1)\n",
    "for match in matches:\n",
    "    print(match)"
   ]
  },
  {
   "cell_type": "code",
   "execution_count": 15,
   "metadata": {},
   "outputs": [
    {
     "name": "stdout",
     "output_type": "stream",
     "text": [
      "<re.Match object; span=(10, 13), match='361'>\n",
      "<re.Match object; span=(13, 18), match=' -999'>\n",
      "<re.Match object; span=(23, 27), match='2019'>\n",
      "<re.Match object; span=(28, 29), match='6'>\n",
      "<re.Match object; span=(30, 31), match='1'>\n",
      "<re.Match object; span=(33, 36), match='993'>\n",
      "<re.Match object; span=(37, 38), match='9'>\n",
      "<re.Match object; span=(39, 40), match='8'>\n",
      "<re.Match object; span=(40, 45), match=' +777'>\n"
     ]
    }
   ],
   "source": [
    "#Find all signed integer numbers\n",
    "#-0 +0 does not make sense, so I made the code that it could not detect them\n",
    "#My code matches the exact result that TA provide, which are the 9 times integers appear below\n",
    "pattern = re.compile(r'\\b(?<!\\.)[0-9]+(?!\\.)|\\s[+\\-][0-9]+(?!\\.)\\b')\n",
    "text_to_search_1 = \"3.1415926 361 -999 0.1 2019 6+1 =993 9-8 +777\"\n",
    "matches = pattern.finditer(text_to_search_1)\n",
    "for match in matches:\n",
    "    print(match)"
   ]
  },
  {
   "cell_type": "code",
   "execution_count": 16,
   "metadata": {},
   "outputs": [
    {
     "name": "stdout",
     "output_type": "stream",
     "text": [
      "<re.Match object; span=(6, 10), match=' $33'>\n",
      "<re.Match object; span=(39, 44), match=' $784'>\n",
      "<re.Match object; span=(60, 66), match=' $1.34'>\n",
      "<re.Match object; span=(73, 79), match=' $38.2'>\n",
      "<re.Match object; span=(80, 86), match=' $10.3'>\n",
      "<re.Match object; span=(87, 94), match=' $10.03'>\n"
     ]
    }
   ],
   "source": [
    "#Dollar amount with optional cents\n",
    "#It will detect only numbers that make sence, in this case \"$38.2\" or \"$33\" but not \"$033\"\n",
    "pattern = re.compile(r'\\s\\$[0]\\.[0-9]*[1-9]+\\b|\\s\\$[1-9]+0*\\.?[0-9]*[1-9]+\\b')\n",
    "text_to_search_1 = \"I have $33 in my pocket, my mom give me $784, my dad give me $1.34, $033, $38.2, $10.3, $10.03\"\n",
    "matches = pattern.finditer(text_to_search_1)\n",
    "for match in matches:\n",
    "    print(match)"
   ]
  },
  {
   "cell_type": "code",
   "execution_count": 17,
   "metadata": {},
   "outputs": [
    {
     "name": "stdout",
     "output_type": "stream",
     "text": [
      "<re.Match object; span=(6, 13), match='12:15am'>\n",
      "<re.Match object; span=(55, 61), match='6:45am'>\n"
     ]
    }
   ],
   "source": [
    "#Time of the day\n",
    "#We only detect time between blanks or non-words\n",
    "#We assume the times are in 12-hr format, for instance there will be \"12:00am\" and also \"12:00pm\", but not \"0:00am\"\n",
    "#or \"0:00pm\" or \"16:00am\"\n",
    "#We also assume \"03:00am\" is the same as \"3:00am\"\n",
    "pattern = re.compile(r'\\b0?[1-9]:[0-5][0-9][ap]m\\b|\\b1[0-2]:[0-5][0-9][ap]m\\b')\n",
    "text_to_search_1 = \"It is 12:15am, I will sleep at 13:34pm, and wake up at 6:45am\"\n",
    "matches = pattern.finditer(text_to_search_1)\n",
    "for match in matches:\n",
    "    print(match)"
   ]
  },
  {
   "cell_type": "code",
   "execution_count": 18,
   "metadata": {},
   "outputs": [
    {
     "name": "stdout",
     "output_type": "stream",
     "text": [
      "<re.Match object; span=(0, 24), match='<h1>This is header </h1>'>\n"
     ]
    }
   ],
   "source": [
    "#HTML headers\n",
    "#We assume the content between the headers <h1> and </h1> will not be empty\n",
    "pattern = re.compile(r'<h1>(.+)</h1>|<h2>(.+)</h2>|<h3>(.+)</h3>|<h4>(.+)</h4>|<h5>(.+)</h5>|<h6>(.+)</h6>|<H1>(.+)</H1>|<H2>(.+)</H2>|<H3>(.+)</H3>|<H4>(.+)</H4>|<H5>(.+)</H5>|<H6>(.+)</H6>')\n",
    "text_to_search_1 = \"<h1>This is header </h1>\"\n",
    "matches = pattern.finditer(text_to_search_1)\n",
    "for match in matches:\n",
    "    print(match)"
   ]
  },
  {
   "cell_type": "code",
   "execution_count": 19,
   "metadata": {},
   "outputs": [
    {
     "name": "stdout",
     "output_type": "stream",
     "text": [
      "<re.Match object; span=(8, 30), match='http://www.goog1le.com'>\n",
      "<re.Match object; span=(34, 61), match='http://www.alphanumeric.com'>\n"
     ]
    }
   ],
   "source": [
    "#Match url only of the form of http://www.alphanumeric.com\n",
    "#We assume there could be words, non-words or numbers in between \"www.\" and \".com\"\n",
    "#We assume the content between \"www.\" and \".com\" is not empty\n",
    "pattern = re.compile(r'\\bhttp://www\\.\\w+\\.com\\b')\n",
    "text_to_search_1 = \"I am on http://www.goog1le.com or http://www.alphanumeric.com or http://uci.edu\"\n",
    "matches = pattern.finditer(text_to_search_1)\n",
    "for match in matches:\n",
    "    print(match)"
   ]
  },
  {
   "cell_type": "code",
   "execution_count": 20,
   "metadata": {},
   "outputs": [
    {
     "name": "stdout",
     "output_type": "stream",
     "text": [
      "<re.Match object; span=(12, 26), match='jaco_b@uci.edu'>\n",
      "<re.Match object; span=(48, 64), match='jacob@ad.uci.edu'>\n"
     ]
    }
   ],
   "source": [
    "#Match an email of the form username@domain (assume that the domain can be of the form alphanumeric.alphanumeric or \n",
    "#alphanumeric.alphanumeric.alphanumeric)\n",
    "#We assume username before \"@\" can consist words, \"+,-,.,_\" only these four characters and numbers only\n",
    "#We assume domain can only consist alphabets or numbers\n",
    "pattern = re.compile(r'\\b[A-Za-z0-9+\\-\\.\\_]+@\\w+(\\.[a-zA-Z0-9]+){1,2}\\b')\n",
    "text_to_search_1 = \"My email is jaco_b@uci.edu and another email is jacob@ad.uci.edu\"\n",
    "matches = pattern.finditer(text_to_search_1)\n",
    "for match in matches:\n",
    "    print(match)"
   ]
  },
  {
   "cell_type": "code",
   "execution_count": null,
   "metadata": {},
   "outputs": [],
   "source": []
  }
 ],
 "metadata": {
  "kernelspec": {
   "display_name": "Python 3",
   "language": "python",
   "name": "python3"
  },
  "language_info": {
   "codemirror_mode": {
    "name": "ipython",
    "version": 3
   },
   "file_extension": ".py",
   "mimetype": "text/x-python",
   "name": "python",
   "nbconvert_exporter": "python",
   "pygments_lexer": "ipython3",
   "version": "3.7.3"
  }
 },
 "nbformat": 4,
 "nbformat_minor": 2
}
